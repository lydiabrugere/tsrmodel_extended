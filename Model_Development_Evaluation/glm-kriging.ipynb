{
 "cells": [
  {
   "cell_type": "code",
   "execution_count": 1,
   "metadata": {},
   "outputs": [],
   "source": [
    "# Jupyter setup to expand cell display to 100% width on your screen (optional)\n",
    "# Import relevant modules and setup for calling glmnet\n",
    "%reset -f\n",
    "%matplotlib inline\n",
    "\n",
    "from sqlalchemy import create_engine\n",
    "import sys\n",
    "import pandas as pd\n",
    "import numpy as np\n",
    "import scipy, importlib, pprint, matplotlib.pyplot as plt, warnings\n",
    "from sklearn.model_selection import train_test_split\n",
    "from sklearn.preprocessing import StandardScaler\n",
    "\n",
    "from sklearn.impute import KNNImputer\n",
    "\n",
    "import statsmodels.api as sm\n",
    "import statsmodels.genmod as genmod\n",
    "from statsmodels.stats.outliers_influence import variance_inflation_factor\n",
    "from sklearn.metrics import mean_absolute_error\n",
    "\n",
    "from sklearn.base import BaseEstimator, RegressorMixin\n",
    "from sklearn.model_selection import cross_val_score\n",
    "import sklearn.model_selection as ms\n",
    "\n",
    "import statistics\n",
    "from sklearn.metrics import mean_absolute_error\n",
    "from sklearn.metrics import r2_score\n",
    "\n",
    "import warnings\n",
    "warnings.filterwarnings('ignore')\n",
    "pd.set_option('display.float_format', lambda x: '%.3f' % x)"
   ]
  },
  {
   "cell_type": "markdown",
   "metadata": {},
   "source": [
    "### Load TSR and attributes data from DB"
   ]
  },
  {
   "cell_type": "code",
   "execution_count": 2,
   "metadata": {},
   "outputs": [],
   "source": [
    "localhost = {'user': 'postgres', 'password': 'postgres', 'host': 'localhost', 'port': 5432, 'db': 'fiadb'}\n",
    "params = 'postgresql://{0}:{1}@{2}:{3}/{4}'\n",
    "engine = create_engine(params.format(localhost['user'], localhost['password'], localhost['host'], localhost['port'], localhost['db']))\n",
    "# geom_sql = \"\"\"select distinct grid_id, grid_geom from fs_fiadb.pergrid\"\"\"\n",
    "pergrid_base = \"\"\"select distinct * from predictor.pergrid_base\"\"\"\n",
    "pergrid_base_df = pd.read_sql(pergrid_base, engine)"
   ]
  },
  {
   "cell_type": "code",
   "execution_count": 3,
   "metadata": {},
   "outputs": [
    {
     "data": {
      "text/plain": [
       "Index(['grid_id', 'aet', 'ai', 'art', 'ewd', 'fa', 'map', 'mat', 'mpdq',\n",
       "       'mtcq', 'pet', 'psn', 'ra', 'rmap', 'rmat', 'tsn', 'mfdf', 'alt', 'shg',\n",
       "       'mtwq', 'wkb_geometry', 'tsr', 'wa', 'ha', 'wkt', 'lat', 'lon'],\n",
       "      dtype='object')"
      ]
     },
     "execution_count": 3,
     "metadata": {},
     "output_type": "execute_result"
    }
   ],
   "source": [
    "pergrid_base_df.columns"
   ]
  },
  {
   "cell_type": "code",
   "execution_count": 4,
   "metadata": {},
   "outputs": [],
   "source": [
    "y_true = pergrid_base_df['tsr']\n",
    "grid_id = pergrid_base_df['grid_id']"
   ]
  },
  {
   "cell_type": "code",
   "execution_count": 5,
   "metadata": {},
   "outputs": [],
   "source": [
    "var= ['grid_id', 'tsr', 'lat', 'lon', 'aet', 'ai', 'art', 'ewd', 'fa', 'map', 'mat', 'mpdq',\n",
    "       'mtcq', 'pet', 'psn', 'ra', 'rmap', 'rmat', 'tsn', 'mfdf', 'alt','shg', 'mtwq', 'wa']\n",
    "pred_var= ['aet', 'ai', 'art', 'ewd', 'fa', 'map', 'mat', 'mpdq',\n",
    "       'mtcq', 'pet', 'psn', 'ra', 'rmap', 'rmat', 'tsn', 'mfdf', 'alt','shg', 'mtwq', 'wa']"
   ]
  },
  {
   "cell_type": "code",
   "execution_count": 6,
   "metadata": {},
   "outputs": [],
   "source": [
    "pergrid_base_df = pergrid_base_df[var]"
   ]
  },
  {
   "cell_type": "markdown",
   "metadata": {},
   "source": [
    "### calculate cartesian coordinates "
   ]
  },
  {
   "cell_type": "code",
   "execution_count": 7,
   "metadata": {},
   "outputs": [],
   "source": [
    "# Converting lat/long to cartesian\n",
    "import numpy as np\n",
    "\n",
    "def get_cartesian(lat=None,lon=None):\n",
    "    lat, lon = np.deg2rad(lat), np.deg2rad(lon)\n",
    "    R = 6371 # radius of the earth\n",
    "    x = R * np.cos(lat) * np.cos(lon)\n",
    "    y = R * np.cos(lat) * np.sin(lon)\n",
    "    return x,y"
   ]
  },
  {
   "cell_type": "code",
   "execution_count": 8,
   "metadata": {},
   "outputs": [],
   "source": [
    "pergrid_base_df['x'] = 0.0\n",
    "pergrid_base_df['y'] = 0.0"
   ]
  },
  {
   "cell_type": "code",
   "execution_count": 9,
   "metadata": {},
   "outputs": [],
   "source": [
    "for i in pergrid_base_df.index:\n",
    "    lat = pergrid_base_df.at[i, 'lat']\n",
    "    lon = pergrid_base_df.at[i, 'lon']\n",
    "    x, y = get_cartesian(lat,lon)\n",
    "    \n",
    "    pergrid_base_df.at[i, 'x'] = x\n",
    "    pergrid_base_df.at[i, 'y'] = y"
   ]
  },
  {
   "cell_type": "code",
   "execution_count": 10,
   "metadata": {},
   "outputs": [
    {
     "data": {
      "text/html": [
       "<div>\n",
       "<style scoped>\n",
       "    .dataframe tbody tr th:only-of-type {\n",
       "        vertical-align: middle;\n",
       "    }\n",
       "\n",
       "    .dataframe tbody tr th {\n",
       "        vertical-align: top;\n",
       "    }\n",
       "\n",
       "    .dataframe thead th {\n",
       "        text-align: right;\n",
       "    }\n",
       "</style>\n",
       "<table border=\"1\" class=\"dataframe\">\n",
       "  <thead>\n",
       "    <tr style=\"text-align: right;\">\n",
       "      <th></th>\n",
       "      <th>grid_id</th>\n",
       "      <th>tsr</th>\n",
       "      <th>lat</th>\n",
       "      <th>lon</th>\n",
       "      <th>aet</th>\n",
       "      <th>ai</th>\n",
       "      <th>art</th>\n",
       "      <th>ewd</th>\n",
       "      <th>fa</th>\n",
       "      <th>map</th>\n",
       "      <th>...</th>\n",
       "      <th>rmap</th>\n",
       "      <th>rmat</th>\n",
       "      <th>tsn</th>\n",
       "      <th>mfdf</th>\n",
       "      <th>alt</th>\n",
       "      <th>shg</th>\n",
       "      <th>mtwq</th>\n",
       "      <th>wa</th>\n",
       "      <th>x</th>\n",
       "      <th>y</th>\n",
       "    </tr>\n",
       "  </thead>\n",
       "  <tbody>\n",
       "    <tr>\n",
       "      <th>0</th>\n",
       "      <td>110</td>\n",
       "      <td>4.000</td>\n",
       "      <td>25.933</td>\n",
       "      <td>-97.631</td>\n",
       "      <td>6000.000</td>\n",
       "      <td>0.367</td>\n",
       "      <td>21.192</td>\n",
       "      <td>-2523666.200</td>\n",
       "      <td>7.706</td>\n",
       "      <td>681.000</td>\n",
       "      <td>...</td>\n",
       "      <td>2.833</td>\n",
       "      <td>0.604</td>\n",
       "      <td>444.860</td>\n",
       "      <td>2.270</td>\n",
       "      <td>11.598</td>\n",
       "      <td>None</td>\n",
       "      <td>28.793</td>\n",
       "      <td>4.117</td>\n",
       "      <td>-760.845</td>\n",
       "      <td>-5678.742</td>\n",
       "    </tr>\n",
       "    <tr>\n",
       "      <th>1</th>\n",
       "      <td>111</td>\n",
       "      <td>2.000</td>\n",
       "      <td>25.936</td>\n",
       "      <td>-97.433</td>\n",
       "      <td>65535.000</td>\n",
       "      <td>0.383</td>\n",
       "      <td>20.234</td>\n",
       "      <td>-2537902.123</td>\n",
       "      <td>14.150</td>\n",
       "      <td>699.000</td>\n",
       "      <td>...</td>\n",
       "      <td>2.000</td>\n",
       "      <td>0.621</td>\n",
       "      <td>444.260</td>\n",
       "      <td>2.100</td>\n",
       "      <td>5.983</td>\n",
       "      <td>5</td>\n",
       "      <td>28.717</td>\n",
       "      <td>11.815</td>\n",
       "      <td>-741.219</td>\n",
       "      <td>-5681.193</td>\n",
       "    </tr>\n",
       "    <tr>\n",
       "      <th>2</th>\n",
       "      <td>195</td>\n",
       "      <td>5.000</td>\n",
       "      <td>24.834</td>\n",
       "      <td>-80.943</td>\n",
       "      <td>65535.000</td>\n",
       "      <td>nan</td>\n",
       "      <td>0.164</td>\n",
       "      <td>-524.709</td>\n",
       "      <td>0.071</td>\n",
       "      <td>1148.500</td>\n",
       "      <td>...</td>\n",
       "      <td>1.833</td>\n",
       "      <td>0.242</td>\n",
       "      <td>3.699</td>\n",
       "      <td>nan</td>\n",
       "      <td>0.012</td>\n",
       "      <td>None</td>\n",
       "      <td>28.626</td>\n",
       "      <td>302.905</td>\n",
       "      <td>910.198</td>\n",
       "      <td>-5709.793</td>\n",
       "    </tr>\n",
       "    <tr>\n",
       "      <th>3</th>\n",
       "      <td>337</td>\n",
       "      <td>1.000</td>\n",
       "      <td>26.099</td>\n",
       "      <td>-98.427</td>\n",
       "      <td>5135.000</td>\n",
       "      <td>0.290</td>\n",
       "      <td>23.950</td>\n",
       "      <td>-2941595.415</td>\n",
       "      <td>3.004</td>\n",
       "      <td>565.000</td>\n",
       "      <td>...</td>\n",
       "      <td>2.333</td>\n",
       "      <td>0.392</td>\n",
       "      <td>492.281</td>\n",
       "      <td>2.120</td>\n",
       "      <td>61.887</td>\n",
       "      <td>None</td>\n",
       "      <td>29.459</td>\n",
       "      <td>1.253</td>\n",
       "      <td>-838.474</td>\n",
       "      <td>-5659.588</td>\n",
       "    </tr>\n",
       "    <tr>\n",
       "      <th>4</th>\n",
       "      <td>338</td>\n",
       "      <td>1.000</td>\n",
       "      <td>26.104</td>\n",
       "      <td>-98.229</td>\n",
       "      <td>5645.000</td>\n",
       "      <td>0.302</td>\n",
       "      <td>23.526</td>\n",
       "      <td>-2959517.411</td>\n",
       "      <td>10.035</td>\n",
       "      <td>580.000</td>\n",
       "      <td>...</td>\n",
       "      <td>3.417</td>\n",
       "      <td>0.621</td>\n",
       "      <td>489.587</td>\n",
       "      <td>2.120</td>\n",
       "      <td>32.271</td>\n",
       "      <td>5</td>\n",
       "      <td>29.300</td>\n",
       "      <td>4.248</td>\n",
       "      <td>-818.867</td>\n",
       "      <td>-5662.238</td>\n",
       "    </tr>\n",
       "  </tbody>\n",
       "</table>\n",
       "<p>5 rows × 26 columns</p>\n",
       "</div>"
      ],
      "text/plain": [
       "   grid_id   tsr    lat     lon       aet    ai    art          ewd     fa  \\\n",
       "0      110 4.000 25.933 -97.631  6000.000 0.367 21.192 -2523666.200  7.706   \n",
       "1      111 2.000 25.936 -97.433 65535.000 0.383 20.234 -2537902.123 14.150   \n",
       "2      195 5.000 24.834 -80.943 65535.000   nan  0.164     -524.709  0.071   \n",
       "3      337 1.000 26.099 -98.427  5135.000 0.290 23.950 -2941595.415  3.004   \n",
       "4      338 1.000 26.104 -98.229  5645.000 0.302 23.526 -2959517.411 10.035   \n",
       "\n",
       "       map  ...  rmap  rmat     tsn  mfdf    alt   shg   mtwq      wa  \\\n",
       "0  681.000  ... 2.833 0.604 444.860 2.270 11.598  None 28.793   4.117   \n",
       "1  699.000  ... 2.000 0.621 444.260 2.100  5.983     5 28.717  11.815   \n",
       "2 1148.500  ... 1.833 0.242   3.699   nan  0.012  None 28.626 302.905   \n",
       "3  565.000  ... 2.333 0.392 492.281 2.120 61.887  None 29.459   1.253   \n",
       "4  580.000  ... 3.417 0.621 489.587 2.120 32.271     5 29.300   4.248   \n",
       "\n",
       "         x         y  \n",
       "0 -760.845 -5678.742  \n",
       "1 -741.219 -5681.193  \n",
       "2  910.198 -5709.793  \n",
       "3 -838.474 -5659.588  \n",
       "4 -818.867 -5662.238  \n",
       "\n",
       "[5 rows x 26 columns]"
      ]
     },
     "execution_count": 10,
     "metadata": {},
     "output_type": "execute_result"
    }
   ],
   "source": [
    "pergrid_base_df.head()"
   ]
  },
  {
   "cell_type": "code",
   "execution_count": 11,
   "metadata": {},
   "outputs": [],
   "source": [
    "var_coord = ['grid_id', 'tsr', 'lat', 'lon', 'x', 'y', 'aet', 'ai', 'art', 'ewd', 'fa', 'map',\n",
    "       'mat', 'mpdq', 'mtcq', 'pet', 'psn', 'ra', 'rmap', 'rmat', 'tsn',\n",
    "       'mfdf', 'alt', 'shg', 'mtwq', 'wa']"
   ]
  },
  {
   "cell_type": "markdown",
   "metadata": {},
   "source": [
    "### fill NA and split data"
   ]
  },
  {
   "cell_type": "code",
   "execution_count": 12,
   "metadata": {},
   "outputs": [],
   "source": [
    "imputer = KNNImputer(n_neighbors=5)\n",
    "pergrid_base_df_filled = imputer.fit_transform(pergrid_base_df)\n",
    "pergrid_base_df = pd.DataFrame(pergrid_base_df_filled)\n",
    "\n",
    "# standarize predictors\n",
    "ss = StandardScaler(with_mean=False, with_std=False)\n",
    "pergrid_base_df_std = ss.fit_transform(pergrid_base_df)\n",
    "\n",
    "pergrid_base_df_std=pd.DataFrame(data=pergrid_base_df_std[0:,0:],\n",
    "                index=pergrid_base_df.index,\n",
    "                columns=var_coord)"
   ]
  },
  {
   "cell_type": "code",
   "execution_count": 14,
   "metadata": {},
   "outputs": [
    {
     "data": {
      "text/html": [
       "<div>\n",
       "<style scoped>\n",
       "    .dataframe tbody tr th:only-of-type {\n",
       "        vertical-align: middle;\n",
       "    }\n",
       "\n",
       "    .dataframe tbody tr th {\n",
       "        vertical-align: top;\n",
       "    }\n",
       "\n",
       "    .dataframe thead th {\n",
       "        text-align: right;\n",
       "    }\n",
       "</style>\n",
       "<table border=\"1\" class=\"dataframe\">\n",
       "  <thead>\n",
       "    <tr style=\"text-align: right;\">\n",
       "      <th></th>\n",
       "      <th>grid_id</th>\n",
       "      <th>tsr</th>\n",
       "      <th>lat</th>\n",
       "      <th>lon</th>\n",
       "      <th>x</th>\n",
       "      <th>y</th>\n",
       "      <th>aet</th>\n",
       "      <th>ai</th>\n",
       "      <th>art</th>\n",
       "      <th>ewd</th>\n",
       "      <th>...</th>\n",
       "      <th>psn</th>\n",
       "      <th>ra</th>\n",
       "      <th>rmap</th>\n",
       "      <th>rmat</th>\n",
       "      <th>tsn</th>\n",
       "      <th>mfdf</th>\n",
       "      <th>alt</th>\n",
       "      <th>shg</th>\n",
       "      <th>mtwq</th>\n",
       "      <th>wa</th>\n",
       "    </tr>\n",
       "  </thead>\n",
       "  <tbody>\n",
       "    <tr>\n",
       "      <th>0</th>\n",
       "      <td>110.000</td>\n",
       "      <td>4.000</td>\n",
       "      <td>25.933</td>\n",
       "      <td>-97.631</td>\n",
       "      <td>6000.000</td>\n",
       "      <td>0.367</td>\n",
       "      <td>21.192</td>\n",
       "      <td>-2523666.200</td>\n",
       "      <td>7.706</td>\n",
       "      <td>681.000</td>\n",
       "      <td>...</td>\n",
       "      <td>2.833</td>\n",
       "      <td>0.604</td>\n",
       "      <td>444.860</td>\n",
       "      <td>2.270</td>\n",
       "      <td>11.598</td>\n",
       "      <td>4.600</td>\n",
       "      <td>28.793</td>\n",
       "      <td>4.117</td>\n",
       "      <td>-760.845</td>\n",
       "      <td>-5678.742</td>\n",
       "    </tr>\n",
       "    <tr>\n",
       "      <th>1</th>\n",
       "      <td>111.000</td>\n",
       "      <td>2.000</td>\n",
       "      <td>25.936</td>\n",
       "      <td>-97.433</td>\n",
       "      <td>65535.000</td>\n",
       "      <td>0.383</td>\n",
       "      <td>20.234</td>\n",
       "      <td>-2537902.123</td>\n",
       "      <td>14.150</td>\n",
       "      <td>699.000</td>\n",
       "      <td>...</td>\n",
       "      <td>2.000</td>\n",
       "      <td>0.621</td>\n",
       "      <td>444.260</td>\n",
       "      <td>2.100</td>\n",
       "      <td>5.983</td>\n",
       "      <td>5.000</td>\n",
       "      <td>28.717</td>\n",
       "      <td>11.815</td>\n",
       "      <td>-741.219</td>\n",
       "      <td>-5681.193</td>\n",
       "    </tr>\n",
       "  </tbody>\n",
       "</table>\n",
       "<p>2 rows × 26 columns</p>\n",
       "</div>"
      ],
      "text/plain": [
       "   grid_id   tsr    lat     lon         x     y    aet           ai    art  \\\n",
       "0  110.000 4.000 25.933 -97.631  6000.000 0.367 21.192 -2523666.200  7.706   \n",
       "1  111.000 2.000 25.936 -97.433 65535.000 0.383 20.234 -2537902.123 14.150   \n",
       "\n",
       "      ewd  ...   psn    ra    rmap  rmat    tsn  mfdf    alt    shg     mtwq  \\\n",
       "0 681.000  ... 2.833 0.604 444.860 2.270 11.598 4.600 28.793  4.117 -760.845   \n",
       "1 699.000  ... 2.000 0.621 444.260 2.100  5.983 5.000 28.717 11.815 -741.219   \n",
       "\n",
       "         wa  \n",
       "0 -5678.742  \n",
       "1 -5681.193  \n",
       "\n",
       "[2 rows x 26 columns]"
      ]
     },
     "execution_count": 14,
     "metadata": {},
     "output_type": "execute_result"
    }
   ],
   "source": [
    "pergrid_base_df_std.head(2)"
   ]
  },
  {
   "cell_type": "code",
   "execution_count": 15,
   "metadata": {},
   "outputs": [],
   "source": [
    "pergrid_base_df_test = pergrid_base_df_std.sample(frac=0.2, replace=False, random_state=1)\n",
    "pergrid_base_df_train = pergrid_base_df_std.drop(pergrid_base_df_test.index)"
   ]
  },
  {
   "cell_type": "markdown",
   "metadata": {},
   "source": [
    "## Build GLM Model"
   ]
  },
  {
   "cell_type": "code",
   "execution_count": 16,
   "metadata": {},
   "outputs": [],
   "source": [
    "poisson_model = sm.GLM(pergrid_base_df_std['tsr'], pergrid_base_df_std[pred_var],family=sm.families.Poisson())"
   ]
  },
  {
   "cell_type": "code",
   "execution_count": 17,
   "metadata": {},
   "outputs": [],
   "source": [
    "poisson_results = poisson_model.fit()"
   ]
  },
  {
   "cell_type": "code",
   "execution_count": 18,
   "metadata": {},
   "outputs": [
    {
     "name": "stdout",
     "output_type": "stream",
     "text": [
      "                 Generalized Linear Model Regression Results                  \n",
      "==============================================================================\n",
      "Dep. Variable:                    tsr   No. Observations:                15310\n",
      "Model:                            GLM   Df Residuals:                    15290\n",
      "Model Family:                 Poisson   Df Model:                           19\n",
      "Link Function:                    log   Scale:                          1.0000\n",
      "Method:                          IRLS   Log-Likelihood:                -47486.\n",
      "Date:                Sat, 23 Jan 2021   Deviance:                       30795.\n",
      "Time:                        15:00:19   Pearson chi2:                 2.98e+04\n",
      "No. Iterations:                     6                                         \n",
      "Covariance Type:            nonrobust                                         \n",
      "==============================================================================\n",
      "                 coef    std err          z      P>|z|      [0.025      0.975]\n",
      "------------------------------------------------------------------------------\n",
      "aet            0.0939      0.004     26.475      0.000       0.087       0.101\n",
      "ai          6.518e-07   1.89e-08     34.405      0.000    6.15e-07    6.89e-07\n",
      "art            0.0027   2.91e-05     93.326      0.000       0.003       0.003\n",
      "ewd            0.0004   1.81e-05     19.763      0.000       0.000       0.000\n",
      "fa             0.0568      0.005     11.785      0.000       0.047       0.066\n",
      "map           -0.0009      0.000     -8.327      0.000      -0.001      -0.001\n",
      "mat            0.0348      0.003     10.087      0.000       0.028       0.042\n",
      "mpdq           0.0002   5.41e-05      3.369      0.001    7.63e-05       0.000\n",
      "mtcq          -0.0100      0.000    -23.178      0.000      -0.011      -0.009\n",
      "pet           -0.0002   2.75e-05     -6.250      0.000      -0.000      -0.000\n",
      "psn           -0.0010      0.000     -3.650      0.000      -0.002      -0.000\n",
      "ra             0.1111      0.005     20.769      0.000       0.101       0.122\n",
      "rmap          -0.0010      0.000     -6.904      0.000      -0.001      -0.001\n",
      "rmat           0.0098      0.001      6.834      0.000       0.007       0.013\n",
      "tsn           -0.0006   1.68e-05    -36.112      0.000      -0.001      -0.001\n",
      "mfdf          -0.0064      0.001     -5.769      0.000      -0.009      -0.004\n",
      "alt           -0.0776      0.005    -16.857      0.000      -0.087      -0.069\n",
      "shg            0.0003   7.26e-05      3.667      0.000       0.000       0.000\n",
      "mtwq           0.0001   5.36e-06     18.842      0.000    9.05e-05       0.000\n",
      "wa            -0.0005   1.46e-05    -32.705      0.000      -0.001      -0.000\n",
      "==============================================================================\n"
     ]
    }
   ],
   "source": [
    "print(poisson_results.summary())"
   ]
  },
  {
   "cell_type": "code",
   "execution_count": 19,
   "metadata": {},
   "outputs": [],
   "source": [
    "params_df = poisson_results.params\n",
    "params_df = params_df.to_frame()"
   ]
  },
  {
   "cell_type": "code",
   "execution_count": 20,
   "metadata": {},
   "outputs": [],
   "source": [
    "params_df['var'] = params_df.index"
   ]
  },
  {
   "cell_type": "code",
   "execution_count": 21,
   "metadata": {},
   "outputs": [],
   "source": [
    "params_df.columns = ['coefficent','var']"
   ]
  },
  {
   "cell_type": "code",
   "execution_count": 22,
   "metadata": {},
   "outputs": [
    {
     "data": {
      "text/html": [
       "<div>\n",
       "<style scoped>\n",
       "    .dataframe tbody tr th:only-of-type {\n",
       "        vertical-align: middle;\n",
       "    }\n",
       "\n",
       "    .dataframe tbody tr th {\n",
       "        vertical-align: top;\n",
       "    }\n",
       "\n",
       "    .dataframe thead th {\n",
       "        text-align: right;\n",
       "    }\n",
       "</style>\n",
       "<table border=\"1\" class=\"dataframe\">\n",
       "  <thead>\n",
       "    <tr style=\"text-align: right;\">\n",
       "      <th></th>\n",
       "      <th>coefficent</th>\n",
       "      <th>var</th>\n",
       "      <th>coefficent_abs</th>\n",
       "    </tr>\n",
       "  </thead>\n",
       "  <tbody>\n",
       "    <tr>\n",
       "      <th>ra</th>\n",
       "      <td>0.111</td>\n",
       "      <td>ra</td>\n",
       "      <td>0.111</td>\n",
       "    </tr>\n",
       "    <tr>\n",
       "      <th>aet</th>\n",
       "      <td>0.094</td>\n",
       "      <td>aet</td>\n",
       "      <td>0.094</td>\n",
       "    </tr>\n",
       "    <tr>\n",
       "      <th>alt</th>\n",
       "      <td>-0.078</td>\n",
       "      <td>alt</td>\n",
       "      <td>0.078</td>\n",
       "    </tr>\n",
       "    <tr>\n",
       "      <th>fa</th>\n",
       "      <td>0.057</td>\n",
       "      <td>fa</td>\n",
       "      <td>0.057</td>\n",
       "    </tr>\n",
       "    <tr>\n",
       "      <th>mat</th>\n",
       "      <td>0.035</td>\n",
       "      <td>mat</td>\n",
       "      <td>0.035</td>\n",
       "    </tr>\n",
       "    <tr>\n",
       "      <th>mtcq</th>\n",
       "      <td>-0.010</td>\n",
       "      <td>mtcq</td>\n",
       "      <td>0.010</td>\n",
       "    </tr>\n",
       "    <tr>\n",
       "      <th>rmat</th>\n",
       "      <td>0.010</td>\n",
       "      <td>rmat</td>\n",
       "      <td>0.010</td>\n",
       "    </tr>\n",
       "    <tr>\n",
       "      <th>mfdf</th>\n",
       "      <td>-0.006</td>\n",
       "      <td>mfdf</td>\n",
       "      <td>0.006</td>\n",
       "    </tr>\n",
       "    <tr>\n",
       "      <th>art</th>\n",
       "      <td>0.003</td>\n",
       "      <td>art</td>\n",
       "      <td>0.003</td>\n",
       "    </tr>\n",
       "    <tr>\n",
       "      <th>rmap</th>\n",
       "      <td>-0.001</td>\n",
       "      <td>rmap</td>\n",
       "      <td>0.001</td>\n",
       "    </tr>\n",
       "    <tr>\n",
       "      <th>psn</th>\n",
       "      <td>-0.001</td>\n",
       "      <td>psn</td>\n",
       "      <td>0.001</td>\n",
       "    </tr>\n",
       "    <tr>\n",
       "      <th>map</th>\n",
       "      <td>-0.001</td>\n",
       "      <td>map</td>\n",
       "      <td>0.001</td>\n",
       "    </tr>\n",
       "    <tr>\n",
       "      <th>tsn</th>\n",
       "      <td>-0.001</td>\n",
       "      <td>tsn</td>\n",
       "      <td>0.001</td>\n",
       "    </tr>\n",
       "    <tr>\n",
       "      <th>wa</th>\n",
       "      <td>-0.000</td>\n",
       "      <td>wa</td>\n",
       "      <td>0.000</td>\n",
       "    </tr>\n",
       "    <tr>\n",
       "      <th>ewd</th>\n",
       "      <td>0.000</td>\n",
       "      <td>ewd</td>\n",
       "      <td>0.000</td>\n",
       "    </tr>\n",
       "    <tr>\n",
       "      <th>shg</th>\n",
       "      <td>0.000</td>\n",
       "      <td>shg</td>\n",
       "      <td>0.000</td>\n",
       "    </tr>\n",
       "    <tr>\n",
       "      <th>mpdq</th>\n",
       "      <td>0.000</td>\n",
       "      <td>mpdq</td>\n",
       "      <td>0.000</td>\n",
       "    </tr>\n",
       "    <tr>\n",
       "      <th>pet</th>\n",
       "      <td>-0.000</td>\n",
       "      <td>pet</td>\n",
       "      <td>0.000</td>\n",
       "    </tr>\n",
       "    <tr>\n",
       "      <th>mtwq</th>\n",
       "      <td>0.000</td>\n",
       "      <td>mtwq</td>\n",
       "      <td>0.000</td>\n",
       "    </tr>\n",
       "    <tr>\n",
       "      <th>ai</th>\n",
       "      <td>0.000</td>\n",
       "      <td>ai</td>\n",
       "      <td>0.000</td>\n",
       "    </tr>\n",
       "  </tbody>\n",
       "</table>\n",
       "</div>"
      ],
      "text/plain": [
       "      coefficent   var  coefficent_abs\n",
       "ra         0.111    ra           0.111\n",
       "aet        0.094   aet           0.094\n",
       "alt       -0.078   alt           0.078\n",
       "fa         0.057    fa           0.057\n",
       "mat        0.035   mat           0.035\n",
       "mtcq      -0.010  mtcq           0.010\n",
       "rmat       0.010  rmat           0.010\n",
       "mfdf      -0.006  mfdf           0.006\n",
       "art        0.003   art           0.003\n",
       "rmap      -0.001  rmap           0.001\n",
       "psn       -0.001   psn           0.001\n",
       "map       -0.001   map           0.001\n",
       "tsn       -0.001   tsn           0.001\n",
       "wa        -0.000    wa           0.000\n",
       "ewd        0.000   ewd           0.000\n",
       "shg        0.000   shg           0.000\n",
       "mpdq       0.000  mpdq           0.000\n",
       "pet       -0.000   pet           0.000\n",
       "mtwq       0.000  mtwq           0.000\n",
       "ai         0.000    ai           0.000"
      ]
     },
     "execution_count": 22,
     "metadata": {},
     "output_type": "execute_result"
    }
   ],
   "source": [
    "params_df['coefficent_abs'] = abs(params_df['coefficent'])\n",
    "params_df.sort_values(by='coefficent_abs', ascending=False)"
   ]
  },
  {
   "cell_type": "code",
   "execution_count": 23,
   "metadata": {},
   "outputs": [],
   "source": [
    "# # null hypothesis: predictors have no effect; A low p-value (< 0.05) indicates that the null hypothesis can be rejected\n",
    "# print(\"P values of predictors: \")\n",
    "# print(poisson_results.pvalues.sort_values(ascending=True))"
   ]
  },
  {
   "cell_type": "code",
   "execution_count": 24,
   "metadata": {},
   "outputs": [
    {
     "name": "stdout",
     "output_type": "stream",
     "text": [
      "Predictors which are not statistically significant:\n",
      "Series([], dtype: float64)\n"
     ]
    }
   ],
   "source": [
    "print(\"Predictors which are not statistically significant:\")\n",
    "print(poisson_results.pvalues[poisson_results.pvalues > 0.05])"
   ]
  },
  {
   "cell_type": "markdown",
   "metadata": {},
   "source": [
    "### Evaluation"
   ]
  },
  {
   "cell_type": "code",
   "execution_count": 28,
   "metadata": {},
   "outputs": [
    {
     "name": "stdout",
     "output_type": "stream",
     "text": [
      "R-squared (% Deviance explained): 80.8821377845158\n"
     ]
    }
   ],
   "source": [
    "perc_dev_explained_all = (1 - (poisson_results.deviance/poisson_results.null_deviance))*100\n",
    "print(\"R-squared (% Deviance explained): {}\".format(perc_dev_explained_all))"
   ]
  },
  {
   "cell_type": "markdown",
   "metadata": {},
   "source": [
    "## Build Cross-validation GLM Model"
   ]
  },
  {
   "cell_type": "code",
   "execution_count": 29,
   "metadata": {},
   "outputs": [],
   "source": [
    "class SMWrapper(BaseEstimator, RegressorMixin):\n",
    "    \"\"\" A universal sklearn-style wrapper for statsmodels GLM w/ Possion \"\"\"\n",
    "    def __init__(self, model_class, fit_intercept=True):\n",
    "        self.model_class = model_class\n",
    "        self.fit_intercept = fit_intercept\n",
    "    def fit(self, X, y):\n",
    "        if self.fit_intercept:\n",
    "            X = sm.add_constant(X)\n",
    "        self.model_ = self.model_class(y, X, sm.families.Poisson())\n",
    "        self.results_ = self.model_.fit()\n",
    "    def predict(self, X):\n",
    "        if self.fit_intercept:\n",
    "            X = sm.add_constant(X)\n",
    "        return self.results_.predict(X)"
   ]
  },
  {
   "cell_type": "code",
   "execution_count": 30,
   "metadata": {},
   "outputs": [],
   "source": [
    "wrapped_possion_glm = SMWrapper(sm.GLM)"
   ]
  },
  {
   "cell_type": "code",
   "execution_count": 31,
   "metadata": {},
   "outputs": [],
   "source": [
    "wrapped_possion_glm.fit(pergrid_base_df_std[pred_var],pergrid_base_df_std['tsr'])"
   ]
  },
  {
   "cell_type": "code",
   "execution_count": 32,
   "metadata": {},
   "outputs": [
    {
     "name": "stdout",
     "output_type": "stream",
     "text": [
      "Cross-validated R2: \n"
     ]
    },
    {
     "data": {
      "text/plain": [
       "0.8135840860442178"
      ]
     },
     "execution_count": 32,
     "metadata": {},
     "output_type": "execute_result"
    }
   ],
   "source": [
    "r2_cross_val = cross_val_score(wrapped_possion_glm, pergrid_base_df_std[pred_var], pergrid_base_df_std['tsr'], scoring='r2', cv = ms.StratifiedKFold(n_splits=10, shuffle = True))\n",
    "print(\"Cross-validated R2: \",)\n",
    "statistics.mean(r2_cross_val.tolist())"
   ]
  },
  {
   "cell_type": "markdown",
   "metadata": {},
   "source": [
    "### calculate residual"
   ]
  },
  {
   "cell_type": "code",
   "execution_count": 33,
   "metadata": {},
   "outputs": [],
   "source": [
    "test_df = pergrid_base_df_test[['grid_id', 'tsr', 'lat', 'lon', 'x', 'y']]\n",
    "test_df['predicted_tsr'] = wrapped_possion_glm.predict(pergrid_base_df_test[pred_var])\n",
    "test_residual =  test_df['predicted_tsr'] - test_df['tsr']\n",
    "test_df['residual'] = test_residual.tolist()"
   ]
  },
  {
   "cell_type": "code",
   "execution_count": 38,
   "metadata": {},
   "outputs": [],
   "source": [
    "train_df = pergrid_base_df_train[['grid_id', 'tsr', 'lat', 'lon', 'x', 'y']]\n",
    "train_df['predicted_tsr'] = wrapped_possion_glm.predict(pergrid_base_df_train[pred_var])\n",
    "train_residual =  train_df['predicted_tsr'] - train_df['tsr']\n",
    "train_df['residual'] = train_residual.tolist()"
   ]
  },
  {
   "cell_type": "markdown",
   "metadata": {},
   "source": [
    "### kriging"
   ]
  },
  {
   "cell_type": "code",
   "execution_count": 40,
   "metadata": {},
   "outputs": [],
   "source": [
    "import numpy as np\n",
    "import pykrige.kriging_tools as kt\n",
    "from pykrige.ok import OrdinaryKriging\n",
    "import matplotlib.pyplot as plt"
   ]
  },
  {
   "cell_type": "code",
   "execution_count": 42,
   "metadata": {},
   "outputs": [],
   "source": [
    "OK = OrdinaryKriging(\n",
    "    x=train_df['x'], #'lon'\n",
    "    y=train_df['y'], # 'lat'\n",
    "    z=train_df['residual'],\n",
    "    coordinates_type='euclidean', #'geographic'\n",
    "    variogram_model=\"linear\",\n",
    "    verbose=False,\n",
    "    enable_statistics=False\n",
    ")"
   ]
  },
  {
   "cell_type": "code",
   "execution_count": 43,
   "metadata": {},
   "outputs": [],
   "source": [
    "predict_value_list, ss = OK.execute(\"points\", test_df['x'], test_df['y'])"
   ]
  },
  {
   "cell_type": "code",
   "execution_count": 44,
   "metadata": {},
   "outputs": [],
   "source": [
    "test_df['residual_kriging'] = predict_value_list"
   ]
  },
  {
   "cell_type": "code",
   "execution_count": 45,
   "metadata": {},
   "outputs": [],
   "source": [
    "test_df['predicted_tsr_kriging'] = test_df['predicted_tsr'] + test_df['residual_kriging']"
   ]
  },
  {
   "cell_type": "markdown",
   "metadata": {},
   "source": [
    "## Model Prediction"
   ]
  },
  {
   "cell_type": "code",
   "execution_count": 46,
   "metadata": {},
   "outputs": [],
   "source": [
    "from sklearn.metrics import mean_absolute_error\n",
    "from sklearn.metrics import r2_score"
   ]
  },
  {
   "cell_type": "code",
   "execution_count": 48,
   "metadata": {},
   "outputs": [
    {
     "data": {
      "text/html": [
       "<div>\n",
       "<style scoped>\n",
       "    .dataframe tbody tr th:only-of-type {\n",
       "        vertical-align: middle;\n",
       "    }\n",
       "\n",
       "    .dataframe tbody tr th {\n",
       "        vertical-align: top;\n",
       "    }\n",
       "\n",
       "    .dataframe thead th {\n",
       "        text-align: right;\n",
       "    }\n",
       "</style>\n",
       "<table border=\"1\" class=\"dataframe\">\n",
       "  <thead>\n",
       "    <tr style=\"text-align: right;\">\n",
       "      <th></th>\n",
       "      <th>grid_id</th>\n",
       "      <th>tsr</th>\n",
       "      <th>lat</th>\n",
       "      <th>lon</th>\n",
       "      <th>x</th>\n",
       "      <th>y</th>\n",
       "      <th>predicted_tsr</th>\n",
       "      <th>residual</th>\n",
       "      <th>residual_kriging</th>\n",
       "      <th>predicted_tsr_kriging</th>\n",
       "    </tr>\n",
       "  </thead>\n",
       "  <tbody>\n",
       "    <tr>\n",
       "      <th>2158</th>\n",
       "      <td>8613.000</td>\n",
       "      <td>2.000</td>\n",
       "      <td>32.078</td>\n",
       "      <td>-107.147</td>\n",
       "      <td>892.000</td>\n",
       "      <td>0.104</td>\n",
       "      <td>1.545</td>\n",
       "      <td>-0.455</td>\n",
       "      <td>0.393</td>\n",
       "      <td>1.938</td>\n",
       "    </tr>\n",
       "    <tr>\n",
       "      <th>2123</th>\n",
       "      <td>8489.000</td>\n",
       "      <td>23.000</td>\n",
       "      <td>31.846</td>\n",
       "      <td>-84.349</td>\n",
       "      <td>5835.000</td>\n",
       "      <td>0.787</td>\n",
       "      <td>22.670</td>\n",
       "      <td>-0.330</td>\n",
       "      <td>-0.053</td>\n",
       "      <td>22.617</td>\n",
       "    </tr>\n",
       "    <tr>\n",
       "      <th>7905</th>\n",
       "      <td>17690.000</td>\n",
       "      <td>18.000</td>\n",
       "      <td>39.542</td>\n",
       "      <td>-92.299</td>\n",
       "      <td>6204.000</td>\n",
       "      <td>0.758</td>\n",
       "      <td>18.858</td>\n",
       "      <td>0.858</td>\n",
       "      <td>0.029</td>\n",
       "      <td>18.887</td>\n",
       "    </tr>\n",
       "    <tr>\n",
       "      <th>10586</th>\n",
       "      <td>21879.000</td>\n",
       "      <td>19.000</td>\n",
       "      <td>42.309</td>\n",
       "      <td>-84.556</td>\n",
       "      <td>6103.000</td>\n",
       "      <td>0.757</td>\n",
       "      <td>17.176</td>\n",
       "      <td>-1.824</td>\n",
       "      <td>0.025</td>\n",
       "      <td>17.201</td>\n",
       "    </tr>\n",
       "    <tr>\n",
       "      <th>6617</th>\n",
       "      <td>15787.000</td>\n",
       "      <td>13.000</td>\n",
       "      <td>37.837</td>\n",
       "      <td>-105.017</td>\n",
       "      <td>2770.000</td>\n",
       "      <td>0.316</td>\n",
       "      <td>8.897</td>\n",
       "      <td>-4.103</td>\n",
       "      <td>0.235</td>\n",
       "      <td>9.131</td>\n",
       "    </tr>\n",
       "  </tbody>\n",
       "</table>\n",
       "</div>"
      ],
      "text/plain": [
       "        grid_id    tsr    lat      lon        x     y  predicted_tsr  \\\n",
       "2158   8613.000  2.000 32.078 -107.147  892.000 0.104          1.545   \n",
       "2123   8489.000 23.000 31.846  -84.349 5835.000 0.787         22.670   \n",
       "7905  17690.000 18.000 39.542  -92.299 6204.000 0.758         18.858   \n",
       "10586 21879.000 19.000 42.309  -84.556 6103.000 0.757         17.176   \n",
       "6617  15787.000 13.000 37.837 -105.017 2770.000 0.316          8.897   \n",
       "\n",
       "       residual  residual_kriging  predicted_tsr_kriging  \n",
       "2158     -0.455             0.393                  1.938  \n",
       "2123     -0.330            -0.053                 22.617  \n",
       "7905      0.858             0.029                 18.887  \n",
       "10586    -1.824             0.025                 17.201  \n",
       "6617     -4.103             0.235                  9.131  "
      ]
     },
     "execution_count": 48,
     "metadata": {},
     "output_type": "execute_result"
    }
   ],
   "source": [
    "test_df.head()"
   ]
  },
  {
   "cell_type": "code",
   "execution_count": 49,
   "metadata": {},
   "outputs": [
    {
     "name": "stdout",
     "output_type": "stream",
     "text": [
      "test MAE 4.169709495258144\n",
      "test r2 0.8138277897282293\n"
     ]
    }
   ],
   "source": [
    "print('test MAE', mean_absolute_error(test_df['predicted_tsr'], test_df['tsr']))\n",
    "print('test r2', r2_score(test_df['tsr'], test_df['predicted_tsr']))"
   ]
  },
  {
   "cell_type": "code",
   "execution_count": 50,
   "metadata": {},
   "outputs": [
    {
     "name": "stdout",
     "output_type": "stream",
     "text": [
      "test MAE 4.317353164768281\n",
      "test r2 0.7985889798781045\n"
     ]
    }
   ],
   "source": [
    "print('test MAE', mean_absolute_error(test_df['predicted_tsr_kriging'], test_df['tsr']))\n",
    "print('test r2', r2_score(test_df['tsr'], test_df['predicted_tsr_kriging']))"
   ]
  },
  {
   "cell_type": "code",
   "execution_count": null,
   "metadata": {},
   "outputs": [],
   "source": []
  },
  {
   "cell_type": "code",
   "execution_count": 27,
   "metadata": {},
   "outputs": [],
   "source": [
    "pergrid_all_predicted = pd.DataFrame(\n",
    "    {'grid_id': grid_id,\n",
    "     'tsr': y,\n",
    "     'tsr_predicted': Y_pred.tolist()})"
   ]
  },
  {
   "cell_type": "code",
   "execution_count": 28,
   "metadata": {},
   "outputs": [
    {
     "data": {
      "text/html": [
       "<div>\n",
       "<style scoped>\n",
       "    .dataframe tbody tr th:only-of-type {\n",
       "        vertical-align: middle;\n",
       "    }\n",
       "\n",
       "    .dataframe tbody tr th {\n",
       "        vertical-align: top;\n",
       "    }\n",
       "\n",
       "    .dataframe thead th {\n",
       "        text-align: right;\n",
       "    }\n",
       "</style>\n",
       "<table border=\"1\" class=\"dataframe\">\n",
       "  <thead>\n",
       "    <tr style=\"text-align: right;\">\n",
       "      <th></th>\n",
       "      <th>grid_id</th>\n",
       "      <th>tsr</th>\n",
       "      <th>tsr_predicted</th>\n",
       "    </tr>\n",
       "  </thead>\n",
       "  <tbody>\n",
       "    <tr>\n",
       "      <th>0</th>\n",
       "      <td>110</td>\n",
       "      <td>4.0</td>\n",
       "      <td>6.236435</td>\n",
       "    </tr>\n",
       "    <tr>\n",
       "      <th>1</th>\n",
       "      <td>111</td>\n",
       "      <td>2.0</td>\n",
       "      <td>5.930308</td>\n",
       "    </tr>\n",
       "    <tr>\n",
       "      <th>2</th>\n",
       "      <td>195</td>\n",
       "      <td>5.0</td>\n",
       "      <td>4.747933</td>\n",
       "    </tr>\n",
       "    <tr>\n",
       "      <th>3</th>\n",
       "      <td>337</td>\n",
       "      <td>1.0</td>\n",
       "      <td>5.229746</td>\n",
       "    </tr>\n",
       "    <tr>\n",
       "      <th>4</th>\n",
       "      <td>338</td>\n",
       "      <td>1.0</td>\n",
       "      <td>5.672630</td>\n",
       "    </tr>\n",
       "  </tbody>\n",
       "</table>\n",
       "</div>"
      ],
      "text/plain": [
       "   grid_id  tsr  tsr_predicted\n",
       "0      110  4.0       6.236435\n",
       "1      111  2.0       5.930308\n",
       "2      195  5.0       4.747933\n",
       "3      337  1.0       5.229746\n",
       "4      338  1.0       5.672630"
      ]
     },
     "execution_count": 28,
     "metadata": {},
     "output_type": "execute_result"
    }
   ],
   "source": [
    "pergrid_all_predicted.head()"
   ]
  },
  {
   "cell_type": "code",
   "execution_count": 29,
   "metadata": {},
   "outputs": [],
   "source": [
    "pergrid_all_predicted.to_sql(name='glm', con=engine, schema='predictor', if_exists='replace', index=False)"
   ]
  },
  {
   "cell_type": "code",
   "execution_count": 30,
   "metadata": {},
   "outputs": [],
   "source": [
    "update_geom = \"\"\"\n",
    "alter table predictor.glm add column if not exists wkb_geometry geometry(Polygon,4269);\n",
    "update predictor.glm A SET wkb_geometry = B.wkb_geometry\n",
    "FROM predictor.pergrid_base B\n",
    "WHERE A.grid_id = B.grid_id\n",
    "\"\"\""
   ]
  },
  {
   "cell_type": "code",
   "execution_count": 31,
   "metadata": {},
   "outputs": [
    {
     "data": {
      "text/plain": [
       "<sqlalchemy.engine.result.ResultProxy at 0x7f86e6314850>"
      ]
     },
     "execution_count": 31,
     "metadata": {},
     "output_type": "execute_result"
    }
   ],
   "source": [
    "connection = engine.connect()\n",
    "connection.execute(update_geom)"
   ]
  },
  {
   "cell_type": "code",
   "execution_count": 32,
   "metadata": {},
   "outputs": [],
   "source": [
    "update_residual = \"\"\"\n",
    "alter table predictor.glm add column residual double precision;\n",
    "update predictor.glm set residual = (tsr_predicted-tsr);\n",
    "\"\"\""
   ]
  },
  {
   "cell_type": "code",
   "execution_count": 60,
   "metadata": {},
   "outputs": [
    {
     "data": {
      "text/plain": [
       "<sqlalchemy.engine.result.ResultProxy at 0x7fd544ea50d0>"
      ]
     },
     "execution_count": 60,
     "metadata": {},
     "output_type": "execute_result"
    }
   ],
   "source": [
    "connection = engine.connect()\n",
    "connection.execute(update_residual)"
   ]
  },
  {
   "cell_type": "code",
   "execution_count": null,
   "metadata": {},
   "outputs": [],
   "source": []
  },
  {
   "cell_type": "code",
   "execution_count": null,
   "metadata": {},
   "outputs": [],
   "source": []
  },
  {
   "cell_type": "code",
   "execution_count": null,
   "metadata": {},
   "outputs": [],
   "source": []
  }
 ],
 "metadata": {
  "kernelspec": {
   "display_name": "Python 3",
   "language": "python",
   "name": "python3"
  },
  "language_info": {
   "codemirror_mode": {
    "name": "ipython",
    "version": 3
   },
   "file_extension": ".py",
   "mimetype": "text/x-python",
   "name": "python",
   "nbconvert_exporter": "python",
   "pygments_lexer": "ipython3",
   "version": "3.7.6"
  }
 },
 "nbformat": 4,
 "nbformat_minor": 2
}
