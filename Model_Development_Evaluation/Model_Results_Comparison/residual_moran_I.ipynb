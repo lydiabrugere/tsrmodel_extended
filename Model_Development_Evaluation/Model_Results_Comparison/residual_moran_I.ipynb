{
 "cells": [
  {
   "cell_type": "code",
   "execution_count": 1,
   "metadata": {},
   "outputs": [
    {
     "name": "stderr",
     "output_type": "stream",
     "text": [
      "/Users/lianfeng/miniconda3/lib/python3.7/site-packages/pysal/__init__.py:65: VisibleDeprecationWarning: PySAL's API will be changed on 2018-12-31. The last release made with this API is version 1.14.4. A preview of the next API version is provided in the `pysal` 2.0 prelease candidate. The API changes and a guide on how to change imports is provided at https://migrating.pysal.org\n",
      "  ), VisibleDeprecationWarning)\n"
     ]
    }
   ],
   "source": [
    "import pysal as ps\n",
    "import geopandas as gp\n",
    "\n",
    "import warnings\n",
    "warnings.filterwarnings('ignore')"
   ]
  },
  {
   "cell_type": "code",
   "execution_count": 4,
   "metadata": {},
   "outputs": [
    {
     "data": {
      "text/plain": [
       "'/Users/lianfeng/Desktop/tsrmodel/Model_Development_Evaluation/Model_Results_Comparison'"
      ]
     },
     "execution_count": 4,
     "metadata": {},
     "output_type": "execute_result"
    }
   ],
   "source": [
    "import os\n",
    "os.getcwd()"
   ]
  },
  {
   "cell_type": "code",
   "execution_count": 5,
   "metadata": {},
   "outputs": [
    {
     "name": "stdout",
     "output_type": "stream",
     "text": [
      "Value of Moran's I for GLM: 0.543\n",
      "Expected Value for Moran's I -6.532105297537396e-05\n",
      "p-value: 0.00000000000\n",
      "Z score: 121.48158646008\n"
     ]
    }
   ],
   "source": [
    "glm_residual= gp.read_file('./glm.shp')\n",
    "Q_w = ps.weights.Queen.from_dataframe(glm_residual, silent_island_warning=True)\n",
    "# Q_w = ps.lib.weights.Queen.from_dataframe(glm_residual)\n",
    "\n",
    "y = glm_residual['residual']\n",
    "mi = ps.esda.moran.Moran(y, Q_w, permutations=999, two_tailed=False)\n",
    "\n",
    "# value of Moran's I\n",
    "print(\"Value of Moran's I for GLM: %.3f\"%mi.I)\n",
    "# expected value under normality assumption\n",
    "print(\"Expected Value for Moran's I\", mi.EI)\n",
    "\n",
    "# p-value of I under normality assumption (one-sided)\n",
    "# for two-sided tests, this value should be multiplied by 2\n",
    "print(\"p-value: %.11f\"%mi.p_norm)\n",
    "print(\"Z score: %.11f\"%mi.z_norm)"
   ]
  },
  {
   "cell_type": "code",
   "execution_count": 6,
   "metadata": {},
   "outputs": [
    {
     "name": "stdout",
     "output_type": "stream",
     "text": [
      "Value of Moran's I for Random Forest: 0.083\n",
      "Expected Value for Moran's I -6.532105297537396e-05\n",
      "p-value: 0.00000000000\n",
      "Z score: 18.65147830219\n"
     ]
    }
   ],
   "source": [
    "rf_residual= gp.read_file('./random_forest.shp')\n",
    "Q_w = ps.weights.Queen.from_dataframe(rf_residual, silent_island_warning=True)\n",
    "# Q_w = ps.lib.weights.Queen.from_dataframe(glm_residual)\n",
    "\n",
    "y = rf_residual['residual']\n",
    "mi = ps.esda.moran.Moran(y, Q_w, permutations=999, two_tailed=False)\n",
    "# mi = ps.explore.esda.Moran(y, Q_w, two_tailed=False)\n",
    "\n",
    "# value of Moran's I\n",
    "print(\"Value of Moran's I for Random Forest: %.3f\"%mi.I)\n",
    "# expected value under normality assumption\n",
    "print(\"Expected Value for Moran's I\", mi.EI)\n",
    "\n",
    "# p-value of I under normality assumption (one-sided)\n",
    "# for two-sided tests, this value should be multiplied by 2\n",
    "print(\"p-value: %.11f\"%mi.p_norm)\n",
    "print(\"Z score: %.11f\"%mi.z_norm)"
   ]
  },
  {
   "cell_type": "code",
   "execution_count": 7,
   "metadata": {},
   "outputs": [
    {
     "name": "stdout",
     "output_type": "stream",
     "text": [
      "Value of Moran's I for GRNN: 0.134\n",
      "Expected Value for Moran's I -6.532105297537396e-05\n",
      "p-value: 0.00000000000\n",
      "Z score: 29.98813399589\n"
     ]
    }
   ],
   "source": [
    "grnn_residual= gp.read_file('./grnn.shp')\n",
    "Q_w = ps.weights.Queen.from_dataframe(grnn_residual, silent_island_warning=True)\n",
    "# Q_w = ps.lib.weights.Queen.from_dataframe(glm_residual)\n",
    "\n",
    "y = grnn_residual['residual']\n",
    "mi = ps.esda.moran.Moran(y, Q_w, permutations=999, two_tailed=False)\n",
    "# mi = ps.explore.esda.Moran(y, Q_w, two_tailed=False)\n",
    "\n",
    "# value of Moran's I\n",
    "print(\"Value of Moran's I for GRNN: %.3f\"%mi.I)\n",
    "# expected value under normality assumption\n",
    "print(\"Expected Value for Moran's I\", mi.EI)\n",
    "\n",
    "# p-value of I under normality assumption (one-sided)\n",
    "# for two-sided tests, this value should be multiplied by 2\n",
    "print(\"p-value: %.11f\"%mi.p_norm)\n",
    "print(\"Z score: %.11f\"%mi.z_norm)"
   ]
  },
  {
   "cell_type": "code",
   "execution_count": 8,
   "metadata": {},
   "outputs": [
    {
     "name": "stdout",
     "output_type": "stream",
     "text": [
      "Value of Moran's I for FFNN: 0.124\n",
      "Expected Value for Moran's I -6.532105297537396e-05\n",
      "p-value: 0.00000000000\n",
      "Z score: 27.77922987146\n"
     ]
    }
   ],
   "source": [
    "ffnn_residual= gp.read_file('./ffnn.shp')\n",
    "Q_w = ps.weights.Queen.from_dataframe(ffnn_residual, silent_island_warning=True)\n",
    "# Q_w = ps.lib.weights.Queen.from_dataframe(glm_residual)\n",
    "\n",
    "y = ffnn_residual['residual']\n",
    "mi = ps.esda.moran.Moran(y, Q_w, permutations=999, two_tailed=True)\n",
    "# mi = ps.explore.esda.Moran(y, Q_w, two_tailed=False)\n",
    "\n",
    "# value of Moran's I\n",
    "print(\"Value of Moran's I for FFNN: %.3f\"%mi.I)\n",
    "# expected value under normality assumption\n",
    "print(\"Expected Value for Moran's I\", mi.EI)\n",
    "\n",
    "# p-value of I under normality assumption (one-sided)\n",
    "# for two-sided tests, this value should be multiplied by 2\n",
    "print(\"p-value: %.11f\"%mi.p_norm)\n",
    "print(\"Z score: %.11f\"%mi.z_norm)"
   ]
  },
  {
   "cell_type": "code",
   "execution_count": null,
   "metadata": {},
   "outputs": [],
   "source": []
  }
 ],
 "metadata": {
  "kernelspec": {
   "display_name": "Python 3",
   "language": "python",
   "name": "python3"
  },
  "language_info": {
   "codemirror_mode": {
    "name": "ipython",
    "version": 3
   },
   "file_extension": ".py",
   "mimetype": "text/x-python",
   "name": "python",
   "nbconvert_exporter": "python",
   "pygments_lexer": "ipython3",
   "version": "3.7.6"
  }
 },
 "nbformat": 4,
 "nbformat_minor": 4
}
