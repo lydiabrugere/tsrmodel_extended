{
 "cells": [
  {
   "cell_type": "code",
   "execution_count": 1,
   "metadata": {},
   "outputs": [],
   "source": [
    "from sqlalchemy import create_engine\n",
    "import sys\n",
    "import pandas as pd\n",
    "import matplotlib.pyplot as plt"
   ]
  },
  {
   "cell_type": "code",
   "execution_count": 2,
   "metadata": {},
   "outputs": [],
   "source": [
    "localhost = {'user': 'postgres', 'password': 'postgres', 'host': 'localhost', 'port': 5432, 'db': 'fiadb'}\n",
    "params = 'postgresql://{0}:{1}@{2}:{3}/{4}'\n",
    "engine = create_engine(params.format(localhost['user'], localhost['password'], localhost['host'], localhost['port'], localhost['db']))\n",
    "select_query = \"\"\"\n",
    "select a.tsr, a.tsr_predicted as glm_pred,\n",
    "b.tsr_predicted as rf_pred,\n",
    "c.tsr_predicted as grnn_pred,\n",
    "d.tsr_predicted as ffnn_pred\n",
    "FROM predictor.glm a, predictor.random_forest b, predictor.grnn c, predictor.ffnn d\n",
    "where a.grid_id = b.grid_id\n",
    "and a.grid_id = c.grid_id\n",
    "and a.grid_id = d.grid_id\n",
    "\"\"\"\n",
    "pred_results = pd.read_sql(select_query, engine)"
   ]
  },
  {
   "cell_type": "code",
   "execution_count": 3,
   "metadata": {},
   "outputs": [
    {
     "data": {
      "text/html": [
       "<div>\n",
       "<style scoped>\n",
       "    .dataframe tbody tr th:only-of-type {\n",
       "        vertical-align: middle;\n",
       "    }\n",
       "\n",
       "    .dataframe tbody tr th {\n",
       "        vertical-align: top;\n",
       "    }\n",
       "\n",
       "    .dataframe thead th {\n",
       "        text-align: right;\n",
       "    }\n",
       "</style>\n",
       "<table border=\"1\" class=\"dataframe\">\n",
       "  <thead>\n",
       "    <tr style=\"text-align: right;\">\n",
       "      <th></th>\n",
       "      <th>tsr</th>\n",
       "      <th>glm_pred</th>\n",
       "      <th>rf_pred</th>\n",
       "      <th>grnn_pred</th>\n",
       "      <th>ffnn_pred</th>\n",
       "    </tr>\n",
       "  </thead>\n",
       "  <tbody>\n",
       "    <tr>\n",
       "      <th>0</th>\n",
       "      <td>1.0</td>\n",
       "      <td>4.628603</td>\n",
       "      <td>1.820770</td>\n",
       "      <td>2.803938</td>\n",
       "      <td>2.55672</td>\n",
       "    </tr>\n",
       "    <tr>\n",
       "      <th>1</th>\n",
       "      <td>18.0</td>\n",
       "      <td>17.476499</td>\n",
       "      <td>19.074224</td>\n",
       "      <td>19.274464</td>\n",
       "      <td>15.80820</td>\n",
       "    </tr>\n",
       "    <tr>\n",
       "      <th>2</th>\n",
       "      <td>16.0</td>\n",
       "      <td>19.603017</td>\n",
       "      <td>19.886939</td>\n",
       "      <td>21.177705</td>\n",
       "      <td>22.03830</td>\n",
       "    </tr>\n",
       "    <tr>\n",
       "      <th>3</th>\n",
       "      <td>36.0</td>\n",
       "      <td>46.540524</td>\n",
       "      <td>35.683091</td>\n",
       "      <td>38.381778</td>\n",
       "      <td>40.23290</td>\n",
       "    </tr>\n",
       "    <tr>\n",
       "      <th>4</th>\n",
       "      <td>27.0</td>\n",
       "      <td>34.607843</td>\n",
       "      <td>34.882035</td>\n",
       "      <td>36.119813</td>\n",
       "      <td>37.65060</td>\n",
       "    </tr>\n",
       "  </tbody>\n",
       "</table>\n",
       "</div>"
      ],
      "text/plain": [
       "    tsr   glm_pred    rf_pred  grnn_pred  ffnn_pred\n",
       "0   1.0   4.628603   1.820770   2.803938    2.55672\n",
       "1  18.0  17.476499  19.074224  19.274464   15.80820\n",
       "2  16.0  19.603017  19.886939  21.177705   22.03830\n",
       "3  36.0  46.540524  35.683091  38.381778   40.23290\n",
       "4  27.0  34.607843  34.882035  36.119813   37.65060"
      ]
     },
     "execution_count": 3,
     "metadata": {},
     "output_type": "execute_result"
    }
   ],
   "source": [
    "pred_results.head()"
   ]
  },
  {
   "cell_type": "code",
   "execution_count": 15,
   "metadata": {},
   "outputs": [
    {
     "data": {
      "text/plain": [
       "(15310, 5)"
      ]
     },
     "execution_count": 15,
     "metadata": {},
     "output_type": "execute_result"
    }
   ],
   "source": [
    "pred_results.shape"
   ]
  },
  {
   "cell_type": "code",
   "execution_count": 5,
   "metadata": {},
   "outputs": [],
   "source": [
    "from scipy.stats import wilcoxon\n",
    "from statistics import median"
   ]
  },
  {
   "cell_type": "code",
   "execution_count": 6,
   "metadata": {},
   "outputs": [],
   "source": [
    "glm_w, glm_p = wilcoxon(pred_results['tsr'].tolist(), pred_results['glm_pred'].tolist())"
   ]
  },
  {
   "cell_type": "code",
   "execution_count": 7,
   "metadata": {},
   "outputs": [],
   "source": [
    "rf_w, rf_p = wilcoxon(pred_results['tsr'].tolist(), pred_results['rf_pred'].tolist())"
   ]
  },
  {
   "cell_type": "code",
   "execution_count": 8,
   "metadata": {},
   "outputs": [],
   "source": [
    "grnn_w, grnn_p = wilcoxon(pred_results['tsr'].tolist(), pred_results['grnn_pred'].tolist())"
   ]
  },
  {
   "cell_type": "code",
   "execution_count": 9,
   "metadata": {},
   "outputs": [],
   "source": [
    "ffnn_w, ffnn_p = wilcoxon(pred_results['tsr'].tolist(), pred_results['ffnn_pred'].tolist())"
   ]
  },
  {
   "cell_type": "code",
   "execution_count": 10,
   "metadata": {},
   "outputs": [
    {
     "name": "stdout",
     "output_type": "stream",
     "text": [
      "12.0 12.782564109029 12.5873510233424 12.71703548197955 12.4872\n"
     ]
    }
   ],
   "source": [
    "print(median(pred_results['tsr'].tolist()), median(pred_results['glm_pred'].tolist()),\n",
    "     median(pred_results['rf_pred'].tolist()), median(pred_results['grnn_pred'].tolist()),\n",
    "     median(pred_results['ffnn_pred'].tolist()))"
   ]
  },
  {
   "cell_type": "code",
   "execution_count": 11,
   "metadata": {},
   "outputs": [
    {
     "name": "stdout",
     "output_type": "stream",
     "text": [
      "55122841.0 57574340.0 57483148.0 57211620.5\n"
     ]
    }
   ],
   "source": [
    "print(glm_w, rf_w, grnn_w, ffnn_w)"
   ]
  },
  {
   "cell_type": "code",
   "execution_count": 14,
   "metadata": {},
   "outputs": [
    {
     "name": "stdout",
     "output_type": "stream",
     "text": [
      "1.9737322031494704e-10 0.06001473650742681 0.0406154561673107 0.9036441874952\n"
     ]
    }
   ],
   "source": [
    "print(glm_p, rf_p, grnn_p, ffnn_p)"
   ]
  },
  {
   "cell_type": "code",
   "execution_count": null,
   "metadata": {},
   "outputs": [],
   "source": []
  }
 ],
 "metadata": {
  "kernelspec": {
   "display_name": "Python 3",
   "language": "python",
   "name": "python3"
  },
  "language_info": {
   "codemirror_mode": {
    "name": "ipython",
    "version": 3
   },
   "file_extension": ".py",
   "mimetype": "text/x-python",
   "name": "python",
   "nbconvert_exporter": "python",
   "pygments_lexer": "ipython3",
   "version": "3.7.6"
  }
 },
 "nbformat": 4,
 "nbformat_minor": 4
}
