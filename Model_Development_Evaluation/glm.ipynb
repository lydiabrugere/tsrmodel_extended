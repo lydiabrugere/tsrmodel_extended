{
 "cells": [
  {
   "cell_type": "code",
   "execution_count": 1,
   "metadata": {},
   "outputs": [],
   "source": [
    "# Jupyter setup to expand cell display to 100% width on your screen (optional)\n",
    "# Import relevant modules and setup for calling glmnet\n",
    "%reset -f\n",
    "%matplotlib inline\n",
    "\n",
    "from sqlalchemy import create_engine\n",
    "import sys\n",
    "import pandas as pd\n",
    "import numpy as np\n",
    "import scipy, importlib, pprint, matplotlib.pyplot as plt, warnings\n",
    "from sklearn.model_selection import train_test_split\n",
    "from sklearn.preprocessing import StandardScaler\n",
    "\n",
    "from sklearn.impute import KNNImputer\n",
    "\n",
    "import statsmodels.api as sm\n",
    "import statsmodels.genmod as genmod\n",
    "from statsmodels.stats.outliers_influence import variance_inflation_factor\n",
    "from sklearn.metrics import mean_absolute_error\n",
    "\n",
    "from sklearn.base import BaseEstimator, RegressorMixin\n",
    "from sklearn.model_selection import cross_val_score\n",
    "import sklearn.model_selection as ms\n",
    "\n",
    "import statistics\n",
    "from sklearn.metrics import mean_absolute_error\n",
    "from sklearn.metrics import r2_score\n",
    "\n",
    "import warnings\n",
    "warnings.filterwarnings('ignore')\n",
    "pd.set_option('display.float_format', lambda x: '%.3f' % x)"
   ]
  },
  {
   "cell_type": "markdown",
   "metadata": {},
   "source": [
    "## Load TSR and attributes data from DB"
   ]
  },
  {
   "cell_type": "code",
   "execution_count": 2,
   "metadata": {},
   "outputs": [],
   "source": [
    "localhost = {'user': 'postgres', 'password': 'postgres', 'host': 'localhost', 'port': 5432, 'db': 'fiadb'}\n",
    "params = 'postgresql://{0}:{1}@{2}:{3}/{4}'\n",
    "engine = create_engine(params.format(localhost['user'], localhost['password'], localhost['host'], localhost['port'], localhost['db']))\n",
    "# geom_sql = \"\"\"select distinct grid_id, grid_geom from fs_fiadb.pergrid\"\"\"\n",
    "pergrid_base = \"\"\"select distinct * from predictor.pergrid_base\"\"\"\n",
    "pergrid_base_df = pd.read_sql(pergrid_base, engine)"
   ]
  },
  {
   "cell_type": "code",
   "execution_count": 3,
   "metadata": {},
   "outputs": [
    {
     "data": {
      "text/plain": [
       "Index(['grid_id', 'aet', 'ai', 'art', 'ewd', 'fa', 'map', 'mat', 'mpdq',\n",
       "       'mtcq', 'pet', 'psn', 'ra', 'rmap', 'rmat', 'tsn', 'mfdf', 'alt', 'shg',\n",
       "       'mtwq', 'wkb_geometry', 'tsr', 'wa', 'ha', 'wkt', 'lat', 'lon'],\n",
       "      dtype='object')"
      ]
     },
     "execution_count": 3,
     "metadata": {},
     "output_type": "execute_result"
    }
   ],
   "source": [
    "pergrid_base_df.columns"
   ]
  },
  {
   "cell_type": "markdown",
   "metadata": {},
   "source": [
    "## Process TSR predictor and outcome varaibles"
   ]
  },
  {
   "cell_type": "code",
   "execution_count": 4,
   "metadata": {},
   "outputs": [],
   "source": [
    "y = pergrid_base_df['tsr']\n",
    "grid_id = pergrid_base_df['grid_id']\n",
    "\n",
    "pred_var= ['aet', 'ai', 'art', 'ewd', 'fa', 'map', 'mat', 'mpdq',\n",
    "       'mtcq', 'pet', 'psn', 'ra', 'rmap', 'rmat', 'tsn', 'mfdf', 'alt','shg', 'mtwq', 'wa']\n",
    "\n",
    "pergrid_base_selected_df = pergrid_base_df[pred_var]"
   ]
  },
  {
   "cell_type": "code",
   "execution_count": 5,
   "metadata": {},
   "outputs": [
    {
     "data": {
      "text/html": [
       "<div>\n",
       "<style scoped>\n",
       "    .dataframe tbody tr th:only-of-type {\n",
       "        vertical-align: middle;\n",
       "    }\n",
       "\n",
       "    .dataframe tbody tr th {\n",
       "        vertical-align: top;\n",
       "    }\n",
       "\n",
       "    .dataframe thead th {\n",
       "        text-align: right;\n",
       "    }\n",
       "</style>\n",
       "<table border=\"1\" class=\"dataframe\">\n",
       "  <thead>\n",
       "    <tr style=\"text-align: right;\">\n",
       "      <th></th>\n",
       "      <th>aet</th>\n",
       "      <th>ai</th>\n",
       "      <th>art</th>\n",
       "      <th>ewd</th>\n",
       "      <th>fa</th>\n",
       "      <th>map</th>\n",
       "      <th>mat</th>\n",
       "      <th>mpdq</th>\n",
       "      <th>mtcq</th>\n",
       "      <th>pet</th>\n",
       "      <th>psn</th>\n",
       "      <th>ra</th>\n",
       "      <th>rmap</th>\n",
       "      <th>rmat</th>\n",
       "      <th>tsn</th>\n",
       "      <th>mfdf</th>\n",
       "      <th>alt</th>\n",
       "      <th>shg</th>\n",
       "      <th>mtwq</th>\n",
       "      <th>wa</th>\n",
       "    </tr>\n",
       "  </thead>\n",
       "  <tbody>\n",
       "    <tr>\n",
       "      <th>0</th>\n",
       "      <td>6000.000</td>\n",
       "      <td>0.367</td>\n",
       "      <td>21.192</td>\n",
       "      <td>-2523666.200</td>\n",
       "      <td>7.706</td>\n",
       "      <td>681.000</td>\n",
       "      <td>20.036</td>\n",
       "      <td>87.000</td>\n",
       "      <td>16.299</td>\n",
       "      <td>1826.768</td>\n",
       "      <td>50.412</td>\n",
       "      <td>16.000</td>\n",
       "      <td>2.833</td>\n",
       "      <td>0.604</td>\n",
       "      <td>444.860</td>\n",
       "      <td>2.270</td>\n",
       "      <td>11.598</td>\n",
       "      <td>None</td>\n",
       "      <td>28.793</td>\n",
       "      <td>4.117</td>\n",
       "    </tr>\n",
       "    <tr>\n",
       "      <th>1</th>\n",
       "      <td>65535.000</td>\n",
       "      <td>0.383</td>\n",
       "      <td>20.234</td>\n",
       "      <td>-2537902.123</td>\n",
       "      <td>14.150</td>\n",
       "      <td>699.000</td>\n",
       "      <td>20.299</td>\n",
       "      <td>92.000</td>\n",
       "      <td>16.340</td>\n",
       "      <td>1811.928</td>\n",
       "      <td>49.798</td>\n",
       "      <td>14.000</td>\n",
       "      <td>2.000</td>\n",
       "      <td>0.621</td>\n",
       "      <td>444.260</td>\n",
       "      <td>2.100</td>\n",
       "      <td>5.983</td>\n",
       "      <td>5</td>\n",
       "      <td>28.717</td>\n",
       "      <td>11.815</td>\n",
       "    </tr>\n",
       "  </tbody>\n",
       "</table>\n",
       "</div>"
      ],
      "text/plain": [
       "        aet    ai    art          ewd     fa     map    mat   mpdq   mtcq  \\\n",
       "0  6000.000 0.367 21.192 -2523666.200  7.706 681.000 20.036 87.000 16.299   \n",
       "1 65535.000 0.383 20.234 -2537902.123 14.150 699.000 20.299 92.000 16.340   \n",
       "\n",
       "       pet    psn     ra  rmap  rmat     tsn  mfdf    alt   shg   mtwq     wa  \n",
       "0 1826.768 50.412 16.000 2.833 0.604 444.860 2.270 11.598  None 28.793  4.117  \n",
       "1 1811.928 49.798 14.000 2.000 0.621 444.260 2.100  5.983     5 28.717 11.815  "
      ]
     },
     "execution_count": 5,
     "metadata": {},
     "output_type": "execute_result"
    }
   ],
   "source": [
    "pergrid_base_selected_df.head(2)"
   ]
  },
  {
   "cell_type": "markdown",
   "metadata": {},
   "source": [
    "### fill in no-data grid with value from neighboring grids"
   ]
  },
  {
   "cell_type": "code",
   "execution_count": 6,
   "metadata": {},
   "outputs": [],
   "source": [
    "imputer = KNNImputer(n_neighbors=5)\n",
    "pergrid_base_selected_filled = imputer.fit_transform(pergrid_base_selected_df)\n",
    "pergrid_base_df = pd.DataFrame(pergrid_base_selected_filled)"
   ]
  },
  {
   "cell_type": "code",
   "execution_count": 7,
   "metadata": {},
   "outputs": [
    {
     "data": {
      "text/html": [
       "<div>\n",
       "<style scoped>\n",
       "    .dataframe tbody tr th:only-of-type {\n",
       "        vertical-align: middle;\n",
       "    }\n",
       "\n",
       "    .dataframe tbody tr th {\n",
       "        vertical-align: top;\n",
       "    }\n",
       "\n",
       "    .dataframe thead th {\n",
       "        text-align: right;\n",
       "    }\n",
       "</style>\n",
       "<table border=\"1\" class=\"dataframe\">\n",
       "  <thead>\n",
       "    <tr style=\"text-align: right;\">\n",
       "      <th></th>\n",
       "      <th>0</th>\n",
       "      <th>1</th>\n",
       "      <th>2</th>\n",
       "      <th>3</th>\n",
       "      <th>4</th>\n",
       "      <th>5</th>\n",
       "      <th>6</th>\n",
       "      <th>7</th>\n",
       "      <th>8</th>\n",
       "      <th>9</th>\n",
       "      <th>10</th>\n",
       "      <th>11</th>\n",
       "      <th>12</th>\n",
       "      <th>13</th>\n",
       "      <th>14</th>\n",
       "      <th>15</th>\n",
       "      <th>16</th>\n",
       "      <th>17</th>\n",
       "      <th>18</th>\n",
       "      <th>19</th>\n",
       "    </tr>\n",
       "  </thead>\n",
       "  <tbody>\n",
       "    <tr>\n",
       "      <th>0</th>\n",
       "      <td>6000.000</td>\n",
       "      <td>0.367</td>\n",
       "      <td>21.192</td>\n",
       "      <td>-2523666.200</td>\n",
       "      <td>7.706</td>\n",
       "      <td>681.000</td>\n",
       "      <td>20.036</td>\n",
       "      <td>87.000</td>\n",
       "      <td>16.299</td>\n",
       "      <td>1826.768</td>\n",
       "      <td>50.412</td>\n",
       "      <td>16.000</td>\n",
       "      <td>2.833</td>\n",
       "      <td>0.604</td>\n",
       "      <td>444.860</td>\n",
       "      <td>2.270</td>\n",
       "      <td>11.598</td>\n",
       "      <td>5.800</td>\n",
       "      <td>28.793</td>\n",
       "      <td>4.117</td>\n",
       "    </tr>\n",
       "    <tr>\n",
       "      <th>1</th>\n",
       "      <td>65535.000</td>\n",
       "      <td>0.383</td>\n",
       "      <td>20.234</td>\n",
       "      <td>-2537902.123</td>\n",
       "      <td>14.150</td>\n",
       "      <td>699.000</td>\n",
       "      <td>20.299</td>\n",
       "      <td>92.000</td>\n",
       "      <td>16.340</td>\n",
       "      <td>1811.928</td>\n",
       "      <td>49.798</td>\n",
       "      <td>14.000</td>\n",
       "      <td>2.000</td>\n",
       "      <td>0.621</td>\n",
       "      <td>444.260</td>\n",
       "      <td>2.100</td>\n",
       "      <td>5.983</td>\n",
       "      <td>5.000</td>\n",
       "      <td>28.717</td>\n",
       "      <td>11.815</td>\n",
       "    </tr>\n",
       "    <tr>\n",
       "      <th>2</th>\n",
       "      <td>65535.000</td>\n",
       "      <td>1.304</td>\n",
       "      <td>0.164</td>\n",
       "      <td>-524.709</td>\n",
       "      <td>0.071</td>\n",
       "      <td>1148.500</td>\n",
       "      <td>0.310</td>\n",
       "      <td>131.500</td>\n",
       "      <td>21.304</td>\n",
       "      <td>1918.111</td>\n",
       "      <td>0.714</td>\n",
       "      <td>1.000</td>\n",
       "      <td>1.833</td>\n",
       "      <td>0.242</td>\n",
       "      <td>3.699</td>\n",
       "      <td>6.524</td>\n",
       "      <td>0.012</td>\n",
       "      <td>2.000</td>\n",
       "      <td>28.626</td>\n",
       "      <td>302.905</td>\n",
       "    </tr>\n",
       "    <tr>\n",
       "      <th>3</th>\n",
       "      <td>5135.000</td>\n",
       "      <td>0.290</td>\n",
       "      <td>23.950</td>\n",
       "      <td>-2941595.415</td>\n",
       "      <td>3.004</td>\n",
       "      <td>565.000</td>\n",
       "      <td>20.194</td>\n",
       "      <td>76.000</td>\n",
       "      <td>15.517</td>\n",
       "      <td>1972.128</td>\n",
       "      <td>43.001</td>\n",
       "      <td>108.000</td>\n",
       "      <td>2.333</td>\n",
       "      <td>0.392</td>\n",
       "      <td>492.281</td>\n",
       "      <td>2.120</td>\n",
       "      <td>61.887</td>\n",
       "      <td>5.400</td>\n",
       "      <td>29.459</td>\n",
       "      <td>1.253</td>\n",
       "    </tr>\n",
       "    <tr>\n",
       "      <th>4</th>\n",
       "      <td>5645.000</td>\n",
       "      <td>0.302</td>\n",
       "      <td>23.526</td>\n",
       "      <td>-2959517.411</td>\n",
       "      <td>10.035</td>\n",
       "      <td>580.000</td>\n",
       "      <td>20.710</td>\n",
       "      <td>80.000</td>\n",
       "      <td>15.754</td>\n",
       "      <td>1928.969</td>\n",
       "      <td>44.328</td>\n",
       "      <td>34.000</td>\n",
       "      <td>3.417</td>\n",
       "      <td>0.621</td>\n",
       "      <td>489.587</td>\n",
       "      <td>2.120</td>\n",
       "      <td>32.271</td>\n",
       "      <td>5.000</td>\n",
       "      <td>29.300</td>\n",
       "      <td>4.248</td>\n",
       "    </tr>\n",
       "  </tbody>\n",
       "</table>\n",
       "</div>"
      ],
      "text/plain": [
       "          0     1      2            3      4        5      6       7      8  \\\n",
       "0  6000.000 0.367 21.192 -2523666.200  7.706  681.000 20.036  87.000 16.299   \n",
       "1 65535.000 0.383 20.234 -2537902.123 14.150  699.000 20.299  92.000 16.340   \n",
       "2 65535.000 1.304  0.164     -524.709  0.071 1148.500  0.310 131.500 21.304   \n",
       "3  5135.000 0.290 23.950 -2941595.415  3.004  565.000 20.194  76.000 15.517   \n",
       "4  5645.000 0.302 23.526 -2959517.411 10.035  580.000 20.710  80.000 15.754   \n",
       "\n",
       "         9     10      11    12    13      14    15     16    17     18  \\\n",
       "0 1826.768 50.412  16.000 2.833 0.604 444.860 2.270 11.598 5.800 28.793   \n",
       "1 1811.928 49.798  14.000 2.000 0.621 444.260 2.100  5.983 5.000 28.717   \n",
       "2 1918.111  0.714   1.000 1.833 0.242   3.699 6.524  0.012 2.000 28.626   \n",
       "3 1972.128 43.001 108.000 2.333 0.392 492.281 2.120 61.887 5.400 29.459   \n",
       "4 1928.969 44.328  34.000 3.417 0.621 489.587 2.120 32.271 5.000 29.300   \n",
       "\n",
       "       19  \n",
       "0   4.117  \n",
       "1  11.815  \n",
       "2 302.905  \n",
       "3   1.253  \n",
       "4   4.248  "
      ]
     },
     "execution_count": 7,
     "metadata": {},
     "output_type": "execute_result"
    }
   ],
   "source": [
    "pergrid_base_df.head()"
   ]
  },
  {
   "cell_type": "code",
   "execution_count": 8,
   "metadata": {},
   "outputs": [],
   "source": [
    "pergrid_base_df.columns = pred_var"
   ]
  },
  {
   "cell_type": "code",
   "execution_count": 9,
   "metadata": {},
   "outputs": [],
   "source": [
    "from sklearn.preprocessing import StandardScaler\n",
    "\n",
    "# ss = MinMaxScaler()\n",
    "ss = StandardScaler()\n",
    "X_std = ss.fit_transform(pergrid_base_df)\n",
    "\n",
    "Xstd=pd.DataFrame(data=X_std[0:,0:],\n",
    "                index=pergrid_base_df.index,\n",
    "                columns=pred_var)"
   ]
  },
  {
   "cell_type": "code",
   "execution_count": 10,
   "metadata": {},
   "outputs": [
    {
     "data": {
      "text/html": [
       "<div>\n",
       "<style scoped>\n",
       "    .dataframe tbody tr th:only-of-type {\n",
       "        vertical-align: middle;\n",
       "    }\n",
       "\n",
       "    .dataframe tbody tr th {\n",
       "        vertical-align: top;\n",
       "    }\n",
       "\n",
       "    .dataframe thead th {\n",
       "        text-align: right;\n",
       "    }\n",
       "</style>\n",
       "<table border=\"1\" class=\"dataframe\">\n",
       "  <thead>\n",
       "    <tr style=\"text-align: right;\">\n",
       "      <th></th>\n",
       "      <th>aet</th>\n",
       "      <th>ai</th>\n",
       "      <th>art</th>\n",
       "      <th>ewd</th>\n",
       "      <th>fa</th>\n",
       "      <th>map</th>\n",
       "      <th>mat</th>\n",
       "      <th>mpdq</th>\n",
       "      <th>mtcq</th>\n",
       "      <th>pet</th>\n",
       "      <th>psn</th>\n",
       "      <th>ra</th>\n",
       "      <th>rmap</th>\n",
       "      <th>rmat</th>\n",
       "      <th>tsn</th>\n",
       "      <th>mfdf</th>\n",
       "      <th>alt</th>\n",
       "      <th>shg</th>\n",
       "      <th>mtwq</th>\n",
       "      <th>wa</th>\n",
       "    </tr>\n",
       "  </thead>\n",
       "  <tbody>\n",
       "    <tr>\n",
       "      <th>0</th>\n",
       "      <td>-0.182</td>\n",
       "      <td>-0.752</td>\n",
       "      <td>-0.957</td>\n",
       "      <td>-1.362</td>\n",
       "      <td>-1.117</td>\n",
       "      <td>-0.447</td>\n",
       "      <td>2.494</td>\n",
       "      <td>-0.566</td>\n",
       "      <td>2.309</td>\n",
       "      <td>0.906</td>\n",
       "      <td>1.540</td>\n",
       "      <td>-0.823</td>\n",
       "      <td>-0.516</td>\n",
       "      <td>-0.586</td>\n",
       "      <td>-1.039</td>\n",
       "      <td>-2.341</td>\n",
       "      <td>-0.934</td>\n",
       "      <td>0.658</td>\n",
       "      <td>1.569</td>\n",
       "      <td>-0.242</td>\n",
       "    </tr>\n",
       "    <tr>\n",
       "      <th>1</th>\n",
       "      <td>4.273</td>\n",
       "      <td>-0.712</td>\n",
       "      <td>-1.103</td>\n",
       "      <td>-1.379</td>\n",
       "      <td>-1.057</td>\n",
       "      <td>-0.404</td>\n",
       "      <td>2.551</td>\n",
       "      <td>-0.511</td>\n",
       "      <td>2.315</td>\n",
       "      <td>0.868</td>\n",
       "      <td>1.500</td>\n",
       "      <td>-0.827</td>\n",
       "      <td>-0.570</td>\n",
       "      <td>-0.578</td>\n",
       "      <td>-1.042</td>\n",
       "      <td>-2.369</td>\n",
       "      <td>-0.941</td>\n",
       "      <td>0.236</td>\n",
       "      <td>1.553</td>\n",
       "      <td>-0.058</td>\n",
       "    </tr>\n",
       "    <tr>\n",
       "      <th>2</th>\n",
       "      <td>4.273</td>\n",
       "      <td>1.657</td>\n",
       "      <td>-4.172</td>\n",
       "      <td>1.569</td>\n",
       "      <td>-1.188</td>\n",
       "      <td>0.670</td>\n",
       "      <td>-1.852</td>\n",
       "      <td>-0.080</td>\n",
       "      <td>3.060</td>\n",
       "      <td>1.136</td>\n",
       "      <td>-1.705</td>\n",
       "      <td>-0.854</td>\n",
       "      <td>-0.581</td>\n",
       "      <td>-0.752</td>\n",
       "      <td>-3.356</td>\n",
       "      <td>-1.620</td>\n",
       "      <td>-0.949</td>\n",
       "      <td>-1.344</td>\n",
       "      <td>1.532</td>\n",
       "      <td>6.922</td>\n",
       "    </tr>\n",
       "    <tr>\n",
       "      <th>3</th>\n",
       "      <td>-0.246</td>\n",
       "      <td>-0.952</td>\n",
       "      <td>-0.535</td>\n",
       "      <td>-1.848</td>\n",
       "      <td>-1.161</td>\n",
       "      <td>-0.724</td>\n",
       "      <td>2.528</td>\n",
       "      <td>-0.686</td>\n",
       "      <td>2.191</td>\n",
       "      <td>1.272</td>\n",
       "      <td>1.056</td>\n",
       "      <td>-0.630</td>\n",
       "      <td>-0.549</td>\n",
       "      <td>-0.683</td>\n",
       "      <td>-0.790</td>\n",
       "      <td>-2.366</td>\n",
       "      <td>-0.868</td>\n",
       "      <td>0.447</td>\n",
       "      <td>1.718</td>\n",
       "      <td>-0.311</td>\n",
       "    </tr>\n",
       "    <tr>\n",
       "      <th>4</th>\n",
       "      <td>-0.208</td>\n",
       "      <td>-0.921</td>\n",
       "      <td>-0.600</td>\n",
       "      <td>-1.869</td>\n",
       "      <td>-1.095</td>\n",
       "      <td>-0.688</td>\n",
       "      <td>2.642</td>\n",
       "      <td>-0.642</td>\n",
       "      <td>2.227</td>\n",
       "      <td>1.163</td>\n",
       "      <td>1.143</td>\n",
       "      <td>-0.785</td>\n",
       "      <td>-0.478</td>\n",
       "      <td>-0.578</td>\n",
       "      <td>-0.804</td>\n",
       "      <td>-2.366</td>\n",
       "      <td>-0.907</td>\n",
       "      <td>0.236</td>\n",
       "      <td>1.683</td>\n",
       "      <td>-0.239</td>\n",
       "    </tr>\n",
       "  </tbody>\n",
       "</table>\n",
       "</div>"
      ],
      "text/plain": [
       "     aet     ai    art    ewd     fa    map    mat   mpdq  mtcq   pet    psn  \\\n",
       "0 -0.182 -0.752 -0.957 -1.362 -1.117 -0.447  2.494 -0.566 2.309 0.906  1.540   \n",
       "1  4.273 -0.712 -1.103 -1.379 -1.057 -0.404  2.551 -0.511 2.315 0.868  1.500   \n",
       "2  4.273  1.657 -4.172  1.569 -1.188  0.670 -1.852 -0.080 3.060 1.136 -1.705   \n",
       "3 -0.246 -0.952 -0.535 -1.848 -1.161 -0.724  2.528 -0.686 2.191 1.272  1.056   \n",
       "4 -0.208 -0.921 -0.600 -1.869 -1.095 -0.688  2.642 -0.642 2.227 1.163  1.143   \n",
       "\n",
       "      ra   rmap   rmat    tsn   mfdf    alt    shg  mtwq     wa  \n",
       "0 -0.823 -0.516 -0.586 -1.039 -2.341 -0.934  0.658 1.569 -0.242  \n",
       "1 -0.827 -0.570 -0.578 -1.042 -2.369 -0.941  0.236 1.553 -0.058  \n",
       "2 -0.854 -0.581 -0.752 -3.356 -1.620 -0.949 -1.344 1.532  6.922  \n",
       "3 -0.630 -0.549 -0.683 -0.790 -2.366 -0.868  0.447 1.718 -0.311  \n",
       "4 -0.785 -0.478 -0.578 -0.804 -2.366 -0.907  0.236 1.683 -0.239  "
      ]
     },
     "execution_count": 10,
     "metadata": {},
     "output_type": "execute_result"
    }
   ],
   "source": [
    "Xstd.head()"
   ]
  },
  {
   "cell_type": "code",
   "execution_count": 11,
   "metadata": {},
   "outputs": [],
   "source": [
    "cleaned_df = pd.concat([pergrid_base_df, y], axis=1, sort=False)\n",
    "cleaned_df.to_csv('/Users/lianfeng/Document/PhD/writings/first_maualscript/tsrmodel/cleaned_pergrid.csv')"
   ]
  },
  {
   "cell_type": "code",
   "execution_count": 12,
   "metadata": {},
   "outputs": [],
   "source": [
    "pergrid_base_df = Xstd\n",
    "pergrid_base_df = pergrid_base_df.assign(intercept = 1.)"
   ]
  },
  {
   "cell_type": "code",
   "execution_count": 13,
   "metadata": {},
   "outputs": [],
   "source": [
    "import statistics "
   ]
  },
  {
   "cell_type": "markdown",
   "metadata": {},
   "source": [
    "### check error distribution to see if using Possion or NegativeBinomial"
   ]
  },
  {
   "cell_type": "code",
   "execution_count": 14,
   "metadata": {},
   "outputs": [],
   "source": [
    "poisson_model = sm.GLM(y, pergrid_base_df,family=sm.families.Poisson())\n",
    "poisson_results = poisson_model.fit()\n",
    "y_pred= poisson_model.predict(params=poisson_results.params, exposure=None, offset=None, linear=False)\n",
    "poisson_residual = y_pred - y"
   ]
  },
  {
   "cell_type": "code",
   "execution_count": 15,
   "metadata": {},
   "outputs": [
    {
     "data": {
      "text/plain": [
       "32.73545463936625"
      ]
     },
     "execution_count": 15,
     "metadata": {},
     "output_type": "execute_result"
    }
   ],
   "source": [
    "statistics.variance(poisson_residual)"
   ]
  },
  {
   "cell_type": "code",
   "execution_count": 16,
   "metadata": {},
   "outputs": [
    {
     "data": {
      "text/plain": [
       "1.8718041123899384e-14"
      ]
     },
     "execution_count": 16,
     "metadata": {},
     "output_type": "execute_result"
    }
   ],
   "source": [
    "statistics.mean(poisson_residual)"
   ]
  },
  {
   "cell_type": "markdown",
   "metadata": {},
   "source": [
    "## Build GLM Model"
   ]
  },
  {
   "cell_type": "code",
   "execution_count": 17,
   "metadata": {},
   "outputs": [],
   "source": [
    "# poisson_model = sm.GLM(y, pergrid_base_df,family=sm.families.Poisson())\n",
    "poisson_model = sm.GLM(y, pergrid_base_df,family=sm.families.NegativeBinomial())"
   ]
  },
  {
   "cell_type": "code",
   "execution_count": 18,
   "metadata": {},
   "outputs": [],
   "source": [
    "poisson_results = poisson_model.fit()"
   ]
  },
  {
   "cell_type": "code",
   "execution_count": 19,
   "metadata": {},
   "outputs": [
    {
     "name": "stdout",
     "output_type": "stream",
     "text": [
      "                 Generalized Linear Model Regression Results                  \n",
      "==============================================================================\n",
      "Dep. Variable:                    tsr   No. Observations:                15310\n",
      "Model:                            GLM   Df Residuals:                    15289\n",
      "Model Family:        NegativeBinomial   Df Model:                           20\n",
      "Link Function:                    log   Scale:                          1.0000\n",
      "Method:                          IRLS   Log-Likelihood:                -53706.\n",
      "Date:                Mon, 01 Mar 2021   Deviance:                       3141.8\n",
      "Time:                        08:01:14   Pearson chi2:                 2.97e+03\n",
      "No. Iterations:                    12                                         \n",
      "Covariance Type:            nonrobust                                         \n",
      "==============================================================================\n",
      "                 coef    std err          z      P>|z|      [0.025      0.975]\n",
      "------------------------------------------------------------------------------\n",
      "aet           -0.0030      0.011     -0.281      0.779      -0.024       0.018\n",
      "ai            -0.2382      0.034     -6.954      0.000      -0.305      -0.171\n",
      "art            0.2847      0.083      3.427      0.001       0.122       0.447\n",
      "ewd            0.2391      0.051      4.651      0.000       0.138       0.340\n",
      "fa             0.3935      0.013     30.438      0.000       0.368       0.419\n",
      "map            0.3489      0.042      8.367      0.000       0.267       0.431\n",
      "mat            0.0452      0.075      0.601      0.548      -0.102       0.193\n",
      "mpdq           0.2364      0.034      6.996      0.000       0.170       0.303\n",
      "mtcq           0.0276      0.089      0.311      0.756      -0.146       0.201\n",
      "pet           -0.1166      0.067     -1.738      0.082      -0.248       0.015\n",
      "psn           -0.0162      0.021     -0.774      0.439      -0.057       0.025\n",
      "ra            -0.2035      0.042     -4.872      0.000      -0.285      -0.122\n",
      "rmap          -0.0163      0.016     -1.042      0.297      -0.047       0.014\n",
      "rmat           0.3371      0.036      9.311      0.000       0.266       0.408\n",
      "tsn            0.0084      0.098      0.086      0.932      -0.184       0.201\n",
      "mfdf          -0.0953      0.035     -2.716      0.007      -0.164      -0.027\n",
      "alt           -0.2754      0.033     -8.323      0.000      -0.340      -0.211\n",
      "shg           -0.0128      0.009     -1.445      0.149      -0.030       0.005\n",
      "mtwq          -0.0229      0.062     -0.369      0.712      -0.145       0.099\n",
      "wa             0.0204      0.012      1.676      0.094      -0.003       0.044\n",
      "intercept      2.4477      0.009    284.878      0.000       2.431       2.465\n",
      "==============================================================================\n"
     ]
    }
   ],
   "source": [
    "print(poisson_results.summary())"
   ]
  },
  {
   "cell_type": "code",
   "execution_count": 20,
   "metadata": {},
   "outputs": [],
   "source": [
    "params_df = poisson_results.params\n",
    "params_df = params_df.to_frame()"
   ]
  },
  {
   "cell_type": "code",
   "execution_count": 21,
   "metadata": {},
   "outputs": [],
   "source": [
    "params_df['var'] = params_df.index"
   ]
  },
  {
   "cell_type": "code",
   "execution_count": 22,
   "metadata": {},
   "outputs": [],
   "source": [
    "params_df.columns = ['coefficent','var']"
   ]
  },
  {
   "cell_type": "code",
   "execution_count": 23,
   "metadata": {},
   "outputs": [
    {
     "data": {
      "text/html": [
       "<div>\n",
       "<style scoped>\n",
       "    .dataframe tbody tr th:only-of-type {\n",
       "        vertical-align: middle;\n",
       "    }\n",
       "\n",
       "    .dataframe tbody tr th {\n",
       "        vertical-align: top;\n",
       "    }\n",
       "\n",
       "    .dataframe thead th {\n",
       "        text-align: right;\n",
       "    }\n",
       "</style>\n",
       "<table border=\"1\" class=\"dataframe\">\n",
       "  <thead>\n",
       "    <tr style=\"text-align: right;\">\n",
       "      <th></th>\n",
       "      <th>coefficent</th>\n",
       "      <th>var</th>\n",
       "      <th>coefficent_abs</th>\n",
       "    </tr>\n",
       "  </thead>\n",
       "  <tbody>\n",
       "    <tr>\n",
       "      <th>intercept</th>\n",
       "      <td>2.448</td>\n",
       "      <td>intercept</td>\n",
       "      <td>2.448</td>\n",
       "    </tr>\n",
       "    <tr>\n",
       "      <th>fa</th>\n",
       "      <td>0.394</td>\n",
       "      <td>fa</td>\n",
       "      <td>0.394</td>\n",
       "    </tr>\n",
       "    <tr>\n",
       "      <th>map</th>\n",
       "      <td>0.349</td>\n",
       "      <td>map</td>\n",
       "      <td>0.349</td>\n",
       "    </tr>\n",
       "    <tr>\n",
       "      <th>rmat</th>\n",
       "      <td>0.337</td>\n",
       "      <td>rmat</td>\n",
       "      <td>0.337</td>\n",
       "    </tr>\n",
       "    <tr>\n",
       "      <th>art</th>\n",
       "      <td>0.285</td>\n",
       "      <td>art</td>\n",
       "      <td>0.285</td>\n",
       "    </tr>\n",
       "    <tr>\n",
       "      <th>alt</th>\n",
       "      <td>-0.275</td>\n",
       "      <td>alt</td>\n",
       "      <td>0.275</td>\n",
       "    </tr>\n",
       "    <tr>\n",
       "      <th>ewd</th>\n",
       "      <td>0.239</td>\n",
       "      <td>ewd</td>\n",
       "      <td>0.239</td>\n",
       "    </tr>\n",
       "    <tr>\n",
       "      <th>ai</th>\n",
       "      <td>-0.238</td>\n",
       "      <td>ai</td>\n",
       "      <td>0.238</td>\n",
       "    </tr>\n",
       "    <tr>\n",
       "      <th>mpdq</th>\n",
       "      <td>0.236</td>\n",
       "      <td>mpdq</td>\n",
       "      <td>0.236</td>\n",
       "    </tr>\n",
       "    <tr>\n",
       "      <th>ra</th>\n",
       "      <td>-0.204</td>\n",
       "      <td>ra</td>\n",
       "      <td>0.204</td>\n",
       "    </tr>\n",
       "    <tr>\n",
       "      <th>pet</th>\n",
       "      <td>-0.117</td>\n",
       "      <td>pet</td>\n",
       "      <td>0.117</td>\n",
       "    </tr>\n",
       "    <tr>\n",
       "      <th>mfdf</th>\n",
       "      <td>-0.095</td>\n",
       "      <td>mfdf</td>\n",
       "      <td>0.095</td>\n",
       "    </tr>\n",
       "    <tr>\n",
       "      <th>mat</th>\n",
       "      <td>0.045</td>\n",
       "      <td>mat</td>\n",
       "      <td>0.045</td>\n",
       "    </tr>\n",
       "    <tr>\n",
       "      <th>mtcq</th>\n",
       "      <td>0.028</td>\n",
       "      <td>mtcq</td>\n",
       "      <td>0.028</td>\n",
       "    </tr>\n",
       "    <tr>\n",
       "      <th>mtwq</th>\n",
       "      <td>-0.023</td>\n",
       "      <td>mtwq</td>\n",
       "      <td>0.023</td>\n",
       "    </tr>\n",
       "    <tr>\n",
       "      <th>wa</th>\n",
       "      <td>0.020</td>\n",
       "      <td>wa</td>\n",
       "      <td>0.020</td>\n",
       "    </tr>\n",
       "    <tr>\n",
       "      <th>rmap</th>\n",
       "      <td>-0.016</td>\n",
       "      <td>rmap</td>\n",
       "      <td>0.016</td>\n",
       "    </tr>\n",
       "    <tr>\n",
       "      <th>psn</th>\n",
       "      <td>-0.016</td>\n",
       "      <td>psn</td>\n",
       "      <td>0.016</td>\n",
       "    </tr>\n",
       "    <tr>\n",
       "      <th>shg</th>\n",
       "      <td>-0.013</td>\n",
       "      <td>shg</td>\n",
       "      <td>0.013</td>\n",
       "    </tr>\n",
       "    <tr>\n",
       "      <th>tsn</th>\n",
       "      <td>0.008</td>\n",
       "      <td>tsn</td>\n",
       "      <td>0.008</td>\n",
       "    </tr>\n",
       "    <tr>\n",
       "      <th>aet</th>\n",
       "      <td>-0.003</td>\n",
       "      <td>aet</td>\n",
       "      <td>0.003</td>\n",
       "    </tr>\n",
       "  </tbody>\n",
       "</table>\n",
       "</div>"
      ],
      "text/plain": [
       "           coefficent        var  coefficent_abs\n",
       "intercept       2.448  intercept           2.448\n",
       "fa              0.394         fa           0.394\n",
       "map             0.349        map           0.349\n",
       "rmat            0.337       rmat           0.337\n",
       "art             0.285        art           0.285\n",
       "alt            -0.275        alt           0.275\n",
       "ewd             0.239        ewd           0.239\n",
       "ai             -0.238         ai           0.238\n",
       "mpdq            0.236       mpdq           0.236\n",
       "ra             -0.204         ra           0.204\n",
       "pet            -0.117        pet           0.117\n",
       "mfdf           -0.095       mfdf           0.095\n",
       "mat             0.045        mat           0.045\n",
       "mtcq            0.028       mtcq           0.028\n",
       "mtwq           -0.023       mtwq           0.023\n",
       "wa              0.020         wa           0.020\n",
       "rmap           -0.016       rmap           0.016\n",
       "psn            -0.016        psn           0.016\n",
       "shg            -0.013        shg           0.013\n",
       "tsn             0.008        tsn           0.008\n",
       "aet            -0.003        aet           0.003"
      ]
     },
     "execution_count": 23,
     "metadata": {},
     "output_type": "execute_result"
    }
   ],
   "source": [
    "params_df['coefficent_abs'] = abs(params_df['coefficent'])\n",
    "params_df.sort_values(by='coefficent_abs', ascending=False)"
   ]
  },
  {
   "cell_type": "code",
   "execution_count": 24,
   "metadata": {},
   "outputs": [],
   "source": [
    "# # null hypothesis: predictors have no effect; A low p-value (< 0.05) indicates that the null hypothesis can be rejected\n",
    "# print(\"P values of predictors: \")\n",
    "# print(poisson_results.pvalues.sort_values(ascending=True))"
   ]
  },
  {
   "cell_type": "code",
   "execution_count": 25,
   "metadata": {},
   "outputs": [
    {
     "name": "stdout",
     "output_type": "stream",
     "text": [
      "Predictors which are not statistically significant:\n",
      "aet    0.779\n",
      "mat    0.548\n",
      "mtcq   0.756\n",
      "pet    0.082\n",
      "psn    0.439\n",
      "rmap   0.297\n",
      "tsn    0.932\n",
      "shg    0.149\n",
      "mtwq   0.712\n",
      "wa     0.094\n",
      "dtype: float64\n"
     ]
    }
   ],
   "source": [
    "print(\"Predictors which are not statistically significant:\")\n",
    "print(poisson_results.pvalues[poisson_results.pvalues > 0.05])"
   ]
  },
  {
   "cell_type": "markdown",
   "metadata": {},
   "source": [
    "### Evaluation"
   ]
  },
  {
   "cell_type": "code",
   "execution_count": 26,
   "metadata": {},
   "outputs": [
    {
     "name": "stdout",
     "output_type": "stream",
     "text": [
      "R-squared (% Deviance explained): 75.14713030739658\n"
     ]
    }
   ],
   "source": [
    "perc_dev_explained_all = (1 - (poisson_results.deviance/poisson_results.null_deviance))*100\n",
    "print(\"R-squared (% Deviance explained): {}\".format(perc_dev_explained_all))"
   ]
  },
  {
   "cell_type": "code",
   "execution_count": 27,
   "metadata": {},
   "outputs": [
    {
     "name": "stdout",
     "output_type": "stream",
     "text": [
      "0.7163992636680263\n"
     ]
    }
   ],
   "source": [
    "sst_val = sum(map(lambda Xstd: np.power(Xstd,2),y-np.mean(y))) \n",
    "sse_val = sum(map(lambda Xstd: np.power(Xstd,2),poisson_results.resid_response)) \n",
    "r2 = 1.0 - sse_val/sst_val\n",
    "print(r2)"
   ]
  },
  {
   "cell_type": "code",
   "execution_count": 28,
   "metadata": {},
   "outputs": [
    {
     "name": "stdout",
     "output_type": "stream",
     "text": [
      "0.7163992636680225\n"
     ]
    }
   ],
   "source": [
    "y_pred= poisson_model.predict(params=poisson_results.params, exposure=None, offset=None, linear=False)\n",
    "r_squared_val = r2_score(y, y_pred)\n",
    "print(r_squared_val)"
   ]
  },
  {
   "cell_type": "markdown",
   "metadata": {},
   "source": [
    "## Build Cross-validation GLM Model"
   ]
  },
  {
   "cell_type": "code",
   "execution_count": 29,
   "metadata": {},
   "outputs": [],
   "source": [
    "class SMWrapper(BaseEstimator, RegressorMixin):\n",
    "    \"\"\" A universal sklearn-style wrapper for statsmodels GLM w/ Possion \"\"\"\n",
    "    def __init__(self, model_class, fit_intercept=True):\n",
    "        self.model_class = model_class\n",
    "        self.fit_intercept = fit_intercept\n",
    "    def fit(self, X, y):\n",
    "        if self.fit_intercept:\n",
    "            X = sm.add_constant(X)\n",
    "#         self.model_ = self.model_class(y, X, sm.families.Poisson())\n",
    "        self.model_ = self.model_class(y, X, sm.families.NegativeBinomial())\n",
    "        self.results_ = self.model_.fit()\n",
    "    def predict(self, X):\n",
    "        if self.fit_intercept:\n",
    "            X = sm.add_constant(X)\n",
    "        return self.results_.predict(X)"
   ]
  },
  {
   "cell_type": "code",
   "execution_count": 30,
   "metadata": {},
   "outputs": [],
   "source": [
    "wrapped_possion_glm = SMWrapper(sm.GLM)"
   ]
  },
  {
   "cell_type": "code",
   "execution_count": 31,
   "metadata": {},
   "outputs": [],
   "source": [
    "wrapped_possion_glm.fit(Xstd,y)"
   ]
  },
  {
   "cell_type": "code",
   "execution_count": 32,
   "metadata": {},
   "outputs": [
    {
     "name": "stdout",
     "output_type": "stream",
     "text": [
      "Cross-validated R2: \n"
     ]
    },
    {
     "data": {
      "text/plain": [
       "0.715231324083713"
      ]
     },
     "execution_count": 32,
     "metadata": {},
     "output_type": "execute_result"
    }
   ],
   "source": [
    "r2_cross_val = cross_val_score(wrapped_possion_glm, Xstd, y, scoring='r2', cv = ms.StratifiedKFold(n_splits=10, shuffle = True))\n",
    "print(\"Cross-validated R2: \",)\n",
    "statistics.mean(r2_cross_val.tolist())"
   ]
  },
  {
   "cell_type": "markdown",
   "metadata": {},
   "source": [
    "## Evaluate individual predictor variables"
   ]
  },
  {
   "cell_type": "code",
   "execution_count": 33,
   "metadata": {},
   "outputs": [],
   "source": [
    "# reduced_results_df = pd.DataFrame(columns=['pred_var', 'r_squared', 'perc_dev_explained', 'r2','null_deviance','deviance','abs_coeff'])  \n",
    "\n",
    "# for var in pred_var:\n",
    "#     X_reduced = Xstd[var]\n",
    "#     reduced_model = sm.GLM(y, X_reduced, family=sm.families.NegativeBinomial())\n",
    "#     reduced_results = reduced_model.fit()\n",
    "\n",
    "#     y_pred= reduced_model.predict(params=reduced_results.params, exposure=None, offset=None, linear=False)\n",
    "#     r_squared_val = r2_score(y, y_pred)\n",
    "#     perc_dev_explained = 1-(reduced_results.deviance/reduced_results.null_deviance)\n",
    "    \n",
    "#     sst_val = sum(map(lambda X_reduced: np.power(X_reduced,2),y-np.mean(y))) \n",
    "#     sse_val = sum(map(lambda X_reduced: np.power(X_reduced,2),reduced_results.resid_response)) \n",
    "#     r2 = 1.0 - sse_val/sst_val\n",
    "\n",
    "#     deviance = reduced_results.deviance\n",
    "#     null_deviance = reduced_results.null_deviance\n",
    "#     abs_coeff_val = abs(reduced_results.params.values[0])\n",
    "    \n",
    "#     reduced_results_df = reduced_results_df.append({'pred_var': var,\n",
    "#                                  'r_squared':r_squared_val,\n",
    "#                                  'perc_dev_explained': perc_dev_explained,\n",
    "#                                  'r2': r2,\n",
    "#                                  'null_deviance':null_deviance,    \n",
    "#                                  'deviance':deviance,\n",
    "#                                  'abs_coeff': abs_coeff_val},\n",
    "#                                 ignore_index=True)"
   ]
  },
  {
   "cell_type": "code",
   "execution_count": 34,
   "metadata": {},
   "outputs": [],
   "source": [
    "# reduced_results_df"
   ]
  },
  {
   "cell_type": "markdown",
   "metadata": {},
   "source": [
    "## Model Evaluation"
   ]
  },
  {
   "cell_type": "code",
   "execution_count": 35,
   "metadata": {},
   "outputs": [],
   "source": [
    "x_train, x_test, y_train, y_test = train_test_split(Xstd, y, test_size=0.2, random_state=12345)"
   ]
  },
  {
   "cell_type": "code",
   "execution_count": 36,
   "metadata": {},
   "outputs": [
    {
     "name": "stdout",
     "output_type": "stream",
     "text": [
      "test MAE 4.71316773843979\n",
      "test r2 0.7397538296105763\n"
     ]
    }
   ],
   "source": [
    "y_test_pred = wrapped_possion_glm.predict(x_test)\n",
    "print('test MAE', mean_absolute_error(y_test_pred, y_test))\n",
    "print('test r2', r2_score(y_test, y_test_pred))"
   ]
  },
  {
   "cell_type": "code",
   "execution_count": 37,
   "metadata": {},
   "outputs": [],
   "source": [
    "glm_y_test = pd.DataFrame(\n",
    "    {'tsr': y_test,\n",
    "     'tsr_predicted': y_test_pred})\n",
    "glm_y_test.to_sql(name='glm_y_test', con=engine, schema='predictor', if_exists='replace', index=False)"
   ]
  },
  {
   "cell_type": "code",
   "execution_count": 38,
   "metadata": {},
   "outputs": [
    {
     "data": {
      "text/plain": [
       "(3062, 2)"
      ]
     },
     "execution_count": 38,
     "metadata": {},
     "output_type": "execute_result"
    }
   ],
   "source": [
    "glm_y_test.shape"
   ]
  },
  {
   "cell_type": "markdown",
   "metadata": {},
   "source": [
    "## Model Prediction"
   ]
  },
  {
   "cell_type": "code",
   "execution_count": 39,
   "metadata": {},
   "outputs": [],
   "source": [
    "Y_pred = wrapped_possion_glm.predict(Xstd)"
   ]
  },
  {
   "cell_type": "code",
   "execution_count": 40,
   "metadata": {},
   "outputs": [],
   "source": [
    "pergrid_all_predicted = pd.DataFrame(\n",
    "    {'grid_id': grid_id,\n",
    "     'tsr': y,\n",
    "     'tsr_predicted': Y_pred.tolist()})"
   ]
  },
  {
   "cell_type": "code",
   "execution_count": 41,
   "metadata": {},
   "outputs": [
    {
     "data": {
      "text/html": [
       "<div>\n",
       "<style scoped>\n",
       "    .dataframe tbody tr th:only-of-type {\n",
       "        vertical-align: middle;\n",
       "    }\n",
       "\n",
       "    .dataframe tbody tr th {\n",
       "        vertical-align: top;\n",
       "    }\n",
       "\n",
       "    .dataframe thead th {\n",
       "        text-align: right;\n",
       "    }\n",
       "</style>\n",
       "<table border=\"1\" class=\"dataframe\">\n",
       "  <thead>\n",
       "    <tr style=\"text-align: right;\">\n",
       "      <th></th>\n",
       "      <th>grid_id</th>\n",
       "      <th>tsr</th>\n",
       "      <th>tsr_predicted</th>\n",
       "    </tr>\n",
       "  </thead>\n",
       "  <tbody>\n",
       "    <tr>\n",
       "      <th>0</th>\n",
       "      <td>110</td>\n",
       "      <td>4.000</td>\n",
       "      <td>5.736</td>\n",
       "    </tr>\n",
       "    <tr>\n",
       "      <th>1</th>\n",
       "      <td>111</td>\n",
       "      <td>2.000</td>\n",
       "      <td>5.790</td>\n",
       "    </tr>\n",
       "    <tr>\n",
       "      <th>2</th>\n",
       "      <td>195</td>\n",
       "      <td>5.000</td>\n",
       "      <td>3.713</td>\n",
       "    </tr>\n",
       "    <tr>\n",
       "      <th>3</th>\n",
       "      <td>337</td>\n",
       "      <td>1.000</td>\n",
       "      <td>4.629</td>\n",
       "    </tr>\n",
       "    <tr>\n",
       "      <th>4</th>\n",
       "      <td>338</td>\n",
       "      <td>1.000</td>\n",
       "      <td>5.201</td>\n",
       "    </tr>\n",
       "  </tbody>\n",
       "</table>\n",
       "</div>"
      ],
      "text/plain": [
       "   grid_id   tsr  tsr_predicted\n",
       "0      110 4.000          5.736\n",
       "1      111 2.000          5.790\n",
       "2      195 5.000          3.713\n",
       "3      337 1.000          4.629\n",
       "4      338 1.000          5.201"
      ]
     },
     "execution_count": 41,
     "metadata": {},
     "output_type": "execute_result"
    }
   ],
   "source": [
    "pergrid_all_predicted.head()"
   ]
  },
  {
   "cell_type": "code",
   "execution_count": 42,
   "metadata": {},
   "outputs": [],
   "source": [
    "pergrid_all_predicted.to_sql(name='glm', con=engine, schema='predictor', if_exists='replace', index=False)"
   ]
  },
  {
   "cell_type": "code",
   "execution_count": 43,
   "metadata": {},
   "outputs": [],
   "source": [
    "update_geom = \"\"\"\n",
    "alter table predictor.glm add column if not exists wkb_geometry geometry(Polygon,4269);\n",
    "update predictor.glm A SET wkb_geometry = B.wkb_geometry\n",
    "FROM predictor.pergrid_base B\n",
    "WHERE A.grid_id = B.grid_id\n",
    "\"\"\""
   ]
  },
  {
   "cell_type": "code",
   "execution_count": 44,
   "metadata": {},
   "outputs": [
    {
     "data": {
      "text/plain": [
       "<sqlalchemy.engine.result.ResultProxy at 0x7f90276cedd0>"
      ]
     },
     "execution_count": 44,
     "metadata": {},
     "output_type": "execute_result"
    }
   ],
   "source": [
    "connection = engine.connect()\n",
    "connection.execute(update_geom)"
   ]
  },
  {
   "cell_type": "code",
   "execution_count": 45,
   "metadata": {},
   "outputs": [],
   "source": [
    "update_residual = \"\"\"\n",
    "alter table predictor.glm add column residual double precision;\n",
    "update predictor.glm set residual = (tsr_predicted-tsr);\n",
    "\"\"\""
   ]
  },
  {
   "cell_type": "code",
   "execution_count": 46,
   "metadata": {},
   "outputs": [
    {
     "data": {
      "text/plain": [
       "<sqlalchemy.engine.result.ResultProxy at 0x7f9025c89ad0>"
      ]
     },
     "execution_count": 46,
     "metadata": {},
     "output_type": "execute_result"
    }
   ],
   "source": [
    "connection = engine.connect()\n",
    "connection.execute(update_residual)"
   ]
  },
  {
   "cell_type": "code",
   "execution_count": null,
   "metadata": {},
   "outputs": [],
   "source": []
  }
 ],
 "metadata": {
  "kernelspec": {
   "display_name": "Python 3",
   "language": "python",
   "name": "python3"
  },
  "language_info": {
   "codemirror_mode": {
    "name": "ipython",
    "version": 3
   },
   "file_extension": ".py",
   "mimetype": "text/x-python",
   "name": "python",
   "nbconvert_exporter": "python",
   "pygments_lexer": "ipython3",
   "version": "3.7.6"
  }
 },
 "nbformat": 4,
 "nbformat_minor": 2
}
