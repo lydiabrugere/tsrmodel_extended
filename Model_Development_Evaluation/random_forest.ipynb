{
 "cells": [
  {
   "cell_type": "code",
   "execution_count": 67,
   "metadata": {},
   "outputs": [],
   "source": [
    "# Jupyter setup to expand cell display to 100% width on your screen (optional)\n",
    "# Import relevant modules and setup for calling glmnet\n",
    "%reset -f\n",
    "%matplotlib inline\n",
    "\n",
    "from sqlalchemy import create_engine\n",
    "import sys\n",
    "import pandas as pd\n",
    "import numpy as np\n",
    "import scipy, importlib, pprint, matplotlib.pyplot as plt, warnings\n",
    "from sklearn.model_selection import train_test_split\n",
    "from sklearn.preprocessing import StandardScaler\n",
    "from sklearn.impute import KNNImputer\n",
    "\n",
    "import statsmodels.api as sm\n",
    "import statsmodels.genmod as genmod\n",
    "from sklearn.metrics import r2_score\n",
    "from sklearn.metrics import mean_absolute_error"
   ]
  },
  {
   "cell_type": "code",
   "execution_count": 68,
   "metadata": {},
   "outputs": [],
   "source": [
    "# Machine learning \n",
    "from sklearn.ensemble import RandomForestRegressor"
   ]
  },
  {
   "cell_type": "code",
   "execution_count": 139,
   "metadata": {},
   "outputs": [],
   "source": [
    "localhost = {'user': 'postgres', 'password': 'postgres', 'host': 'localhost', 'port': 5432, 'db': 'fiadb'}\n",
    "params = 'postgresql://{0}:{1}@{2}:{3}/{4}'\n",
    "engine = create_engine(params.format(localhost['user'], localhost['password'], localhost['host'], localhost['port'], localhost['db']))\n",
    "pergrid_base = \"\"\"select distinct * from predictor.pergrid_base\"\"\"\n",
    "pergrid_base_df = pd.read_sql(pergrid_base, engine)"
   ]
  },
  {
   "cell_type": "code",
   "execution_count": 140,
   "metadata": {},
   "outputs": [],
   "source": [
    "y_true = pergrid_base_df['tsr']\n",
    "grid_id = pergrid_base_df['grid_id']"
   ]
  },
  {
   "cell_type": "code",
   "execution_count": 141,
   "metadata": {},
   "outputs": [],
   "source": [
    "pred_var= ['aet', 'ai', 'art', 'ewd', 'fa', 'map', 'mat', 'mpdq',\n",
    "       'mtcq', 'pet', 'psn', 'ra', 'rmap', 'rmat', 'tsn', 'mfdf', 'alt','shg', 'mtwq', 'wa']\n",
    "\n",
    "PRED_VAR= ['AET', 'AI', 'ART', 'EWD', 'FA', 'MAP', 'MAT', 'MPDQ',\n",
    "       'MTCQ', 'PET', 'PSN', 'RA', 'RMAP', 'RMAT', 'TSN', 'MFDF', 'ALT','SHG', 'MTWQ', 'WA']"
   ]
  },
  {
   "cell_type": "code",
   "execution_count": 142,
   "metadata": {},
   "outputs": [],
   "source": [
    "pergrid_base_pred_df = pergrid_base_df[pred_var]"
   ]
  },
  {
   "cell_type": "code",
   "execution_count": 143,
   "metadata": {},
   "outputs": [
    {
     "data": {
      "text/html": [
       "<div>\n",
       "<style scoped>\n",
       "    .dataframe tbody tr th:only-of-type {\n",
       "        vertical-align: middle;\n",
       "    }\n",
       "\n",
       "    .dataframe tbody tr th {\n",
       "        vertical-align: top;\n",
       "    }\n",
       "\n",
       "    .dataframe thead th {\n",
       "        text-align: right;\n",
       "    }\n",
       "</style>\n",
       "<table border=\"1\" class=\"dataframe\">\n",
       "  <thead>\n",
       "    <tr style=\"text-align: right;\">\n",
       "      <th></th>\n",
       "      <th>aet</th>\n",
       "      <th>ai</th>\n",
       "      <th>art</th>\n",
       "      <th>ewd</th>\n",
       "      <th>fa</th>\n",
       "      <th>map</th>\n",
       "      <th>mat</th>\n",
       "      <th>mpdq</th>\n",
       "      <th>mtcq</th>\n",
       "      <th>pet</th>\n",
       "      <th>psn</th>\n",
       "      <th>ra</th>\n",
       "      <th>rmap</th>\n",
       "      <th>rmat</th>\n",
       "      <th>tsn</th>\n",
       "      <th>mfdf</th>\n",
       "      <th>alt</th>\n",
       "      <th>shg</th>\n",
       "      <th>mtwq</th>\n",
       "      <th>wa</th>\n",
       "    </tr>\n",
       "  </thead>\n",
       "  <tbody>\n",
       "    <tr>\n",
       "      <th>0</th>\n",
       "      <td>6000.0</td>\n",
       "      <td>0.3675</td>\n",
       "      <td>21.191667</td>\n",
       "      <td>-2.523666e+06</td>\n",
       "      <td>7.7058</td>\n",
       "      <td>681.0</td>\n",
       "      <td>20.036236</td>\n",
       "      <td>87.0</td>\n",
       "      <td>16.299375</td>\n",
       "      <td>1826.768199</td>\n",
       "      <td>50.411522</td>\n",
       "      <td>16.0</td>\n",
       "      <td>2.833333</td>\n",
       "      <td>0.604166</td>\n",
       "      <td>444.860212</td>\n",
       "      <td>2.27</td>\n",
       "      <td>11.597701</td>\n",
       "      <td>None</td>\n",
       "      <td>28.792500</td>\n",
       "      <td>4.1166</td>\n",
       "    </tr>\n",
       "    <tr>\n",
       "      <th>1</th>\n",
       "      <td>65535.0</td>\n",
       "      <td>0.3829</td>\n",
       "      <td>20.233612</td>\n",
       "      <td>-2.537902e+06</td>\n",
       "      <td>14.1498</td>\n",
       "      <td>699.0</td>\n",
       "      <td>20.298634</td>\n",
       "      <td>92.0</td>\n",
       "      <td>16.340292</td>\n",
       "      <td>1811.927757</td>\n",
       "      <td>49.797996</td>\n",
       "      <td>14.0</td>\n",
       "      <td>2.000000</td>\n",
       "      <td>0.620833</td>\n",
       "      <td>444.259982</td>\n",
       "      <td>2.10</td>\n",
       "      <td>5.982890</td>\n",
       "      <td>5</td>\n",
       "      <td>28.717458</td>\n",
       "      <td>11.8152</td>\n",
       "    </tr>\n",
       "    <tr>\n",
       "      <th>2</th>\n",
       "      <td>65535.0</td>\n",
       "      <td>NaN</td>\n",
       "      <td>0.164286</td>\n",
       "      <td>-5.247088e+02</td>\n",
       "      <td>0.0711</td>\n",
       "      <td>1148.5</td>\n",
       "      <td>0.309987</td>\n",
       "      <td>131.5</td>\n",
       "      <td>21.304167</td>\n",
       "      <td>1918.111111</td>\n",
       "      <td>0.713689</td>\n",
       "      <td>1.0</td>\n",
       "      <td>1.833333</td>\n",
       "      <td>0.241667</td>\n",
       "      <td>3.698817</td>\n",
       "      <td>NaN</td>\n",
       "      <td>0.011696</td>\n",
       "      <td>None</td>\n",
       "      <td>28.626191</td>\n",
       "      <td>302.9049</td>\n",
       "    </tr>\n",
       "    <tr>\n",
       "      <th>3</th>\n",
       "      <td>5135.0</td>\n",
       "      <td>0.2898</td>\n",
       "      <td>23.950167</td>\n",
       "      <td>-2.941595e+06</td>\n",
       "      <td>3.0042</td>\n",
       "      <td>565.0</td>\n",
       "      <td>20.193576</td>\n",
       "      <td>76.0</td>\n",
       "      <td>15.517042</td>\n",
       "      <td>1972.128352</td>\n",
       "      <td>43.001180</td>\n",
       "      <td>108.0</td>\n",
       "      <td>2.333333</td>\n",
       "      <td>0.391667</td>\n",
       "      <td>492.281141</td>\n",
       "      <td>2.12</td>\n",
       "      <td>61.886973</td>\n",
       "      <td>None</td>\n",
       "      <td>29.458834</td>\n",
       "      <td>1.2528</td>\n",
       "    </tr>\n",
       "    <tr>\n",
       "      <th>4</th>\n",
       "      <td>5645.0</td>\n",
       "      <td>0.3017</td>\n",
       "      <td>23.526261</td>\n",
       "      <td>-2.959517e+06</td>\n",
       "      <td>10.0350</td>\n",
       "      <td>580.0</td>\n",
       "      <td>20.710174</td>\n",
       "      <td>80.0</td>\n",
       "      <td>15.754000</td>\n",
       "      <td>1928.968811</td>\n",
       "      <td>44.328019</td>\n",
       "      <td>34.0</td>\n",
       "      <td>3.416667</td>\n",
       "      <td>0.620833</td>\n",
       "      <td>489.587254</td>\n",
       "      <td>2.12</td>\n",
       "      <td>32.270955</td>\n",
       "      <td>5</td>\n",
       "      <td>29.300416</td>\n",
       "      <td>4.2480</td>\n",
       "    </tr>\n",
       "  </tbody>\n",
       "</table>\n",
       "</div>"
      ],
      "text/plain": [
       "       aet      ai        art           ewd       fa     map        mat  \\\n",
       "0   6000.0  0.3675  21.191667 -2.523666e+06   7.7058   681.0  20.036236   \n",
       "1  65535.0  0.3829  20.233612 -2.537902e+06  14.1498   699.0  20.298634   \n",
       "2  65535.0     NaN   0.164286 -5.247088e+02   0.0711  1148.5   0.309987   \n",
       "3   5135.0  0.2898  23.950167 -2.941595e+06   3.0042   565.0  20.193576   \n",
       "4   5645.0  0.3017  23.526261 -2.959517e+06  10.0350   580.0  20.710174   \n",
       "\n",
       "    mpdq       mtcq          pet        psn     ra      rmap      rmat  \\\n",
       "0   87.0  16.299375  1826.768199  50.411522   16.0  2.833333  0.604166   \n",
       "1   92.0  16.340292  1811.927757  49.797996   14.0  2.000000  0.620833   \n",
       "2  131.5  21.304167  1918.111111   0.713689    1.0  1.833333  0.241667   \n",
       "3   76.0  15.517042  1972.128352  43.001180  108.0  2.333333  0.391667   \n",
       "4   80.0  15.754000  1928.968811  44.328019   34.0  3.416667  0.620833   \n",
       "\n",
       "          tsn  mfdf        alt   shg       mtwq        wa  \n",
       "0  444.860212  2.27  11.597701  None  28.792500    4.1166  \n",
       "1  444.259982  2.10   5.982890     5  28.717458   11.8152  \n",
       "2    3.698817   NaN   0.011696  None  28.626191  302.9049  \n",
       "3  492.281141  2.12  61.886973  None  29.458834    1.2528  \n",
       "4  489.587254  2.12  32.270955     5  29.300416    4.2480  "
      ]
     },
     "execution_count": 143,
     "metadata": {},
     "output_type": "execute_result"
    }
   ],
   "source": [
    "pergrid_base_pred_df.head()"
   ]
  },
  {
   "cell_type": "code",
   "execution_count": 144,
   "metadata": {},
   "outputs": [],
   "source": [
    "imputer = KNNImputer(n_neighbors=5)\n",
    "pergrid_base_pred_filled = imputer.fit_transform(pergrid_base_pred_df)\n",
    "pergrid_base_df = pd.DataFrame(pergrid_base_pred_filled)\n",
    "\n",
    "# standarize predictors\n",
    "ss = StandardScaler(with_mean=False, with_std=False)\n",
    "X_std = ss.fit_transform(pergrid_base_df)\n",
    "\n",
    "Xstd=pd.DataFrame(data=X_std[0:,0:],\n",
    "                index=pergrid_base_pred_df.index,\n",
    "                columns=pred_var)"
   ]
  },
  {
   "cell_type": "code",
   "execution_count": 145,
   "metadata": {},
   "outputs": [],
   "source": [
    "X_train, X_test, y_train, y_test = train_test_split(Xstd, y_true, test_size=0.2, random_state=0)"
   ]
  },
  {
   "cell_type": "code",
   "execution_count": 146,
   "metadata": {},
   "outputs": [
    {
     "name": "stdout",
     "output_type": "stream",
     "text": [
      "Training Random Forest Regressor...\n"
     ]
    },
    {
     "data": {
      "text/plain": [
       "RandomForestRegressor(bootstrap=True, ccp_alpha=0.0, criterion='mse',\n",
       "                      max_depth=None, max_features='auto', max_leaf_nodes=None,\n",
       "                      max_samples=None, min_impurity_decrease=0.0,\n",
       "                      min_impurity_split=None, min_samples_leaf=1,\n",
       "                      min_samples_split=2, min_weight_fraction_leaf=0.0,\n",
       "                      n_estimators=10, n_jobs=None, oob_score=False,\n",
       "                      random_state=42, verbose=0, warm_start=False)"
      ]
     },
     "execution_count": 146,
     "metadata": {},
     "output_type": "execute_result"
    }
   ],
   "source": [
    "print(\"Training Random Forest Regressor...\")\n",
    "rf = RandomForestRegressor(n_estimators = 10, random_state = 42, bootstrap=True)\n",
    "rf.fit(X_train, y_train)"
   ]
  },
  {
   "cell_type": "code",
   "execution_count": 147,
   "metadata": {},
   "outputs": [],
   "source": [
    "y_pred = rf.predict(X_test)"
   ]
  },
  {
   "cell_type": "code",
   "execution_count": 148,
   "metadata": {},
   "outputs": [
    {
     "name": "stdout",
     "output_type": "stream",
     "text": [
      "Test score:  0.8941809084313583\n"
     ]
    }
   ],
   "source": [
    "test_score_cv=rf.score(X_test,y_test)\n",
    "print(\"Test score: \", test_score_cv)"
   ]
  },
  {
   "cell_type": "code",
   "execution_count": 149,
   "metadata": {},
   "outputs": [],
   "source": [
    "# Grid and Random Search best hyperparameters\n",
    "import time\n",
    "import scipy.stats as st\n",
    "from scipy.stats import randint as sp_randint\n",
    "from sklearn.model_selection import RandomizedSearchCV"
   ]
  },
  {
   "cell_type": "markdown",
   "metadata": {},
   "source": [
    "Reducing computational expense using RandomizedSearchCV\n",
    "- Searching many different parameters at once may be computationally infeasible\n",
    "- RandomizedSearchCV searches a subset of the parameters, and you control the computational \"budget\""
   ]
  },
  {
   "cell_type": "code",
   "execution_count": 150,
   "metadata": {},
   "outputs": [],
   "source": [
    "# Specify parameters and distributions to sample from\n",
    "# Number of trees in random forest\n",
    "n_estimators = [int(x) for x in np.linspace(start = 10, stop = 200, num = 20)]\n",
    "# max number of features considered for splitting a node\n",
    "max_features = ['auto', 'sqrt']\n",
    "# max number of levels in each decision tree\n",
    "max_depth = [int(x) for x in np.linspace(30, 80, num = 10)]\n",
    "max_depth.append(None)\n",
    "# min number of data points placed in a node before the node is split\n",
    "min_samples_split = [5, 10]\n",
    "# min number of data points allowed in a leaf node\n",
    "min_samples_leaf = [5, 10]\n",
    "# Method of selecting samples for training each tree\n",
    "bootstrap = [True]\n",
    "criterion = [\"mse\"]"
   ]
  },
  {
   "cell_type": "code",
   "execution_count": 151,
   "metadata": {},
   "outputs": [
    {
     "name": "stdout",
     "output_type": "stream",
     "text": [
      "RandomizedSearchCV took 1984.65 seconds for 100 candidates parameter settings.\n"
     ]
    }
   ],
   "source": [
    "param_dist = {'n_estimators': n_estimators,\n",
    "               'max_features': max_features,\n",
    "               'max_depth': max_depth,\n",
    "               'min_samples_split': min_samples_split,\n",
    "               'min_samples_leaf': min_samples_leaf,\n",
    "               'bootstrap': bootstrap,\n",
    "               'criterion': criterion}\n",
    "\n",
    "# Run Randomized Search\n",
    "n_iter_search = 100 # Number of parameter settings that are sampled \n",
    "rfr = RandomForestRegressor()\n",
    "random_search = RandomizedSearchCV(estimator = rfr, \n",
    "                                   param_distributions=param_dist, \n",
    "                                   n_iter=n_iter_search,\n",
    "                                   n_jobs = -1, # using all processors\n",
    "                                   cv = 10)\n",
    "\n",
    "start = time.time()\n",
    "random_search.fit(X_train, y_train)\n",
    "print(\"RandomizedSearchCV took %.2f seconds for %d candidates\"\n",
    "      \" parameter settings.\" % ((time.time() - start), n_iter_search))"
   ]
  },
  {
   "cell_type": "code",
   "execution_count": 152,
   "metadata": {},
   "outputs": [
    {
     "data": {
      "text/plain": [
       "{'n_estimators': 200,\n",
       " 'min_samples_split': 10,\n",
       " 'min_samples_leaf': 5,\n",
       " 'max_features': 'sqrt',\n",
       " 'max_depth': 68,\n",
       " 'criterion': 'mse',\n",
       " 'bootstrap': True}"
      ]
     },
     "execution_count": 152,
     "metadata": {},
     "output_type": "execute_result"
    }
   ],
   "source": [
    "random_search.best_params_"
   ]
  },
  {
   "cell_type": "code",
   "execution_count": 153,
   "metadata": {},
   "outputs": [
    {
     "data": {
      "text/plain": [
       "RandomForestRegressor(bootstrap=True, ccp_alpha=0.0, criterion='mse',\n",
       "                      max_depth=68, max_features='sqrt', max_leaf_nodes=None,\n",
       "                      max_samples=None, min_impurity_decrease=0.0,\n",
       "                      min_impurity_split=None, min_samples_leaf=5,\n",
       "                      min_samples_split=10, min_weight_fraction_leaf=0.0,\n",
       "                      n_estimators=200, n_jobs=None, oob_score=False,\n",
       "                      random_state=None, verbose=0, warm_start=False)"
      ]
     },
     "execution_count": 153,
     "metadata": {},
     "output_type": "execute_result"
    }
   ],
   "source": [
    "random_search.best_estimator_"
   ]
  },
  {
   "cell_type": "markdown",
   "metadata": {},
   "source": [
    "### Evaluation Metrics"
   ]
  },
  {
   "cell_type": "code",
   "execution_count": 154,
   "metadata": {},
   "outputs": [],
   "source": [
    "from sklearn.metrics import mean_absolute_error\n",
    "from sklearn.metrics import r2_score"
   ]
  },
  {
   "cell_type": "code",
   "execution_count": 155,
   "metadata": {},
   "outputs": [
    {
     "name": "stdout",
     "output_type": "stream",
     "text": [
      "train MAE 1.9317056635005558\n",
      "train r2 0.9547566033094702\n"
     ]
    }
   ],
   "source": [
    "Y_train_pred = random_search.predict(X_train)\n",
    "print('train MAE', mean_absolute_error(Y_train_pred, y_train))\n",
    "print('train r2', r2_score(y_train, Y_train_pred))"
   ]
  },
  {
   "cell_type": "code",
   "execution_count": 156,
   "metadata": {},
   "outputs": [
    {
     "name": "stdout",
     "output_type": "stream",
     "text": [
      "train RMSE 2.7619895979791154\n",
      "train r2 0.9547566033094702\n"
     ]
    }
   ],
   "source": [
    "from sklearn.metrics import mean_squared_error\n",
    "import math\n",
    "\n",
    "Y_train_pred = random_search.predict(X_train)\n",
    "rmse = math.sqrt(mean_squared_error(Y_train_pred, y_train))\n",
    "\n",
    "print('train RMSE', rmse)\n",
    "print('train r2', r2_score(y_train, Y_train_pred))"
   ]
  },
  {
   "cell_type": "code",
   "execution_count": 157,
   "metadata": {},
   "outputs": [
    {
     "name": "stdout",
     "output_type": "stream",
     "text": [
      "test MAE 2.9042478817557096\n",
      "test r2 0.9031499271677292\n"
     ]
    }
   ],
   "source": [
    "Y_test_pred = random_search.predict(X_test)\n",
    "print('test MAE', mean_absolute_error(Y_test_pred, y_test))\n",
    "print('test r2', r2_score(y_test, Y_test_pred))"
   ]
  },
  {
   "cell_type": "code",
   "execution_count": 161,
   "metadata": {},
   "outputs": [
    {
     "name": "stdout",
     "output_type": "stream",
     "text": [
      "test RMSE 4.073682370193777\n",
      "test r2 0.9031499271677292\n"
     ]
    }
   ],
   "source": [
    "Y_test_pred = random_search.predict(X_test)\n",
    "rmse = math.sqrt(mean_squared_error(Y_test_pred, y_test))\n",
    "\n",
    "print('test RMSE', rmse)\n",
    "print('test r2', r2_score(y_test, Y_test_pred))"
   ]
  },
  {
   "cell_type": "code",
   "execution_count": 162,
   "metadata": {},
   "outputs": [],
   "source": [
    "rf_y_test = pd.DataFrame(\n",
    "    {'tsr': y_test,\n",
    "     'tsr_predicted': Y_test_pred})\n",
    "rf_y_test.to_sql(name='rf_y_test', con=engine, schema='predictor', if_exists='replace', index=False)"
   ]
  },
  {
   "cell_type": "markdown",
   "metadata": {},
   "source": [
    "### Feature Importance"
   ]
  },
  {
   "cell_type": "code",
   "execution_count": 163,
   "metadata": {},
   "outputs": [
    {
     "name": "stdout",
     "output_type": "stream",
     "text": [
      "Features sorted by their score:\n",
      "[(0.1865, 'ai'), (0.1489, 'mpdq'), (0.1242, 'fa'), (0.1051, 'map'), (0.0881, 'aet'), (0.0587, 'alt'), (0.0378, 'pet'), (0.0361, 'psn'), (0.0282, 'art'), (0.0248, 'tsn'), (0.0218, 'mat'), (0.0217, 'mfdf'), (0.0215, 'mtcq'), (0.0206, 'ewd'), (0.0193, 'ra'), (0.018, 'wa'), (0.0177, 'mtwq'), (0.011, 'rmat'), (0.0081, 'rmap'), (0.0017, 'shg')]\n"
     ]
    }
   ],
   "source": [
    "print(\"Features sorted by their score:\")\n",
    "print(sorted(zip(map(lambda x: round(x, 4), random_search.best_estimator_.feature_importances_), pred_var), \n",
    "             reverse=True))"
   ]
  },
  {
   "cell_type": "code",
   "execution_count": 164,
   "metadata": {},
   "outputs": [
    {
     "data": {
      "text/plain": [
       "<Figure size 720x720 with 0 Axes>"
      ]
     },
     "metadata": {},
     "output_type": "display_data"
    }
   ],
   "source": [
    "import matplotlib.pyplot as plt\n",
    "\n",
    "plt.rcParams.update({'font.size': 20})\n",
    "plt.style.use('seaborn-whitegrid')\n",
    "fig = plt.figure(figsize=(10,10))\n",
    "plt.tight_layout()"
   ]
  },
  {
   "cell_type": "code",
   "execution_count": 165,
   "metadata": {},
   "outputs": [
    {
     "data": {
      "image/png": "[encoded data removed]",
      "text/plain": [
       "<Figure size 1440x720 with 1 Axes>"
      ]
     },
     "metadata": {},
     "output_type": "display_data"
    }
   ],
   "source": [
    "importance = random_search.best_estimator_.feature_importances_\n",
    "importance = pd.DataFrame(importance, index=PRED_VAR, columns=[\"Importance\"])\n",
    "importance.sort_values(by='Importance', ascending=True).plot(kind='barh', figsize=(20,len(importance)/2));"
   ]
  },
  {
   "cell_type": "markdown",
   "metadata": {},
   "source": [
    "### Make TSR predictions using the full dataset"
   ]
  },
  {
   "cell_type": "code",
   "execution_count": 166,
   "metadata": {},
   "outputs": [],
   "source": [
    "y_pred_all = random_search.predict(Xstd)"
   ]
  },
  {
   "cell_type": "code",
   "execution_count": 167,
   "metadata": {},
   "outputs": [],
   "source": [
    "pergrid_all_predicted = pd.DataFrame(\n",
    "    {'grid_id': grid_id,\n",
    "     'tsr': y_true,\n",
    "     'tsr_predicted': y_pred_all.tolist()})"
   ]
  },
  {
   "cell_type": "code",
   "execution_count": 168,
   "metadata": {},
   "outputs": [
    {
     "data": {
      "text/html": [
       "<div>\n",
       "<style scoped>\n",
       "    .dataframe tbody tr th:only-of-type {\n",
       "        vertical-align: middle;\n",
       "    }\n",
       "\n",
       "    .dataframe tbody tr th {\n",
       "        vertical-align: top;\n",
       "    }\n",
       "\n",
       "    .dataframe thead th {\n",
       "        text-align: right;\n",
       "    }\n",
       "</style>\n",
       "<table border=\"1\" class=\"dataframe\">\n",
       "  <thead>\n",
       "    <tr style=\"text-align: right;\">\n",
       "      <th></th>\n",
       "      <th>grid_id</th>\n",
       "      <th>tsr</th>\n",
       "      <th>tsr_predicted</th>\n",
       "    </tr>\n",
       "  </thead>\n",
       "  <tbody>\n",
       "    <tr>\n",
       "      <th>0</th>\n",
       "      <td>110</td>\n",
       "      <td>4.0</td>\n",
       "      <td>2.944604</td>\n",
       "    </tr>\n",
       "    <tr>\n",
       "      <th>1</th>\n",
       "      <td>111</td>\n",
       "      <td>2.0</td>\n",
       "      <td>2.626410</td>\n",
       "    </tr>\n",
       "    <tr>\n",
       "      <th>2</th>\n",
       "      <td>195</td>\n",
       "      <td>5.0</td>\n",
       "      <td>3.855186</td>\n",
       "    </tr>\n",
       "    <tr>\n",
       "      <th>3</th>\n",
       "      <td>337</td>\n",
       "      <td>1.0</td>\n",
       "      <td>1.820770</td>\n",
       "    </tr>\n",
       "    <tr>\n",
       "      <th>4</th>\n",
       "      <td>338</td>\n",
       "      <td>1.0</td>\n",
       "      <td>2.102745</td>\n",
       "    </tr>\n",
       "    <tr>\n",
       "      <th>5</th>\n",
       "      <td>339</td>\n",
       "      <td>2.0</td>\n",
       "      <td>2.407939</td>\n",
       "    </tr>\n",
       "    <tr>\n",
       "      <th>6</th>\n",
       "      <td>340</td>\n",
       "      <td>2.0</td>\n",
       "      <td>2.699387</td>\n",
       "    </tr>\n",
       "    <tr>\n",
       "      <th>7</th>\n",
       "      <td>342</td>\n",
       "      <td>2.0</td>\n",
       "      <td>2.648041</td>\n",
       "    </tr>\n",
       "    <tr>\n",
       "      <th>8</th>\n",
       "      <td>343</td>\n",
       "      <td>1.0</td>\n",
       "      <td>3.143369</td>\n",
       "    </tr>\n",
       "    <tr>\n",
       "      <th>9</th>\n",
       "      <td>567</td>\n",
       "      <td>3.0</td>\n",
       "      <td>2.289756</td>\n",
       "    </tr>\n",
       "  </tbody>\n",
       "</table>\n",
       "</div>"
      ],
      "text/plain": [
       "   grid_id  tsr  tsr_predicted\n",
       "0      110  4.0       2.944604\n",
       "1      111  2.0       2.626410\n",
       "2      195  5.0       3.855186\n",
       "3      337  1.0       1.820770\n",
       "4      338  1.0       2.102745\n",
       "5      339  2.0       2.407939\n",
       "6      340  2.0       2.699387\n",
       "7      342  2.0       2.648041\n",
       "8      343  1.0       3.143369\n",
       "9      567  3.0       2.289756"
      ]
     },
     "execution_count": 168,
     "metadata": {},
     "output_type": "execute_result"
    }
   ],
   "source": [
    "pergrid_all_predicted.head(10)"
   ]
  },
  {
   "cell_type": "code",
   "execution_count": 169,
   "metadata": {},
   "outputs": [
    {
     "name": "stderr",
     "output_type": "stream",
     "text": [
      "/Users/lianfeng/miniconda3/lib/python3.7/site-packages/sqlalchemy/dialects/postgresql/base.py:3028: SAWarning: Did not recognize type 'geometry' of column 'wkb_geometry'\n",
      "  \"Did not recognize type '%s' of column '%s'\" % (attype, name)\n"
     ]
    }
   ],
   "source": [
    "pergrid_all_predicted.to_sql(name='random_forest', con=engine, schema='predictor', if_exists='replace', index=False)"
   ]
  },
  {
   "cell_type": "code",
   "execution_count": 170,
   "metadata": {},
   "outputs": [],
   "source": [
    "update_geom = \"\"\"\n",
    "alter table predictor.random_forest add column if not exists wkb_geometry geometry(Polygon,4269);\n",
    "update predictor.random_forest A SET wkb_geometry = B.wkb_geometry\n",
    "FROM predictor.pergrid_base B\n",
    "WHERE A.grid_id = B.grid_id\n",
    "\"\"\""
   ]
  },
  {
   "cell_type": "code",
   "execution_count": 171,
   "metadata": {},
   "outputs": [
    {
     "data": {
      "text/plain": [
       "<sqlalchemy.engine.result.ResultProxy at 0x7f80227312d0>"
      ]
     },
     "execution_count": 171,
     "metadata": {},
     "output_type": "execute_result"
    }
   ],
   "source": [
    "connection = engine.connect()\n",
    "connection.execute(update_geom)"
   ]
  },
  {
   "cell_type": "code",
   "execution_count": 172,
   "metadata": {},
   "outputs": [],
   "source": [
    "update_residual = \"\"\"\n",
    "alter table predictor.random_forest add column residual double precision;\n",
    "update predictor.random_forest set residual = (tsr_predicted-tsr);\n",
    "\"\"\""
   ]
  },
  {
   "cell_type": "code",
   "execution_count": 173,
   "metadata": {},
   "outputs": [
    {
     "data": {
      "text/plain": [
       "<sqlalchemy.engine.result.ResultProxy at 0x7f801c6aa350>"
      ]
     },
     "execution_count": 173,
     "metadata": {},
     "output_type": "execute_result"
    }
   ],
   "source": [
    "connection = engine.connect()\n",
    "connection.execute(update_residual)"
   ]
  },
  {
   "cell_type": "code",
   "execution_count": null,
   "metadata": {},
   "outputs": [],
   "source": []
  },
  {
   "cell_type": "code",
   "execution_count": null,
   "metadata": {},
   "outputs": [],
   "source": []
  }
 ],
 "metadata": {
  "kernelspec": {
   "display_name": "Python 3",
   "language": "python",
   "name": "python3"
  },
  "language_info": {
   "codemirror_mode": {
    "name": "ipython",
    "version": 3
   },
   "file_extension": ".py",
   "mimetype": "text/x-python",
   "name": "python",
   "nbconvert_exporter": "python",
   "pygments_lexer": "ipython3",
   "version": "3.7.6"
  }
 },
 "nbformat": 4,
 "nbformat_minor": 2
}
