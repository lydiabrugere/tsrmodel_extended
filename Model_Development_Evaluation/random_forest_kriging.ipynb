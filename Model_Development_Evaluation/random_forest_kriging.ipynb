{
 "cells": [
  {
   "cell_type": "code",
   "execution_count": 1,
   "metadata": {},
   "outputs": [],
   "source": [
    "# Jupyter setup to expand cell display to 100% width on your screen (optional)\n",
    "# Import relevant modules and setup for calling glmnet\n",
    "%reset -f\n",
    "%matplotlib inline\n",
    "\n",
    "from sqlalchemy import create_engine\n",
    "import sys\n",
    "import pandas as pd\n",
    "import numpy as np\n",
    "import scipy, importlib, pprint, matplotlib.pyplot as plt, warnings\n",
    "from sklearn.model_selection import train_test_split\n",
    "from sklearn.preprocessing import StandardScaler\n",
    "from sklearn.impute import KNNImputer\n",
    "\n",
    "import statsmodels.api as sm\n",
    "import statsmodels.genmod as genmod\n",
    "from sklearn.metrics import r2_score\n",
    "from sklearn.metrics import mean_absolute_error\n",
    "\n",
    "### Residual Estimate - Kriging\n",
    "import pykrige.kriging_tools as kt\n",
    "from pykrige.ok import OrdinaryKriging"
   ]
  },
  {
   "cell_type": "code",
   "execution_count": 2,
   "metadata": {},
   "outputs": [],
   "source": [
    "# Machine learning \n",
    "from sklearn.ensemble import RandomForestRegressor"
   ]
  },
  {
   "cell_type": "markdown",
   "metadata": {},
   "source": [
    "### load data"
   ]
  },
  {
   "cell_type": "code",
   "execution_count": 3,
   "metadata": {},
   "outputs": [],
   "source": [
    "localhost = {'user': 'postgres', 'password': 'postgres', 'host': 'localhost', 'port': 5432, 'db': 'fiadb'}\n",
    "params = 'postgresql://{0}:{1}@{2}:{3}/{4}'\n",
    "engine = create_engine(params.format(localhost['user'], localhost['password'], localhost['host'], localhost['port'], localhost['db']))\n",
    "pergrid_base = \"\"\"select distinct * from predictor.pergrid_base\"\"\"\n",
    "pergrid_base_df = pd.read_sql(pergrid_base, engine)"
   ]
  },
  {
   "cell_type": "code",
   "execution_count": 4,
   "metadata": {},
   "outputs": [
    {
     "data": {
      "text/plain": [
       "Index(['grid_id', 'aet', 'ai', 'art', 'ewd', 'fa', 'map', 'mat', 'mpdq',\n",
       "       'mtcq', 'pet', 'psn', 'ra', 'rmap', 'rmat', 'tsn', 'mfdf', 'alt', 'shg',\n",
       "       'mtwq', 'wkb_geometry', 'tsr', 'wa', 'ha', 'wkt', 'lat', 'lon'],\n",
       "      dtype='object')"
      ]
     },
     "execution_count": 4,
     "metadata": {},
     "output_type": "execute_result"
    }
   ],
   "source": [
    "pergrid_base_df.columns"
   ]
  },
  {
   "cell_type": "code",
   "execution_count": 5,
   "metadata": {},
   "outputs": [],
   "source": [
    "y_true = pergrid_base_df['tsr']\n",
    "grid_id = pergrid_base_df['grid_id']"
   ]
  },
  {
   "cell_type": "code",
   "execution_count": 6,
   "metadata": {},
   "outputs": [],
   "source": [
    "var= ['grid_id', 'tsr', 'lat', 'lon', 'aet', 'ai', 'art', 'ewd', 'fa', 'map', 'mat', 'mpdq',\n",
    "       'mtcq', 'pet', 'psn', 'ra', 'rmap', 'rmat', 'tsn', 'mfdf', 'alt','shg', 'mtwq', 'wa']\n",
    "pred_var= ['aet', 'ai', 'art', 'ewd', 'fa', 'map', 'mat', 'mpdq',\n",
    "       'mtcq', 'pet', 'psn', 'ra', 'rmap', 'rmat', 'tsn', 'mfdf', 'alt','shg', 'mtwq', 'wa']"
   ]
  },
  {
   "cell_type": "code",
   "execution_count": 7,
   "metadata": {},
   "outputs": [],
   "source": [
    "pergrid_base_df = pergrid_base_df[var]"
   ]
  },
  {
   "cell_type": "code",
   "execution_count": 8,
   "metadata": {
    "scrolled": true
   },
   "outputs": [
    {
     "data": {
      "text/html": [
       "<div>\n",
       "<style scoped>\n",
       "    .dataframe tbody tr th:only-of-type {\n",
       "        vertical-align: middle;\n",
       "    }\n",
       "\n",
       "    .dataframe tbody tr th {\n",
       "        vertical-align: top;\n",
       "    }\n",
       "\n",
       "    .dataframe thead th {\n",
       "        text-align: right;\n",
       "    }\n",
       "</style>\n",
       "<table border=\"1\" class=\"dataframe\">\n",
       "  <thead>\n",
       "    <tr style=\"text-align: right;\">\n",
       "      <th></th>\n",
       "      <th>grid_id</th>\n",
       "      <th>tsr</th>\n",
       "      <th>lat</th>\n",
       "      <th>lon</th>\n",
       "      <th>aet</th>\n",
       "      <th>ai</th>\n",
       "      <th>art</th>\n",
       "      <th>ewd</th>\n",
       "      <th>fa</th>\n",
       "      <th>map</th>\n",
       "      <th>...</th>\n",
       "      <th>psn</th>\n",
       "      <th>ra</th>\n",
       "      <th>rmap</th>\n",
       "      <th>rmat</th>\n",
       "      <th>tsn</th>\n",
       "      <th>mfdf</th>\n",
       "      <th>alt</th>\n",
       "      <th>shg</th>\n",
       "      <th>mtwq</th>\n",
       "      <th>wa</th>\n",
       "    </tr>\n",
       "  </thead>\n",
       "  <tbody>\n",
       "    <tr>\n",
       "      <th>0</th>\n",
       "      <td>110</td>\n",
       "      <td>4.0</td>\n",
       "      <td>25.932871</td>\n",
       "      <td>-97.631112</td>\n",
       "      <td>6000.0</td>\n",
       "      <td>0.3675</td>\n",
       "      <td>21.191667</td>\n",
       "      <td>-2.523666e+06</td>\n",
       "      <td>7.7058</td>\n",
       "      <td>681.0</td>\n",
       "      <td>...</td>\n",
       "      <td>50.411522</td>\n",
       "      <td>16.0</td>\n",
       "      <td>2.833333</td>\n",
       "      <td>0.604166</td>\n",
       "      <td>444.860212</td>\n",
       "      <td>2.27</td>\n",
       "      <td>11.597701</td>\n",
       "      <td>None</td>\n",
       "      <td>28.792500</td>\n",
       "      <td>4.1166</td>\n",
       "    </tr>\n",
       "    <tr>\n",
       "      <th>1</th>\n",
       "      <td>111</td>\n",
       "      <td>2.0</td>\n",
       "      <td>25.935809</td>\n",
       "      <td>-97.433331</td>\n",
       "      <td>65535.0</td>\n",
       "      <td>0.3829</td>\n",
       "      <td>20.233612</td>\n",
       "      <td>-2.537902e+06</td>\n",
       "      <td>14.1498</td>\n",
       "      <td>699.0</td>\n",
       "      <td>...</td>\n",
       "      <td>49.797996</td>\n",
       "      <td>14.0</td>\n",
       "      <td>2.000000</td>\n",
       "      <td>0.620833</td>\n",
       "      <td>444.259982</td>\n",
       "      <td>2.10</td>\n",
       "      <td>5.982890</td>\n",
       "      <td>5</td>\n",
       "      <td>28.717458</td>\n",
       "      <td>11.8152</td>\n",
       "    </tr>\n",
       "  </tbody>\n",
       "</table>\n",
       "<p>2 rows × 24 columns</p>\n",
       "</div>"
      ],
      "text/plain": [
       "   grid_id  tsr        lat        lon      aet      ai        art  \\\n",
       "0      110  4.0  25.932871 -97.631112   6000.0  0.3675  21.191667   \n",
       "1      111  2.0  25.935809 -97.433331  65535.0  0.3829  20.233612   \n",
       "\n",
       "            ewd       fa    map  ...        psn    ra      rmap      rmat  \\\n",
       "0 -2.523666e+06   7.7058  681.0  ...  50.411522  16.0  2.833333  0.604166   \n",
       "1 -2.537902e+06  14.1498  699.0  ...  49.797996  14.0  2.000000  0.620833   \n",
       "\n",
       "          tsn  mfdf        alt   shg       mtwq       wa  \n",
       "0  444.860212  2.27  11.597701  None  28.792500   4.1166  \n",
       "1  444.259982  2.10   5.982890     5  28.717458  11.8152  \n",
       "\n",
       "[2 rows x 24 columns]"
      ]
     },
     "execution_count": 8,
     "metadata": {},
     "output_type": "execute_result"
    }
   ],
   "source": [
    "pergrid_base_df.head(2)"
   ]
  },
  {
   "cell_type": "markdown",
   "metadata": {},
   "source": [
    "### calculate cartesian coordinates "
   ]
  },
  {
   "cell_type": "code",
   "execution_count": 9,
   "metadata": {},
   "outputs": [],
   "source": [
    "# Converting lat/long to cartesian\n",
    "import numpy as np\n",
    "\n",
    "def get_cartesian(lat=None,lon=None):\n",
    "    lat, lon = np.deg2rad(lat), np.deg2rad(lon)\n",
    "    R = 6371 # radius of the earth\n",
    "    x = R * np.cos(lat) * np.cos(lon)\n",
    "    y = R * np.cos(lat) * np.sin(lon)\n",
    "    return x,y"
   ]
  },
  {
   "cell_type": "code",
   "execution_count": 10,
   "metadata": {},
   "outputs": [],
   "source": [
    "pergrid_base_df['x'] = 0.0\n",
    "pergrid_base_df['y'] = 0.0"
   ]
  },
  {
   "cell_type": "code",
   "execution_count": 11,
   "metadata": {},
   "outputs": [],
   "source": [
    "for i in pergrid_base_df.index:\n",
    "    lat = pergrid_base_df.at[i, 'lat']\n",
    "    lon = pergrid_base_df.at[i, 'lon']\n",
    "    x, y = get_cartesian(lat,lon)\n",
    "    \n",
    "    pergrid_base_df.at[i, 'x'] = x\n",
    "    pergrid_base_df.at[i, 'y'] = y"
   ]
  },
  {
   "cell_type": "code",
   "execution_count": 12,
   "metadata": {},
   "outputs": [
    {
     "data": {
      "text/html": [
       "<div>\n",
       "<style scoped>\n",
       "    .dataframe tbody tr th:only-of-type {\n",
       "        vertical-align: middle;\n",
       "    }\n",
       "\n",
       "    .dataframe tbody tr th {\n",
       "        vertical-align: top;\n",
       "    }\n",
       "\n",
       "    .dataframe thead th {\n",
       "        text-align: right;\n",
       "    }\n",
       "</style>\n",
       "<table border=\"1\" class=\"dataframe\">\n",
       "  <thead>\n",
       "    <tr style=\"text-align: right;\">\n",
       "      <th></th>\n",
       "      <th>grid_id</th>\n",
       "      <th>tsr</th>\n",
       "      <th>lat</th>\n",
       "      <th>lon</th>\n",
       "      <th>aet</th>\n",
       "      <th>ai</th>\n",
       "      <th>art</th>\n",
       "      <th>ewd</th>\n",
       "      <th>fa</th>\n",
       "      <th>map</th>\n",
       "      <th>...</th>\n",
       "      <th>rmap</th>\n",
       "      <th>rmat</th>\n",
       "      <th>tsn</th>\n",
       "      <th>mfdf</th>\n",
       "      <th>alt</th>\n",
       "      <th>shg</th>\n",
       "      <th>mtwq</th>\n",
       "      <th>wa</th>\n",
       "      <th>x</th>\n",
       "      <th>y</th>\n",
       "    </tr>\n",
       "  </thead>\n",
       "  <tbody>\n",
       "    <tr>\n",
       "      <th>0</th>\n",
       "      <td>110</td>\n",
       "      <td>4.0</td>\n",
       "      <td>25.932871</td>\n",
       "      <td>-97.631112</td>\n",
       "      <td>6000.0</td>\n",
       "      <td>0.3675</td>\n",
       "      <td>21.191667</td>\n",
       "      <td>-2.523666e+06</td>\n",
       "      <td>7.7058</td>\n",
       "      <td>681.0</td>\n",
       "      <td>...</td>\n",
       "      <td>2.833333</td>\n",
       "      <td>0.604166</td>\n",
       "      <td>444.860212</td>\n",
       "      <td>2.27</td>\n",
       "      <td>11.597701</td>\n",
       "      <td>None</td>\n",
       "      <td>28.792500</td>\n",
       "      <td>4.1166</td>\n",
       "      <td>-760.844723</td>\n",
       "      <td>-5678.742385</td>\n",
       "    </tr>\n",
       "    <tr>\n",
       "      <th>1</th>\n",
       "      <td>111</td>\n",
       "      <td>2.0</td>\n",
       "      <td>25.935809</td>\n",
       "      <td>-97.433331</td>\n",
       "      <td>65535.0</td>\n",
       "      <td>0.3829</td>\n",
       "      <td>20.233612</td>\n",
       "      <td>-2.537902e+06</td>\n",
       "      <td>14.1498</td>\n",
       "      <td>699.0</td>\n",
       "      <td>...</td>\n",
       "      <td>2.000000</td>\n",
       "      <td>0.620833</td>\n",
       "      <td>444.259982</td>\n",
       "      <td>2.10</td>\n",
       "      <td>5.982890</td>\n",
       "      <td>5</td>\n",
       "      <td>28.717458</td>\n",
       "      <td>11.8152</td>\n",
       "      <td>-741.219177</td>\n",
       "      <td>-5681.193259</td>\n",
       "    </tr>\n",
       "    <tr>\n",
       "      <th>2</th>\n",
       "      <td>195</td>\n",
       "      <td>5.0</td>\n",
       "      <td>24.833530</td>\n",
       "      <td>-80.942689</td>\n",
       "      <td>65535.0</td>\n",
       "      <td>NaN</td>\n",
       "      <td>0.164286</td>\n",
       "      <td>-5.247088e+02</td>\n",
       "      <td>0.0711</td>\n",
       "      <td>1148.5</td>\n",
       "      <td>...</td>\n",
       "      <td>1.833333</td>\n",
       "      <td>0.241667</td>\n",
       "      <td>3.698817</td>\n",
       "      <td>NaN</td>\n",
       "      <td>0.011696</td>\n",
       "      <td>None</td>\n",
       "      <td>28.626191</td>\n",
       "      <td>302.9049</td>\n",
       "      <td>910.197970</td>\n",
       "      <td>-5709.793273</td>\n",
       "    </tr>\n",
       "    <tr>\n",
       "      <th>3</th>\n",
       "      <td>337</td>\n",
       "      <td>1.0</td>\n",
       "      <td>26.099436</td>\n",
       "      <td>-98.427128</td>\n",
       "      <td>5135.0</td>\n",
       "      <td>0.2898</td>\n",
       "      <td>23.950167</td>\n",
       "      <td>-2.941595e+06</td>\n",
       "      <td>3.0042</td>\n",
       "      <td>565.0</td>\n",
       "      <td>...</td>\n",
       "      <td>2.333333</td>\n",
       "      <td>0.391667</td>\n",
       "      <td>492.281141</td>\n",
       "      <td>2.12</td>\n",
       "      <td>61.886973</td>\n",
       "      <td>None</td>\n",
       "      <td>29.458834</td>\n",
       "      <td>1.2528</td>\n",
       "      <td>-838.473507</td>\n",
       "      <td>-5659.588039</td>\n",
       "    </tr>\n",
       "    <tr>\n",
       "      <th>4</th>\n",
       "      <td>338</td>\n",
       "      <td>1.0</td>\n",
       "      <td>26.103897</td>\n",
       "      <td>-98.229000</td>\n",
       "      <td>5645.0</td>\n",
       "      <td>0.3017</td>\n",
       "      <td>23.526261</td>\n",
       "      <td>-2.959517e+06</td>\n",
       "      <td>10.0350</td>\n",
       "      <td>580.0</td>\n",
       "      <td>...</td>\n",
       "      <td>3.416667</td>\n",
       "      <td>0.620833</td>\n",
       "      <td>489.587254</td>\n",
       "      <td>2.12</td>\n",
       "      <td>32.270955</td>\n",
       "      <td>5</td>\n",
       "      <td>29.300416</td>\n",
       "      <td>4.2480</td>\n",
       "      <td>-818.866554</td>\n",
       "      <td>-5662.237626</td>\n",
       "    </tr>\n",
       "  </tbody>\n",
       "</table>\n",
       "<p>5 rows × 26 columns</p>\n",
       "</div>"
      ],
      "text/plain": [
       "   grid_id  tsr        lat        lon      aet      ai        art  \\\n",
       "0      110  4.0  25.932871 -97.631112   6000.0  0.3675  21.191667   \n",
       "1      111  2.0  25.935809 -97.433331  65535.0  0.3829  20.233612   \n",
       "2      195  5.0  24.833530 -80.942689  65535.0     NaN   0.164286   \n",
       "3      337  1.0  26.099436 -98.427128   5135.0  0.2898  23.950167   \n",
       "4      338  1.0  26.103897 -98.229000   5645.0  0.3017  23.526261   \n",
       "\n",
       "            ewd       fa     map  ...      rmap      rmat         tsn  mfdf  \\\n",
       "0 -2.523666e+06   7.7058   681.0  ...  2.833333  0.604166  444.860212  2.27   \n",
       "1 -2.537902e+06  14.1498   699.0  ...  2.000000  0.620833  444.259982  2.10   \n",
       "2 -5.247088e+02   0.0711  1148.5  ...  1.833333  0.241667    3.698817   NaN   \n",
       "3 -2.941595e+06   3.0042   565.0  ...  2.333333  0.391667  492.281141  2.12   \n",
       "4 -2.959517e+06  10.0350   580.0  ...  3.416667  0.620833  489.587254  2.12   \n",
       "\n",
       "         alt   shg       mtwq        wa           x            y  \n",
       "0  11.597701  None  28.792500    4.1166 -760.844723 -5678.742385  \n",
       "1   5.982890     5  28.717458   11.8152 -741.219177 -5681.193259  \n",
       "2   0.011696  None  28.626191  302.9049  910.197970 -5709.793273  \n",
       "3  61.886973  None  29.458834    1.2528 -838.473507 -5659.588039  \n",
       "4  32.270955     5  29.300416    4.2480 -818.866554 -5662.237626  \n",
       "\n",
       "[5 rows x 26 columns]"
      ]
     },
     "execution_count": 12,
     "metadata": {},
     "output_type": "execute_result"
    }
   ],
   "source": [
    "pergrid_base_df.head()"
   ]
  },
  {
   "cell_type": "code",
   "execution_count": 13,
   "metadata": {},
   "outputs": [],
   "source": [
    "var_coord = ['grid_id', 'tsr', 'lat', 'lon', 'x', 'y', 'aet', 'ai', 'art', 'ewd', 'fa', 'map',\n",
    "       'mat', 'mpdq', 'mtcq', 'pet', 'psn', 'ra', 'rmap', 'rmat', 'tsn',\n",
    "       'mfdf', 'alt', 'shg', 'mtwq', 'wa']"
   ]
  },
  {
   "cell_type": "markdown",
   "metadata": {},
   "source": [
    "### fill NA and split data"
   ]
  },
  {
   "cell_type": "code",
   "execution_count": 14,
   "metadata": {},
   "outputs": [],
   "source": [
    "imputer = KNNImputer(n_neighbors=5)\n",
    "pergrid_base_df_filled = imputer.fit_transform(pergrid_base_df)\n",
    "pergrid_base_df = pd.DataFrame(pergrid_base_df_filled)\n",
    "\n",
    "# standarize predictors\n",
    "ss = StandardScaler(with_mean=False, with_std=False)\n",
    "pergrid_base_df_std = ss.fit_transform(pergrid_base_df)\n",
    "\n",
    "pergrid_base_df_std=pd.DataFrame(data=pergrid_base_df_std[0:,0:],\n",
    "                index=pergrid_base_df.index,\n",
    "                columns=var_coord)"
   ]
  },
  {
   "cell_type": "code",
   "execution_count": 15,
   "metadata": {},
   "outputs": [
    {
     "data": {
      "text/html": [
       "<div>\n",
       "<style scoped>\n",
       "    .dataframe tbody tr th:only-of-type {\n",
       "        vertical-align: middle;\n",
       "    }\n",
       "\n",
       "    .dataframe tbody tr th {\n",
       "        vertical-align: top;\n",
       "    }\n",
       "\n",
       "    .dataframe thead th {\n",
       "        text-align: right;\n",
       "    }\n",
       "</style>\n",
       "<table border=\"1\" class=\"dataframe\">\n",
       "  <thead>\n",
       "    <tr style=\"text-align: right;\">\n",
       "      <th></th>\n",
       "      <th>grid_id</th>\n",
       "      <th>tsr</th>\n",
       "      <th>lat</th>\n",
       "      <th>lon</th>\n",
       "      <th>x</th>\n",
       "      <th>y</th>\n",
       "      <th>aet</th>\n",
       "      <th>ai</th>\n",
       "      <th>art</th>\n",
       "      <th>ewd</th>\n",
       "      <th>...</th>\n",
       "      <th>psn</th>\n",
       "      <th>ra</th>\n",
       "      <th>rmap</th>\n",
       "      <th>rmat</th>\n",
       "      <th>tsn</th>\n",
       "      <th>mfdf</th>\n",
       "      <th>alt</th>\n",
       "      <th>shg</th>\n",
       "      <th>mtwq</th>\n",
       "      <th>wa</th>\n",
       "    </tr>\n",
       "  </thead>\n",
       "  <tbody>\n",
       "    <tr>\n",
       "      <th>0</th>\n",
       "      <td>110.0</td>\n",
       "      <td>4.0</td>\n",
       "      <td>25.932871</td>\n",
       "      <td>-97.631112</td>\n",
       "      <td>6000.0</td>\n",
       "      <td>0.3675</td>\n",
       "      <td>21.191667</td>\n",
       "      <td>-2.523666e+06</td>\n",
       "      <td>7.7058</td>\n",
       "      <td>681.0</td>\n",
       "      <td>...</td>\n",
       "      <td>2.833333</td>\n",
       "      <td>0.604166</td>\n",
       "      <td>444.860212</td>\n",
       "      <td>2.27</td>\n",
       "      <td>11.597701</td>\n",
       "      <td>4.6</td>\n",
       "      <td>28.792500</td>\n",
       "      <td>4.1166</td>\n",
       "      <td>-760.844723</td>\n",
       "      <td>-5678.742385</td>\n",
       "    </tr>\n",
       "    <tr>\n",
       "      <th>1</th>\n",
       "      <td>111.0</td>\n",
       "      <td>2.0</td>\n",
       "      <td>25.935809</td>\n",
       "      <td>-97.433331</td>\n",
       "      <td>65535.0</td>\n",
       "      <td>0.3829</td>\n",
       "      <td>20.233612</td>\n",
       "      <td>-2.537902e+06</td>\n",
       "      <td>14.1498</td>\n",
       "      <td>699.0</td>\n",
       "      <td>...</td>\n",
       "      <td>2.000000</td>\n",
       "      <td>0.620833</td>\n",
       "      <td>444.259982</td>\n",
       "      <td>2.10</td>\n",
       "      <td>5.982890</td>\n",
       "      <td>5.0</td>\n",
       "      <td>28.717458</td>\n",
       "      <td>11.8152</td>\n",
       "      <td>-741.219177</td>\n",
       "      <td>-5681.193259</td>\n",
       "    </tr>\n",
       "  </tbody>\n",
       "</table>\n",
       "<p>2 rows × 26 columns</p>\n",
       "</div>"
      ],
      "text/plain": [
       "   grid_id  tsr        lat        lon        x       y        aet  \\\n",
       "0    110.0  4.0  25.932871 -97.631112   6000.0  0.3675  21.191667   \n",
       "1    111.0  2.0  25.935809 -97.433331  65535.0  0.3829  20.233612   \n",
       "\n",
       "             ai      art    ewd  ...       psn        ra        rmap  rmat  \\\n",
       "0 -2.523666e+06   7.7058  681.0  ...  2.833333  0.604166  444.860212  2.27   \n",
       "1 -2.537902e+06  14.1498  699.0  ...  2.000000  0.620833  444.259982  2.10   \n",
       "\n",
       "         tsn  mfdf        alt      shg        mtwq           wa  \n",
       "0  11.597701   4.6  28.792500   4.1166 -760.844723 -5678.742385  \n",
       "1   5.982890   5.0  28.717458  11.8152 -741.219177 -5681.193259  \n",
       "\n",
       "[2 rows x 26 columns]"
      ]
     },
     "execution_count": 15,
     "metadata": {},
     "output_type": "execute_result"
    }
   ],
   "source": [
    "pergrid_base_df_std.head(2)"
   ]
  },
  {
   "cell_type": "code",
   "execution_count": 19,
   "metadata": {},
   "outputs": [],
   "source": [
    "cleaned_data = pergrid_base_df_std[var]\n",
    "cleaned_data.to_csv('cleaned.csv')"
   ]
  },
  {
   "cell_type": "code",
   "execution_count": 16,
   "metadata": {},
   "outputs": [],
   "source": [
    "pergrid_base_df_test = pergrid_base_df_std.sample(frac=0.2, replace=False, random_state=1)\n",
    "pergrid_base_df_train = pergrid_base_df_std.drop(pergrid_base_df_test.index)"
   ]
  },
  {
   "cell_type": "code",
   "execution_count": 17,
   "metadata": {},
   "outputs": [],
   "source": [
    "# X_train, X_test, y_train, y_test = train_test_split(pergrid_base_df_std, y_true, test_size=0.2, random_state=0)"
   ]
  },
  {
   "cell_type": "code",
   "execution_count": 18,
   "metadata": {},
   "outputs": [
    {
     "data": {
      "text/html": [
       "<div>\n",
       "<style scoped>\n",
       "    .dataframe tbody tr th:only-of-type {\n",
       "        vertical-align: middle;\n",
       "    }\n",
       "\n",
       "    .dataframe tbody tr th {\n",
       "        vertical-align: top;\n",
       "    }\n",
       "\n",
       "    .dataframe thead th {\n",
       "        text-align: right;\n",
       "    }\n",
       "</style>\n",
       "<table border=\"1\" class=\"dataframe\">\n",
       "  <thead>\n",
       "    <tr style=\"text-align: right;\">\n",
       "      <th></th>\n",
       "      <th>grid_id</th>\n",
       "      <th>tsr</th>\n",
       "      <th>lat</th>\n",
       "      <th>lon</th>\n",
       "      <th>x</th>\n",
       "      <th>y</th>\n",
       "      <th>aet</th>\n",
       "      <th>ai</th>\n",
       "      <th>art</th>\n",
       "      <th>ewd</th>\n",
       "      <th>...</th>\n",
       "      <th>psn</th>\n",
       "      <th>ra</th>\n",
       "      <th>rmap</th>\n",
       "      <th>rmat</th>\n",
       "      <th>tsn</th>\n",
       "      <th>mfdf</th>\n",
       "      <th>alt</th>\n",
       "      <th>shg</th>\n",
       "      <th>mtwq</th>\n",
       "      <th>wa</th>\n",
       "    </tr>\n",
       "  </thead>\n",
       "  <tbody>\n",
       "    <tr>\n",
       "      <th>0</th>\n",
       "      <td>110.0</td>\n",
       "      <td>4.0</td>\n",
       "      <td>25.932871</td>\n",
       "      <td>-97.631112</td>\n",
       "      <td>6000.0</td>\n",
       "      <td>0.3675</td>\n",
       "      <td>21.191667</td>\n",
       "      <td>-2.523666e+06</td>\n",
       "      <td>7.7058</td>\n",
       "      <td>681.0</td>\n",
       "      <td>...</td>\n",
       "      <td>2.833333</td>\n",
       "      <td>0.604166</td>\n",
       "      <td>444.860212</td>\n",
       "      <td>2.27</td>\n",
       "      <td>11.597701</td>\n",
       "      <td>4.6</td>\n",
       "      <td>28.792500</td>\n",
       "      <td>4.1166</td>\n",
       "      <td>-760.844723</td>\n",
       "      <td>-5678.742385</td>\n",
       "    </tr>\n",
       "    <tr>\n",
       "      <th>1</th>\n",
       "      <td>111.0</td>\n",
       "      <td>2.0</td>\n",
       "      <td>25.935809</td>\n",
       "      <td>-97.433331</td>\n",
       "      <td>65535.0</td>\n",
       "      <td>0.3829</td>\n",
       "      <td>20.233612</td>\n",
       "      <td>-2.537902e+06</td>\n",
       "      <td>14.1498</td>\n",
       "      <td>699.0</td>\n",
       "      <td>...</td>\n",
       "      <td>2.000000</td>\n",
       "      <td>0.620833</td>\n",
       "      <td>444.259982</td>\n",
       "      <td>2.10</td>\n",
       "      <td>5.982890</td>\n",
       "      <td>5.0</td>\n",
       "      <td>28.717458</td>\n",
       "      <td>11.8152</td>\n",
       "      <td>-741.219177</td>\n",
       "      <td>-5681.193259</td>\n",
       "    </tr>\n",
       "  </tbody>\n",
       "</table>\n",
       "<p>2 rows × 26 columns</p>\n",
       "</div>"
      ],
      "text/plain": [
       "   grid_id  tsr        lat        lon        x       y        aet  \\\n",
       "0    110.0  4.0  25.932871 -97.631112   6000.0  0.3675  21.191667   \n",
       "1    111.0  2.0  25.935809 -97.433331  65535.0  0.3829  20.233612   \n",
       "\n",
       "             ai      art    ewd  ...       psn        ra        rmap  rmat  \\\n",
       "0 -2.523666e+06   7.7058  681.0  ...  2.833333  0.604166  444.860212  2.27   \n",
       "1 -2.537902e+06  14.1498  699.0  ...  2.000000  0.620833  444.259982  2.10   \n",
       "\n",
       "         tsn  mfdf        alt      shg        mtwq           wa  \n",
       "0  11.597701   4.6  28.792500   4.1166 -760.844723 -5678.742385  \n",
       "1   5.982890   5.0  28.717458  11.8152 -741.219177 -5681.193259  \n",
       "\n",
       "[2 rows x 26 columns]"
      ]
     },
     "execution_count": 18,
     "metadata": {},
     "output_type": "execute_result"
    }
   ],
   "source": [
    "pergrid_base_df_train.head(2)"
   ]
  },
  {
   "cell_type": "markdown",
   "metadata": {},
   "source": [
    "### test on a 10-trees forest"
   ]
  },
  {
   "cell_type": "code",
   "execution_count": 19,
   "metadata": {},
   "outputs": [
    {
     "name": "stdout",
     "output_type": "stream",
     "text": [
      "Training Random Forest Regressor...\n"
     ]
    },
    {
     "data": {
      "text/plain": [
       "RandomForestRegressor(bootstrap=True, ccp_alpha=0.0, criterion='mse',\n",
       "                      max_depth=None, max_features='auto', max_leaf_nodes=None,\n",
       "                      max_samples=None, min_impurity_decrease=0.0,\n",
       "                      min_impurity_split=None, min_samples_leaf=1,\n",
       "                      min_samples_split=2, min_weight_fraction_leaf=0.0,\n",
       "                      n_estimators=10, n_jobs=None, oob_score=False,\n",
       "                      random_state=42, verbose=0, warm_start=False)"
      ]
     },
     "execution_count": 19,
     "metadata": {},
     "output_type": "execute_result"
    }
   ],
   "source": [
    "print(\"Training Random Forest Regressor...\")\n",
    "rf = RandomForestRegressor(n_estimators = 10, random_state = 42, bootstrap=True)\n",
    "rf.fit(pergrid_base_df_train[pred_var], pergrid_base_df_train['tsr'])"
   ]
  },
  {
   "cell_type": "code",
   "execution_count": 20,
   "metadata": {},
   "outputs": [],
   "source": [
    "y_pred = rf.predict(pergrid_base_df_test[pred_var])"
   ]
  },
  {
   "cell_type": "code",
   "execution_count": 21,
   "metadata": {},
   "outputs": [
    {
     "name": "stdout",
     "output_type": "stream",
     "text": [
      "Test score:  0.8944871492446951\n"
     ]
    }
   ],
   "source": [
    "test_score_cv=rf.score(pergrid_base_df_test[pred_var],pergrid_base_df_test['tsr'])\n",
    "print(\"Test score: \", test_score_cv)"
   ]
  },
  {
   "cell_type": "markdown",
   "metadata": {},
   "source": [
    "### tuning forest structures and hyper-paramters"
   ]
  },
  {
   "cell_type": "code",
   "execution_count": 22,
   "metadata": {},
   "outputs": [],
   "source": [
    "# Grid and Random Search best hyperparameters\n",
    "import time\n",
    "import scipy.stats as st\n",
    "from scipy.stats import randint as sp_randint\n",
    "from sklearn.model_selection import RandomizedSearchCV"
   ]
  },
  {
   "cell_type": "code",
   "execution_count": 23,
   "metadata": {},
   "outputs": [],
   "source": [
    "# Specify parameters and distributions to sample from\n",
    "# Number of trees in random forest\n",
    "n_estimators = [int(x) for x in np.linspace(start = 10, stop = 500, num = 20)]\n",
    "# max number of features considered for splitting a node\n",
    "max_features = ['auto', 'sqrt']\n",
    "# max number of levels in each decision tree\n",
    "max_depth = [int(x) for x in np.linspace(30, 80, num = 10)]\n",
    "max_depth.append(None)\n",
    "# min number of data points placed in a node before the node is split\n",
    "min_samples_split = [5, 10]\n",
    "# min number of data points allowed in a leaf node\n",
    "min_samples_leaf = [5, 10]\n",
    "# Method of selecting samples for training each tree\n",
    "criterion = [\"mse\"] #mse"
   ]
  },
  {
   "cell_type": "code",
   "execution_count": 24,
   "metadata": {},
   "outputs": [
    {
     "name": "stdout",
     "output_type": "stream",
     "text": [
      "RandomizedSearchCV took 4250.71 seconds for 100 candidates parameter settings.\n"
     ]
    }
   ],
   "source": [
    "param_dist = {'n_estimators': n_estimators,\n",
    "               'max_features': max_features,\n",
    "               'max_depth': max_depth,\n",
    "               'min_samples_split': min_samples_split,\n",
    "               'min_samples_leaf': min_samples_leaf}\n",
    "\n",
    "# Run Randomized Search\n",
    "n_iter_search = 100 # Number of parameter settings that are sampled \n",
    "rfr = RandomForestRegressor()\n",
    "random_search = RandomizedSearchCV(estimator = rfr, \n",
    "                                   param_distributions=param_dist, \n",
    "                                   scoring='neg_root_mean_squared_error',\n",
    "                                   n_iter=n_iter_search,\n",
    "                                   n_jobs = -1, # using all processors\n",
    "                                   cv = 10)\n",
    "\n",
    "start = time.time()\n",
    "random_search.fit(pergrid_base_df_train[pred_var], pergrid_base_df_train['tsr'])\n",
    "print(\"RandomizedSearchCV took %.2f seconds for %d candidates\"\n",
    "      \" parameter settings.\" % ((time.time() - start), n_iter_search))"
   ]
  },
  {
   "cell_type": "code",
   "execution_count": 25,
   "metadata": {},
   "outputs": [
    {
     "data": {
      "text/plain": [
       "{'n_estimators': 345,\n",
       " 'min_samples_split': 5,\n",
       " 'min_samples_leaf': 5,\n",
       " 'max_features': 'sqrt',\n",
       " 'max_depth': 57}"
      ]
     },
     "execution_count": 25,
     "metadata": {},
     "output_type": "execute_result"
    }
   ],
   "source": [
    "random_search.best_params_"
   ]
  },
  {
   "cell_type": "markdown",
   "metadata": {},
   "source": [
    "### calculate residual"
   ]
  },
  {
   "cell_type": "code",
   "execution_count": 26,
   "metadata": {},
   "outputs": [
    {
     "name": "stderr",
     "output_type": "stream",
     "text": [
      "/Users/lianfeng/miniconda3/lib/python3.7/site-packages/ipykernel_launcher.py:3: SettingWithCopyWarning: \n",
      "A value is trying to be set on a copy of a slice from a DataFrame.\n",
      "Try using .loc[row_indexer,col_indexer] = value instead\n",
      "\n",
      "See the caveats in the documentation: https://pandas.pydata.org/pandas-docs/stable/user_guide/indexing.html#returning-a-view-versus-a-copy\n",
      "  This is separate from the ipykernel package so we can avoid doing imports until\n",
      "/Users/lianfeng/miniconda3/lib/python3.7/site-packages/ipykernel_launcher.py:6: SettingWithCopyWarning: \n",
      "A value is trying to be set on a copy of a slice from a DataFrame.\n",
      "Try using .loc[row_indexer,col_indexer] = value instead\n",
      "\n",
      "See the caveats in the documentation: https://pandas.pydata.org/pandas-docs/stable/user_guide/indexing.html#returning-a-view-versus-a-copy\n",
      "  \n"
     ]
    }
   ],
   "source": [
    "test_df = pergrid_base_df_test[['grid_id', 'tsr', 'lat', 'lon', 'x', 'y']]\n",
    "\n",
    "test_df['predicted_tsr'] = random_search.predict(pergrid_base_df_test[pred_var])\n",
    "test_residual =  test_df['predicted_tsr'] - test_df['tsr']\n",
    "\n",
    "test_df['residual'] = test_residual.tolist()"
   ]
  },
  {
   "cell_type": "code",
   "execution_count": 27,
   "metadata": {},
   "outputs": [
    {
     "name": "stderr",
     "output_type": "stream",
     "text": [
      "/Users/lianfeng/miniconda3/lib/python3.7/site-packages/ipykernel_launcher.py:3: SettingWithCopyWarning: \n",
      "A value is trying to be set on a copy of a slice from a DataFrame.\n",
      "Try using .loc[row_indexer,col_indexer] = value instead\n",
      "\n",
      "See the caveats in the documentation: https://pandas.pydata.org/pandas-docs/stable/user_guide/indexing.html#returning-a-view-versus-a-copy\n",
      "  This is separate from the ipykernel package so we can avoid doing imports until\n"
     ]
    }
   ],
   "source": [
    "train_residual = random_search.predict(pergrid_base_df_train[pred_var]) - pergrid_base_df_train['tsr']\n",
    "train_df = pergrid_base_df_train[['grid_id', 'tsr', 'lat', 'lon', 'x', 'y']]\n",
    "train_df['residual'] = train_residual.tolist()"
   ]
  },
  {
   "cell_type": "code",
   "execution_count": 28,
   "metadata": {},
   "outputs": [
    {
     "data": {
      "text/html": [
       "<div>\n",
       "<style scoped>\n",
       "    .dataframe tbody tr th:only-of-type {\n",
       "        vertical-align: middle;\n",
       "    }\n",
       "\n",
       "    .dataframe tbody tr th {\n",
       "        vertical-align: top;\n",
       "    }\n",
       "\n",
       "    .dataframe thead th {\n",
       "        text-align: right;\n",
       "    }\n",
       "</style>\n",
       "<table border=\"1\" class=\"dataframe\">\n",
       "  <thead>\n",
       "    <tr style=\"text-align: right;\">\n",
       "      <th></th>\n",
       "      <th>grid_id</th>\n",
       "      <th>tsr</th>\n",
       "      <th>lat</th>\n",
       "      <th>lon</th>\n",
       "      <th>x</th>\n",
       "      <th>y</th>\n",
       "      <th>predicted_tsr</th>\n",
       "      <th>residual</th>\n",
       "    </tr>\n",
       "  </thead>\n",
       "  <tbody>\n",
       "    <tr>\n",
       "      <th>2158</th>\n",
       "      <td>8613.0</td>\n",
       "      <td>2.0</td>\n",
       "      <td>32.077810</td>\n",
       "      <td>-107.147110</td>\n",
       "      <td>892.0</td>\n",
       "      <td>0.1041</td>\n",
       "      <td>1.500633</td>\n",
       "      <td>-0.499367</td>\n",
       "    </tr>\n",
       "    <tr>\n",
       "      <th>2123</th>\n",
       "      <td>8489.0</td>\n",
       "      <td>23.0</td>\n",
       "      <td>31.845669</td>\n",
       "      <td>-84.348885</td>\n",
       "      <td>5835.0</td>\n",
       "      <td>0.7869</td>\n",
       "      <td>26.718313</td>\n",
       "      <td>3.718313</td>\n",
       "    </tr>\n",
       "  </tbody>\n",
       "</table>\n",
       "</div>"
      ],
      "text/plain": [
       "      grid_id   tsr        lat         lon       x       y  predicted_tsr  \\\n",
       "2158   8613.0   2.0  32.077810 -107.147110   892.0  0.1041       1.500633   \n",
       "2123   8489.0  23.0  31.845669  -84.348885  5835.0  0.7869      26.718313   \n",
       "\n",
       "      residual  \n",
       "2158 -0.499367  \n",
       "2123  3.718313  "
      ]
     },
     "execution_count": 28,
     "metadata": {},
     "output_type": "execute_result"
    }
   ],
   "source": [
    "test_df.head(2)"
   ]
  },
  {
   "cell_type": "code",
   "execution_count": 29,
   "metadata": {},
   "outputs": [],
   "source": [
    "import numpy as np\n",
    "import pykrige.kriging_tools as kt\n",
    "from pykrige.ok import OrdinaryKriging\n",
    "import matplotlib.pyplot as plt"
   ]
  },
  {
   "cell_type": "code",
   "execution_count": 30,
   "metadata": {},
   "outputs": [],
   "source": [
    "OK = OrdinaryKriging(\n",
    "    x=train_df['x'], #'lon'\n",
    "    y=train_df['y'], # 'lat'\n",
    "    z=train_df['residual'],\n",
    "    coordinates_type='euclidean', #'geographic'\n",
    "    variogram_model=\"linear\",\n",
    "    verbose=False,\n",
    "    enable_statistics=False\n",
    ")"
   ]
  },
  {
   "cell_type": "code",
   "execution_count": 31,
   "metadata": {},
   "outputs": [
    {
     "name": "stdout",
     "output_type": "stream",
     "text": [
      "Q1 = None\n",
      "Q2 = None\n",
      "cR = None\n"
     ]
    }
   ],
   "source": [
    "OK.print_statistics()"
   ]
  },
  {
   "cell_type": "code",
   "execution_count": 32,
   "metadata": {},
   "outputs": [],
   "source": [
    "OK.get_epsilon_residuals()"
   ]
  },
  {
   "cell_type": "code",
   "execution_count": 33,
   "metadata": {},
   "outputs": [],
   "source": [
    "# predict_value_list, ss = OK.execute(\"points\", test_df['lon'], test_df['lat'])\n",
    "predict_value_list, ss = OK.execute(\"points\", test_df['x'], test_df['y'])"
   ]
  },
  {
   "cell_type": "code",
   "execution_count": 34,
   "metadata": {},
   "outputs": [
    {
     "name": "stderr",
     "output_type": "stream",
     "text": [
      "/Users/lianfeng/miniconda3/lib/python3.7/site-packages/ipykernel_launcher.py:1: SettingWithCopyWarning: \n",
      "A value is trying to be set on a copy of a slice from a DataFrame.\n",
      "Try using .loc[row_indexer,col_indexer] = value instead\n",
      "\n",
      "See the caveats in the documentation: https://pandas.pydata.org/pandas-docs/stable/user_guide/indexing.html#returning-a-view-versus-a-copy\n",
      "  \"\"\"Entry point for launching an IPython kernel.\n"
     ]
    }
   ],
   "source": [
    "test_df['residual_pred'] = predict_value_list"
   ]
  },
  {
   "cell_type": "code",
   "execution_count": 35,
   "metadata": {},
   "outputs": [
    {
     "name": "stderr",
     "output_type": "stream",
     "text": [
      "/Users/lianfeng/miniconda3/lib/python3.7/site-packages/ipykernel_launcher.py:1: SettingWithCopyWarning: \n",
      "A value is trying to be set on a copy of a slice from a DataFrame.\n",
      "Try using .loc[row_indexer,col_indexer] = value instead\n",
      "\n",
      "See the caveats in the documentation: https://pandas.pydata.org/pandas-docs/stable/user_guide/indexing.html#returning-a-view-versus-a-copy\n",
      "  \"\"\"Entry point for launching an IPython kernel.\n"
     ]
    }
   ],
   "source": [
    "test_df['predicted_tsr_kriging'] = test_df['predicted_tsr'] + test_df['residual_pred']"
   ]
  },
  {
   "cell_type": "code",
   "execution_count": 37,
   "metadata": {},
   "outputs": [
    {
     "data": {
      "text/html": [
       "<div>\n",
       "<style scoped>\n",
       "    .dataframe tbody tr th:only-of-type {\n",
       "        vertical-align: middle;\n",
       "    }\n",
       "\n",
       "    .dataframe tbody tr th {\n",
       "        vertical-align: top;\n",
       "    }\n",
       "\n",
       "    .dataframe thead th {\n",
       "        text-align: right;\n",
       "    }\n",
       "</style>\n",
       "<table border=\"1\" class=\"dataframe\">\n",
       "  <thead>\n",
       "    <tr style=\"text-align: right;\">\n",
       "      <th></th>\n",
       "      <th>grid_id</th>\n",
       "      <th>tsr</th>\n",
       "      <th>lat</th>\n",
       "      <th>lon</th>\n",
       "      <th>x</th>\n",
       "      <th>y</th>\n",
       "      <th>predicted_tsr</th>\n",
       "      <th>residual</th>\n",
       "      <th>residual_pred</th>\n",
       "      <th>predicted_tsr_kriging</th>\n",
       "    </tr>\n",
       "  </thead>\n",
       "  <tbody>\n",
       "    <tr>\n",
       "      <th>2158</th>\n",
       "      <td>8613.0</td>\n",
       "      <td>2.0</td>\n",
       "      <td>32.077810</td>\n",
       "      <td>-107.147110</td>\n",
       "      <td>892.0</td>\n",
       "      <td>0.1041</td>\n",
       "      <td>1.500633</td>\n",
       "      <td>-0.499367</td>\n",
       "      <td>0.098732</td>\n",
       "      <td>1.599365</td>\n",
       "    </tr>\n",
       "    <tr>\n",
       "      <th>2123</th>\n",
       "      <td>8489.0</td>\n",
       "      <td>23.0</td>\n",
       "      <td>31.845669</td>\n",
       "      <td>-84.348885</td>\n",
       "      <td>5835.0</td>\n",
       "      <td>0.7869</td>\n",
       "      <td>26.718313</td>\n",
       "      <td>3.718313</td>\n",
       "      <td>0.012107</td>\n",
       "      <td>26.730420</td>\n",
       "    </tr>\n",
       "    <tr>\n",
       "      <th>7905</th>\n",
       "      <td>17690.0</td>\n",
       "      <td>18.0</td>\n",
       "      <td>39.542235</td>\n",
       "      <td>-92.299311</td>\n",
       "      <td>6204.0</td>\n",
       "      <td>0.7579</td>\n",
       "      <td>21.526816</td>\n",
       "      <td>3.526816</td>\n",
       "      <td>0.129916</td>\n",
       "      <td>21.656733</td>\n",
       "    </tr>\n",
       "    <tr>\n",
       "      <th>10586</th>\n",
       "      <td>21879.0</td>\n",
       "      <td>19.0</td>\n",
       "      <td>42.308770</td>\n",
       "      <td>-84.555630</td>\n",
       "      <td>6103.0</td>\n",
       "      <td>0.7574</td>\n",
       "      <td>19.281692</td>\n",
       "      <td>0.281692</td>\n",
       "      <td>0.108548</td>\n",
       "      <td>19.390240</td>\n",
       "    </tr>\n",
       "    <tr>\n",
       "      <th>6617</th>\n",
       "      <td>15787.0</td>\n",
       "      <td>13.0</td>\n",
       "      <td>37.836948</td>\n",
       "      <td>-105.017268</td>\n",
       "      <td>2770.0</td>\n",
       "      <td>0.3163</td>\n",
       "      <td>9.926901</td>\n",
       "      <td>-3.073099</td>\n",
       "      <td>0.033144</td>\n",
       "      <td>9.960045</td>\n",
       "    </tr>\n",
       "  </tbody>\n",
       "</table>\n",
       "</div>"
      ],
      "text/plain": [
       "       grid_id   tsr        lat         lon       x       y  predicted_tsr  \\\n",
       "2158    8613.0   2.0  32.077810 -107.147110   892.0  0.1041       1.500633   \n",
       "2123    8489.0  23.0  31.845669  -84.348885  5835.0  0.7869      26.718313   \n",
       "7905   17690.0  18.0  39.542235  -92.299311  6204.0  0.7579      21.526816   \n",
       "10586  21879.0  19.0  42.308770  -84.555630  6103.0  0.7574      19.281692   \n",
       "6617   15787.0  13.0  37.836948 -105.017268  2770.0  0.3163       9.926901   \n",
       "\n",
       "       residual  residual_pred  predicted_tsr_kriging  \n",
       "2158  -0.499367       0.098732               1.599365  \n",
       "2123   3.718313       0.012107              26.730420  \n",
       "7905   3.526816       0.129916              21.656733  \n",
       "10586  0.281692       0.108548              19.390240  \n",
       "6617  -3.073099       0.033144               9.960045  "
      ]
     },
     "execution_count": 37,
     "metadata": {},
     "output_type": "execute_result"
    }
   ],
   "source": [
    "test_df.head()"
   ]
  },
  {
   "cell_type": "code",
   "execution_count": 38,
   "metadata": {},
   "outputs": [
    {
     "name": "stdout",
     "output_type": "stream",
     "text": [
      "test MAE 2.815842979435388\n",
      "test r2 0.905314103406712\n"
     ]
    }
   ],
   "source": [
    "from sklearn.metrics import mean_absolute_error\n",
    "from sklearn.metrics import r2_score\n",
    "\n",
    "print('test MAE', mean_absolute_error(test_df['predicted_tsr'], test_df['tsr']))\n",
    "print('test r2', r2_score(test_df['tsr'], test_df['predicted_tsr']))"
   ]
  },
  {
   "cell_type": "code",
   "execution_count": 36,
   "metadata": {},
   "outputs": [
    {
     "name": "stdout",
     "output_type": "stream",
     "text": [
      "test MAE 2.855160662284437\n",
      "test r2 0.9025367862042929\n"
     ]
    }
   ],
   "source": [
    "from sklearn.metrics import mean_absolute_error\n",
    "from sklearn.metrics import r2_score\n",
    "\n",
    "print('test MAE', mean_absolute_error(test_df['predicted_tsr_kriging'], test_df['tsr']))\n",
    "print('test r2', r2_score(test_df['tsr'], test_df['predicted_tsr_kriging']))"
   ]
  },
  {
   "cell_type": "code",
   "execution_count": null,
   "metadata": {},
   "outputs": [],
   "source": []
  }
 ],
 "metadata": {
  "kernelspec": {
   "display_name": "Python 3",
   "language": "python",
   "name": "python3"
  },
  "language_info": {
   "codemirror_mode": {
    "name": "ipython",
    "version": 3
   },
   "file_extension": ".py",
   "mimetype": "text/x-python",
   "name": "python",
   "nbconvert_exporter": "python",
   "pygments_lexer": "ipython3",
   "version": "3.7.6"
  }
 },
 "nbformat": 4,
 "nbformat_minor": 2
}
