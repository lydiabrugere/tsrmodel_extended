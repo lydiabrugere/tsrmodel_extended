{
 "cells": [
  {
   "cell_type": "code",
   "execution_count": 11,
   "metadata": {},
   "outputs": [],
   "source": [
    "from sqlalchemy import create_engine\n",
    "from numpy import arange\n",
    "import pandas as pd\n",
    "import numpy as np\n",
    "from sklearn.model_selection import train_test_split\n",
    "from sklearn.metrics import r2_score\n",
    "from sklearn.preprocessing import MinMaxScaler\n",
    "from sklearn.impute import KNNImputer\n",
    "\n",
    "from neupy import algorithms\n",
    "\n",
    "import warnings\n",
    "warnings.filterwarnings('ignore')\n",
    "\n",
    "import sys\n",
    "sys.executable\n",
    "\n",
    "from sklearn.metrics import mean_absolute_error\n",
    "from sklearn.metrics import r2_score"
   ]
  },
  {
   "cell_type": "code",
   "execution_count": 3,
   "metadata": {},
   "outputs": [],
   "source": [
    "localhost = {'user': 'postgres', 'password': 'postgres', 'host': 'localhost', 'port': 5432, 'db': 'fiadb'}\n",
    "params = 'postgresql://{0}:{1}@{2}:{3}/{4}'\n",
    "engine = create_engine(params.format(localhost['user'], localhost['password'], localhost['host'], localhost['port'], localhost['db']))\n",
    "pergrid_base = \"\"\"select distinct * from predictor.pergrid_base\"\"\"\n",
    "pergrid_base_df = pd.read_sql(pergrid_base, engine)"
   ]
  },
  {
   "cell_type": "code",
   "execution_count": 4,
   "metadata": {},
   "outputs": [
    {
     "data": {
      "text/plain": [
       "Index(['grid_id', 'aet', 'ai', 'art', 'ewd', 'fa', 'map', 'mat', 'mpdq',\n",
       "       'mtcq', 'pet', 'psn', 'ra', 'rmap', 'rmat', 'tsn', 'mfdf', 'alt', 'shg',\n",
       "       'mtwq', 'wkb_geometry', 'tsr', 'wa'],\n",
       "      dtype='object')"
      ]
     },
     "execution_count": 4,
     "metadata": {},
     "output_type": "execute_result"
    }
   ],
   "source": [
    "pergrid_base_df.columns"
   ]
  },
  {
   "cell_type": "code",
   "execution_count": 5,
   "metadata": {},
   "outputs": [],
   "source": [
    "# separate predictor variables from outcome varaible\n",
    "y = pergrid_base_df['tsr']\n",
    "grid_id = pergrid_base_df['grid_id']\n",
    "var= ['aet', 'ai', 'art', 'ewd', 'fa', 'map', 'mat', 'mpdq',\n",
    "       'mtcq', 'pet', 'psn', 'ra', 'rmap', 'rmat', 'tsn', 'mfdf', 'alt','shg','mtwq', 'wa']\n",
    "pergrid_base_df = pergrid_base_df[var]"
   ]
  },
  {
   "cell_type": "code",
   "execution_count": 6,
   "metadata": {},
   "outputs": [],
   "source": [
    "# encode categorical variable\n",
    "# pergrid_base_df_encoded=pd.get_dummies(pergrid_base_df, columns=[\"shg\"])"
   ]
  },
  {
   "cell_type": "code",
   "execution_count": 7,
   "metadata": {},
   "outputs": [
    {
     "data": {
      "text/html": [
       "<div>\n",
       "<style scoped>\n",
       "    .dataframe tbody tr th:only-of-type {\n",
       "        vertical-align: middle;\n",
       "    }\n",
       "\n",
       "    .dataframe tbody tr th {\n",
       "        vertical-align: top;\n",
       "    }\n",
       "\n",
       "    .dataframe thead th {\n",
       "        text-align: right;\n",
       "    }\n",
       "</style>\n",
       "<table border=\"1\" class=\"dataframe\">\n",
       "  <thead>\n",
       "    <tr style=\"text-align: right;\">\n",
       "      <th></th>\n",
       "      <th>0</th>\n",
       "      <th>1</th>\n",
       "      <th>2</th>\n",
       "      <th>3</th>\n",
       "      <th>4</th>\n",
       "      <th>5</th>\n",
       "      <th>6</th>\n",
       "      <th>7</th>\n",
       "      <th>8</th>\n",
       "      <th>9</th>\n",
       "      <th>10</th>\n",
       "      <th>11</th>\n",
       "      <th>12</th>\n",
       "      <th>13</th>\n",
       "      <th>14</th>\n",
       "      <th>15</th>\n",
       "      <th>16</th>\n",
       "      <th>17</th>\n",
       "      <th>18</th>\n",
       "      <th>19</th>\n",
       "    </tr>\n",
       "  </thead>\n",
       "  <tbody>\n",
       "    <tr>\n",
       "      <th>0</th>\n",
       "      <td>6000.0</td>\n",
       "      <td>0.36750</td>\n",
       "      <td>21.191667</td>\n",
       "      <td>-2.523666e+06</td>\n",
       "      <td>7.7058</td>\n",
       "      <td>681.0</td>\n",
       "      <td>20.036236</td>\n",
       "      <td>87.0</td>\n",
       "      <td>16.299375</td>\n",
       "      <td>1826.768199</td>\n",
       "      <td>50.411522</td>\n",
       "      <td>16.0</td>\n",
       "      <td>2.833333</td>\n",
       "      <td>0.604166</td>\n",
       "      <td>444.860212</td>\n",
       "      <td>2.270</td>\n",
       "      <td>11.597701</td>\n",
       "      <td>5.8</td>\n",
       "      <td>28.792500</td>\n",
       "      <td>4.1166</td>\n",
       "    </tr>\n",
       "    <tr>\n",
       "      <th>1</th>\n",
       "      <td>65535.0</td>\n",
       "      <td>0.38290</td>\n",
       "      <td>20.233612</td>\n",
       "      <td>-2.537902e+06</td>\n",
       "      <td>14.1498</td>\n",
       "      <td>699.0</td>\n",
       "      <td>20.298634</td>\n",
       "      <td>92.0</td>\n",
       "      <td>16.340292</td>\n",
       "      <td>1811.927757</td>\n",
       "      <td>49.797996</td>\n",
       "      <td>14.0</td>\n",
       "      <td>2.000000</td>\n",
       "      <td>0.620833</td>\n",
       "      <td>444.259982</td>\n",
       "      <td>2.100</td>\n",
       "      <td>5.982890</td>\n",
       "      <td>5.0</td>\n",
       "      <td>28.717458</td>\n",
       "      <td>11.8152</td>\n",
       "    </tr>\n",
       "    <tr>\n",
       "      <th>2</th>\n",
       "      <td>65535.0</td>\n",
       "      <td>1.30362</td>\n",
       "      <td>0.164286</td>\n",
       "      <td>-5.247088e+02</td>\n",
       "      <td>0.0711</td>\n",
       "      <td>1148.5</td>\n",
       "      <td>0.309987</td>\n",
       "      <td>131.5</td>\n",
       "      <td>21.304167</td>\n",
       "      <td>1918.111111</td>\n",
       "      <td>0.713689</td>\n",
       "      <td>1.0</td>\n",
       "      <td>1.833333</td>\n",
       "      <td>0.241667</td>\n",
       "      <td>3.698817</td>\n",
       "      <td>6.524</td>\n",
       "      <td>0.011696</td>\n",
       "      <td>2.0</td>\n",
       "      <td>28.626191</td>\n",
       "      <td>302.9049</td>\n",
       "    </tr>\n",
       "    <tr>\n",
       "      <th>3</th>\n",
       "      <td>5135.0</td>\n",
       "      <td>0.28980</td>\n",
       "      <td>23.950167</td>\n",
       "      <td>-2.941595e+06</td>\n",
       "      <td>3.0042</td>\n",
       "      <td>565.0</td>\n",
       "      <td>20.193576</td>\n",
       "      <td>76.0</td>\n",
       "      <td>15.517042</td>\n",
       "      <td>1972.128352</td>\n",
       "      <td>43.001180</td>\n",
       "      <td>108.0</td>\n",
       "      <td>2.333333</td>\n",
       "      <td>0.391667</td>\n",
       "      <td>492.281141</td>\n",
       "      <td>2.120</td>\n",
       "      <td>61.886973</td>\n",
       "      <td>5.4</td>\n",
       "      <td>29.458834</td>\n",
       "      <td>1.2528</td>\n",
       "    </tr>\n",
       "    <tr>\n",
       "      <th>4</th>\n",
       "      <td>5645.0</td>\n",
       "      <td>0.30170</td>\n",
       "      <td>23.526261</td>\n",
       "      <td>-2.959517e+06</td>\n",
       "      <td>10.0350</td>\n",
       "      <td>580.0</td>\n",
       "      <td>20.710174</td>\n",
       "      <td>80.0</td>\n",
       "      <td>15.754000</td>\n",
       "      <td>1928.968811</td>\n",
       "      <td>44.328019</td>\n",
       "      <td>34.0</td>\n",
       "      <td>3.416667</td>\n",
       "      <td>0.620833</td>\n",
       "      <td>489.587254</td>\n",
       "      <td>2.120</td>\n",
       "      <td>32.270955</td>\n",
       "      <td>5.0</td>\n",
       "      <td>29.300416</td>\n",
       "      <td>4.2480</td>\n",
       "    </tr>\n",
       "  </tbody>\n",
       "</table>\n",
       "</div>"
      ],
      "text/plain": [
       "         0        1          2             3        4       5          6  \\\n",
       "0   6000.0  0.36750  21.191667 -2.523666e+06   7.7058   681.0  20.036236   \n",
       "1  65535.0  0.38290  20.233612 -2.537902e+06  14.1498   699.0  20.298634   \n",
       "2  65535.0  1.30362   0.164286 -5.247088e+02   0.0711  1148.5   0.309987   \n",
       "3   5135.0  0.28980  23.950167 -2.941595e+06   3.0042   565.0  20.193576   \n",
       "4   5645.0  0.30170  23.526261 -2.959517e+06  10.0350   580.0  20.710174   \n",
       "\n",
       "       7          8            9         10     11        12        13  \\\n",
       "0   87.0  16.299375  1826.768199  50.411522   16.0  2.833333  0.604166   \n",
       "1   92.0  16.340292  1811.927757  49.797996   14.0  2.000000  0.620833   \n",
       "2  131.5  21.304167  1918.111111   0.713689    1.0  1.833333  0.241667   \n",
       "3   76.0  15.517042  1972.128352  43.001180  108.0  2.333333  0.391667   \n",
       "4   80.0  15.754000  1928.968811  44.328019   34.0  3.416667  0.620833   \n",
       "\n",
       "           14     15         16   17         18        19  \n",
       "0  444.860212  2.270  11.597701  5.8  28.792500    4.1166  \n",
       "1  444.259982  2.100   5.982890  5.0  28.717458   11.8152  \n",
       "2    3.698817  6.524   0.011696  2.0  28.626191  302.9049  \n",
       "3  492.281141  2.120  61.886973  5.4  29.458834    1.2528  \n",
       "4  489.587254  2.120  32.270955  5.0  29.300416    4.2480  "
      ]
     },
     "execution_count": 7,
     "metadata": {},
     "output_type": "execute_result"
    }
   ],
   "source": [
    "# fill NaN with values from neighbor pixels\n",
    "imputer = KNNImputer(n_neighbors=5)\n",
    "pergrid_base_filled = imputer.fit_transform(pergrid_base_df)\n",
    "pergrid_base_df = pd.DataFrame(pergrid_base_filled)\n",
    "pergrid_base_df.head()"
   ]
  },
  {
   "cell_type": "code",
   "execution_count": 8,
   "metadata": {},
   "outputs": [],
   "source": [
    "# standarize predictors\n",
    "ss = MinMaxScaler()\n",
    "xstd = ss.fit_transform(pergrid_base_df)\n",
    "# ystd = ss.fit_transform(y.to_numpy().reshape(-1, 1))"
   ]
  },
  {
   "cell_type": "code",
   "execution_count": 9,
   "metadata": {},
   "outputs": [],
   "source": [
    "X_train, X_test, Y_train, Y_test = train_test_split(xstd, y, test_size=0.1, shuffle=True)"
   ]
  },
  {
   "cell_type": "code",
   "execution_count": 12,
   "metadata": {},
   "outputs": [],
   "source": [
    "std_list = arange(0.05, 1, 0.005)\n",
    "score_list = {}\n",
    "for std in std_list:\n",
    "    nw = algorithms.GRNN(std=std, verbose=False)\n",
    "    nw.train(X_train, Y_train)\n",
    "    Y_test_pred = nw.predict(X_test).flatten()\n",
    "    mae = mean_absolute_error(Y_test_pred, Y_test)\n",
    "    score_list.update({std:mae})"
   ]
  },
  {
   "cell_type": "code",
   "execution_count": 13,
   "metadata": {},
   "outputs": [],
   "source": [
    "sorted_score_list = {k: v for k, v in sorted(score_list.items(), key=lambda item: item[1])}"
   ]
  },
  {
   "cell_type": "code",
   "execution_count": 14,
   "metadata": {},
   "outputs": [
    {
     "data": {
      "text/plain": [
       "{0.11499999999999998: 3.088088378456012,\n",
       " 0.11999999999999997: 3.088683411732108,\n",
       " 0.12499999999999996: 3.0900864930679774,\n",
       " 0.10999999999999997: 3.0904393612849477,\n",
       " 0.12999999999999995: 3.0937871281920795,\n",
       " 0.10499999999999998: 3.096173395495093,\n",
       " 0.13499999999999995: 3.100630891118663,\n",
       " 0.09999999999999998: 3.104786556344591,\n",
       " 0.13999999999999996: 3.108911687489817,\n",
       " 0.09499999999999997: 3.1161135179290427,\n",
       " 0.14499999999999996: 3.1185035985225924,\n",
       " 0.14999999999999997: 3.1291467929558157,\n",
       " 0.08999999999999998: 3.13042395673896,\n",
       " 0.15499999999999997: 3.1406295193689475,\n",
       " 0.08499999999999999: 3.1500687384905337,\n",
       " 0.15999999999999995: 3.1534045555327346,\n",
       " 0.16499999999999992: 3.1678603376135457,\n",
       " 0.07999999999999999: 3.174590616010483,\n",
       " 0.16999999999999993: 3.1831959234755245,\n",
       " 0.17499999999999993: 3.1993725626947094,\n",
       " 0.07499999999999998: 3.2031592549788575,\n",
       " 0.17999999999999994: 3.216729284754008,\n",
       " 0.06999999999999999: 3.233645651427876,\n",
       " 0.18499999999999994: 3.2351781169765506,\n",
       " 0.18999999999999995: 3.254474545733681,\n",
       " 0.065: 3.266442640345061,\n",
       " 0.19499999999999995: 3.2742009248218436,\n",
       " 0.1999999999999999: 3.294106732017299,\n",
       " 0.06: 3.3032480350185454,\n",
       " 0.2049999999999999: 3.314177442388088,\n",
       " 0.2099999999999999: 3.334656905019928,\n",
       " 0.055: 3.346092237857627,\n",
       " 0.2149999999999999: 3.3555909810748132,\n",
       " 0.21999999999999992: 3.376678268885012,\n",
       " 0.22499999999999992: 3.397799612689397,\n",
       " 0.05: 3.3989593558950144,\n",
       " 0.22999999999999993: 3.419193349653408,\n",
       " 0.23499999999999993: 3.441225047417909,\n",
       " 0.23999999999999988: 3.463675709504971,\n",
       " 0.24499999999999988: 3.4864462823614297,\n",
       " 0.2499999999999999: 3.5095275522194407,\n",
       " 0.2549999999999999: 3.532953128568192,\n",
       " 0.2599999999999999: 3.55705748695895,\n",
       " 0.2649999999999999: 3.5819111773310524,\n",
       " 0.2699999999999999: 3.606953281461797,\n",
       " 0.2749999999999999: 3.632508087613235,\n",
       " 0.27999999999999986: 3.658585219024414,\n",
       " 0.28499999999999986: 3.685468249965276,\n",
       " 0.28999999999999987: 3.713038309215713,\n",
       " 0.2949999999999999: 3.741188688180448,\n",
       " 0.2999999999999999: 3.769484722717033,\n",
       " 0.3049999999999999: 3.7980520809142093,\n",
       " 0.3099999999999999: 3.8266739056178536,\n",
       " 0.31499999999999984: 3.855589397368405,\n",
       " 0.31999999999999984: 3.884748303629578,\n",
       " 0.32499999999999984: 3.914359257755397,\n",
       " 0.32999999999999985: 3.94438289914735,\n",
       " 0.33499999999999985: 3.974671628328579,\n",
       " 0.33999999999999986: 4.005044336276964,\n",
       " 0.34499999999999986: 4.03576247407212,\n",
       " 0.3499999999999998: 4.066886644486268,\n",
       " 0.3549999999999998: 4.098372542189803,\n",
       " 0.3599999999999998: 4.130216930285683,\n",
       " 0.3649999999999998: 4.16236014128704,\n",
       " 0.36999999999999983: 4.194887480547006,\n",
       " 0.37499999999999983: 4.228240814714336,\n",
       " 0.37999999999999984: 4.26212673445477,\n",
       " 0.38499999999999984: 4.296523331915361,\n",
       " 0.38999999999999985: 4.331481771053581,\n",
       " 0.3949999999999998: 4.366922302148478,\n",
       " 0.3999999999999998: 4.403459784754353,\n",
       " 0.4049999999999998: 4.440489932038491,\n",
       " 0.4099999999999998: 4.478375023873049,\n",
       " 0.4149999999999998: 4.516658332897536,\n",
       " 0.4199999999999998: 4.5553883111730595,\n",
       " 0.4249999999999998: 4.594486242907383,\n",
       " 0.42999999999999977: 4.6338476410050085,\n",
       " 0.4349999999999998: 4.673312396810132,\n",
       " 0.4399999999999998: 4.713466384666823,\n",
       " 0.4449999999999998: 4.754039113740554,\n",
       " 0.4499999999999998: 4.794775201095806,\n",
       " 0.4549999999999998: 4.835799582422475,\n",
       " 0.4599999999999998: 4.877396950590389,\n",
       " 0.4649999999999998: 4.919261516703877,\n",
       " 0.4699999999999998: 4.961564399630839,\n",
       " 0.47499999999999976: 5.004281827061934,\n",
       " 0.47999999999999976: 5.047367697849725,\n",
       " 0.48499999999999976: 5.09087637850205,\n",
       " 0.48999999999999977: 5.134728775910571,\n",
       " 0.4949999999999998: 5.178619320142551,\n",
       " 0.4999999999999998: 5.22276416002051,\n",
       " 0.5049999999999998: 5.266937557897797,\n",
       " 0.5099999999999998: 5.311360721915034,\n",
       " 0.5149999999999998: 5.35625463410506,\n",
       " 0.5199999999999998: 5.401448618914678,\n",
       " 0.5249999999999998: 5.447069649139414,\n",
       " 0.5299999999999998: 5.493083907866265,\n",
       " 0.5349999999999998: 5.539447585946112,\n",
       " 0.5399999999999998: 5.586208828470272,\n",
       " 0.5449999999999998: 5.633296401334828,\n",
       " 0.5499999999999998: 5.680797257006789,\n",
       " 0.5549999999999998: 5.728692577973076,\n",
       " 0.5599999999999998: 5.776370825623091,\n",
       " 0.5649999999999998: 5.8239126807353605,\n",
       " 0.5699999999999998: 5.8713425110960245,\n",
       " 0.5749999999999997: 5.918644251121714,\n",
       " 0.5799999999999997: 5.966255848269563,\n",
       " 0.5849999999999997: 6.014506779620088,\n",
       " 0.5899999999999997: 6.062825832852148,\n",
       " 0.5949999999999998: 6.11134522572552,\n",
       " 0.5999999999999998: 6.159860187245094,\n",
       " 0.6049999999999998: 6.208235538736585,\n",
       " 0.6099999999999998: 6.256417211029857,\n",
       " 0.6149999999999998: 6.304371064016445,\n",
       " 0.6199999999999998: 6.352027177190771,\n",
       " 0.6249999999999998: 6.399576397744247,\n",
       " 0.6299999999999998: 6.446786152690109,\n",
       " 0.6349999999999998: 6.493638934705562,\n",
       " 0.6399999999999998: 6.5404133825243695,\n",
       " 0.6449999999999998: 6.587069706911572,\n",
       " 0.6499999999999997: 6.633602477643617,\n",
       " 0.6549999999999997: 6.6798305907139115,\n",
       " 0.6599999999999997: 6.725864110254315,\n",
       " 0.6649999999999997: 6.771491157463453,\n",
       " 0.6699999999999997: 6.8168374567674705,\n",
       " 0.6749999999999997: 6.8618000266467,\n",
       " 0.6799999999999997: 6.906494952321966,\n",
       " 0.6849999999999997: 6.950937002521581,\n",
       " 0.6899999999999997: 6.99506642531467,\n",
       " 0.6949999999999997: 7.0387225649834395,\n",
       " 0.6999999999999997: 7.082067787386544,\n",
       " 0.7049999999999997: 7.125220665896,\n",
       " 0.7099999999999997: 7.168107933841763,\n",
       " 0.7149999999999997: 7.210723216224741,\n",
       " 0.7199999999999998: 7.252927458553114,\n",
       " 0.7249999999999998: 7.294618378528116,\n",
       " 0.7299999999999998: 7.335831188905503,\n",
       " 0.7349999999999997: 7.376631827739261,\n",
       " 0.7399999999999997: 7.417018696147858,\n",
       " 0.7449999999999997: 7.457056952560474,\n",
       " 0.7499999999999997: 7.496771320025196,\n",
       " 0.7549999999999997: 7.53617773462927,\n",
       " 0.7599999999999997: 7.575194638863624,\n",
       " 0.7649999999999997: 7.613803969132985,\n",
       " 0.7699999999999997: 7.651954554238807,\n",
       " 0.7749999999999997: 7.689573842901689,\n",
       " 0.7799999999999997: 7.726846346715683,\n",
       " 0.7849999999999997: 7.763722498097082,\n",
       " 0.7899999999999997: 7.800161621194636,\n",
       " 0.7949999999999997: 7.836170156060302,\n",
       " 0.7999999999999997: 7.871683460751246,\n",
       " 0.8049999999999997: 7.9068153806807855,\n",
       " 0.8099999999999996: 7.941497400682211,\n",
       " 0.8149999999999996: 7.975769685234149,\n",
       " 0.8199999999999996: 8.009570641040428,\n",
       " 0.8249999999999996: 8.042902974250858,\n",
       " 0.8299999999999996: 8.075763249645254,\n",
       " 0.8349999999999996: 8.108152808760574,\n",
       " 0.8399999999999996: 8.140106091950232,\n",
       " 0.8449999999999996: 8.171647068436968,\n",
       " 0.8499999999999996: 8.202730349518635,\n",
       " 0.8549999999999996: 8.23336207689256,\n",
       " 0.8599999999999997: 8.263548403988375,\n",
       " 0.8649999999999997: 8.29336837606166,\n",
       " 0.8699999999999997: 8.322840133279993,\n",
       " 0.8749999999999997: 8.352089050925358,\n",
       " 0.8799999999999997: 8.381146145531375,\n",
       " 0.8849999999999997: 8.409870010298034,\n",
       " 0.8899999999999997: 8.43832849025615,\n",
       " 0.8949999999999996: 8.466489722911387,\n",
       " 0.8999999999999996: 8.494366162355673,\n",
       " 0.9049999999999996: 8.522035118262755,\n",
       " 0.9099999999999996: 8.549517588242214,\n",
       " 0.9149999999999996: 8.576675351539594,\n",
       " 0.9199999999999996: 8.603473631695714,\n",
       " 0.9249999999999996: 8.629890639565195,\n",
       " 0.9299999999999996: 8.655952946705208,\n",
       " 0.9349999999999996: 8.681679418077481,\n",
       " 0.9399999999999996: 8.707116255063845,\n",
       " 0.9449999999999996: 8.732199346441439,\n",
       " 0.9499999999999996: 8.756971916692208,\n",
       " 0.9549999999999996: 8.781436482224931,\n",
       " 0.9599999999999996: 8.805597363346717,\n",
       " 0.9649999999999996: 8.829431363888038,\n",
       " 0.9699999999999995: 8.852939730832036,\n",
       " 0.9749999999999995: 8.876210927217695,\n",
       " 0.9799999999999995: 8.899187706826796,\n",
       " 0.9849999999999995: 8.921896904714552,\n",
       " 0.9899999999999995: 8.944333065966479,\n",
       " 0.9949999999999996: 8.9665150908413}"
      ]
     },
     "execution_count": 14,
     "metadata": {},
     "output_type": "execute_result"
    }
   ],
   "source": [
    "sorted_score_list"
   ]
  },
  {
   "cell_type": "code",
   "execution_count": 379,
   "metadata": {},
   "outputs": [],
   "source": [
    "nw = algorithms.GRNN(std=0.115, verbose=False) # 0.108 3.0961740739964703"
   ]
  },
  {
   "cell_type": "code",
   "execution_count": 380,
   "metadata": {},
   "outputs": [],
   "source": [
    "nw.train(X_train, Y_train)"
   ]
  },
  {
   "cell_type": "markdown",
   "metadata": {},
   "source": [
    "### Evaluation Metrics"
   ]
  },
  {
   "cell_type": "code",
   "execution_count": 381,
   "metadata": {},
   "outputs": [],
   "source": [
    "from sklearn.metrics import mean_absolute_error\n",
    "from sklearn.metrics import r2_score"
   ]
  },
  {
   "cell_type": "code",
   "execution_count": 382,
   "metadata": {},
   "outputs": [
    {
     "name": "stdout",
     "output_type": "stream",
     "text": [
      "train MAE 2.195526005601421\n",
      "train r2 0.9311774290082482\n"
     ]
    }
   ],
   "source": [
    "Y_train_pred = nw.predict(X_train).flatten()\n",
    "print('train MAE', mean_absolute_error(Y_train_pred, Y_train))\n",
    "print('train r2', r2_score(Y_train, Y_train_pred))"
   ]
  },
  {
   "cell_type": "code",
   "execution_count": 383,
   "metadata": {},
   "outputs": [
    {
     "name": "stdout",
     "output_type": "stream",
     "text": [
      "test MAE 3.142242743736709\n",
      "test r2 0.8858662888890027\n"
     ]
    }
   ],
   "source": [
    "Y_test_pred = nw.predict(X_test).flatten()\n",
    "print('test MAE', mean_absolute_error(Y_test_pred, Y_test))\n",
    "print('test r2', r2_score(Y_test, Y_test_pred))"
   ]
  },
  {
   "cell_type": "code",
   "execution_count": 384,
   "metadata": {},
   "outputs": [],
   "source": [
    "grnn_y_test = pd.DataFrame(\n",
    "    {'tsr': Y_test,\n",
    "     'tsr_predicted': Y_test_pred})\n",
    "grnn_y_test.to_sql(name='grnn_y_test', con=engine, schema='predictor', if_exists='replace', index=False)"
   ]
  },
  {
   "cell_type": "markdown",
   "metadata": {},
   "source": [
    "### Ingest TSR predictions to PG"
   ]
  },
  {
   "cell_type": "code",
   "execution_count": 385,
   "metadata": {},
   "outputs": [],
   "source": [
    "y_pred = nw.predict(xstd).flatten()"
   ]
  },
  {
   "cell_type": "code",
   "execution_count": 386,
   "metadata": {},
   "outputs": [],
   "source": [
    "pergrid_all_predicted = pd.DataFrame(\n",
    "    {'grid_id': grid_id,\n",
    "     'tsr': y,\n",
    "     'tsr_predicted': y_pred})"
   ]
  },
  {
   "cell_type": "code",
   "execution_count": 387,
   "metadata": {},
   "outputs": [
    {
     "data": {
      "text/html": [
       "<div>\n",
       "<style scoped>\n",
       "    .dataframe tbody tr th:only-of-type {\n",
       "        vertical-align: middle;\n",
       "    }\n",
       "\n",
       "    .dataframe tbody tr th {\n",
       "        vertical-align: top;\n",
       "    }\n",
       "\n",
       "    .dataframe thead th {\n",
       "        text-align: right;\n",
       "    }\n",
       "</style>\n",
       "<table border=\"1\" class=\"dataframe\">\n",
       "  <thead>\n",
       "    <tr style=\"text-align: right;\">\n",
       "      <th></th>\n",
       "      <th>grid_id</th>\n",
       "      <th>tsr</th>\n",
       "      <th>tsr_predicted</th>\n",
       "    </tr>\n",
       "  </thead>\n",
       "  <tbody>\n",
       "    <tr>\n",
       "      <th>0</th>\n",
       "      <td>110</td>\n",
       "      <td>4.0</td>\n",
       "      <td>3.276433</td>\n",
       "    </tr>\n",
       "    <tr>\n",
       "      <th>1</th>\n",
       "      <td>111</td>\n",
       "      <td>2.0</td>\n",
       "      <td>2.000123</td>\n",
       "    </tr>\n",
       "    <tr>\n",
       "      <th>2</th>\n",
       "      <td>195</td>\n",
       "      <td>5.0</td>\n",
       "      <td>4.994345</td>\n",
       "    </tr>\n",
       "    <tr>\n",
       "      <th>3</th>\n",
       "      <td>337</td>\n",
       "      <td>1.0</td>\n",
       "      <td>2.803938</td>\n",
       "    </tr>\n",
       "    <tr>\n",
       "      <th>4</th>\n",
       "      <td>338</td>\n",
       "      <td>1.0</td>\n",
       "      <td>2.795763</td>\n",
       "    </tr>\n",
       "  </tbody>\n",
       "</table>\n",
       "</div>"
      ],
      "text/plain": [
       "   grid_id  tsr  tsr_predicted\n",
       "0      110  4.0       3.276433\n",
       "1      111  2.0       2.000123\n",
       "2      195  5.0       4.994345\n",
       "3      337  1.0       2.803938\n",
       "4      338  1.0       2.795763"
      ]
     },
     "execution_count": 387,
     "metadata": {},
     "output_type": "execute_result"
    }
   ],
   "source": [
    "pergrid_all_predicted.head()"
   ]
  },
  {
   "cell_type": "code",
   "execution_count": 388,
   "metadata": {},
   "outputs": [],
   "source": [
    "pergrid_all_predicted.to_sql(name='grnn', con=engine, schema='predictor', if_exists='replace', index=False)"
   ]
  },
  {
   "cell_type": "code",
   "execution_count": 389,
   "metadata": {},
   "outputs": [],
   "source": [
    "update_geom = \"\"\"\n",
    "alter table predictor.grnn add column if not exists wkb_geometry geometry(Polygon,4269);\n",
    "update predictor.grnn A SET wkb_geometry = B.wkb_geometry\n",
    "FROM predictor.pergrid_base B\n",
    "WHERE A.grid_id = B.grid_id\n",
    "\"\"\""
   ]
  },
  {
   "cell_type": "code",
   "execution_count": 390,
   "metadata": {},
   "outputs": [
    {
     "data": {
      "text/plain": [
       "<sqlalchemy.engine.result.ResultProxy at 0x7fdb21aa49d0>"
      ]
     },
     "execution_count": 390,
     "metadata": {},
     "output_type": "execute_result"
    }
   ],
   "source": [
    "connection = engine.connect()\n",
    "connection.execute(update_geom)"
   ]
  },
  {
   "cell_type": "code",
   "execution_count": 391,
   "metadata": {},
   "outputs": [],
   "source": [
    "update_residual = \"\"\"\n",
    "alter table predictor.grnn add column residual double precision;\n",
    "update predictor.grnn set residual = (tsr_predicted-tsr);\n",
    "\"\"\""
   ]
  },
  {
   "cell_type": "code",
   "execution_count": 392,
   "metadata": {},
   "outputs": [
    {
     "data": {
      "text/plain": [
       "<sqlalchemy.engine.result.ResultProxy at 0x7fda41cc1050>"
      ]
     },
     "execution_count": 392,
     "metadata": {},
     "output_type": "execute_result"
    }
   ],
   "source": [
    "connection = engine.connect()\n",
    "connection.execute(update_residual)"
   ]
  },
  {
   "cell_type": "code",
   "execution_count": null,
   "metadata": {},
   "outputs": [],
   "source": []
  },
  {
   "cell_type": "code",
   "execution_count": null,
   "metadata": {},
   "outputs": [],
   "source": []
  }
 ],
 "metadata": {
  "kernelspec": {
   "display_name": "Python 3",
   "language": "python",
   "name": "python3"
  },
  "language_info": {
   "codemirror_mode": {
    "name": "ipython",
    "version": 3
   },
   "file_extension": ".py",
   "mimetype": "text/x-python",
   "name": "python",
   "nbconvert_exporter": "python",
   "pygments_lexer": "ipython3",
   "version": "3.7.6"
  }
 },
 "nbformat": 4,
 "nbformat_minor": 4
}
