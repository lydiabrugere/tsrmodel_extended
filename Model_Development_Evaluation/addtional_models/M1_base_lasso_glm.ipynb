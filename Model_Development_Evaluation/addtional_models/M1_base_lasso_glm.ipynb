{
 "cells": [
  {
   "cell_type": "code",
   "execution_count": 1,
   "metadata": {},
   "outputs": [],
   "source": [
    "# Jupyter setup to expand cell display to 100% width on your screen (optional)\n",
    "# Import relevant modules and setup for calling glmnet\n",
    "%reset -f\n",
    "%matplotlib inline\n",
    "\n",
    "from sqlalchemy import create_engine\n",
    "import sys\n",
    "import pandas as pd\n",
    "import numpy as np\n",
    "import scipy, importlib, pprint, matplotlib.pyplot as plt, warnings\n",
    "from sklearn.model_selection import train_test_split\n",
    "from sklearn.preprocessing import StandardScaler\n",
    "\n",
    "import statsmodels.api as sm\n",
    "import statsmodels.genmod as genmod\n",
    "from statsmodels.stats.outliers_influence import variance_inflation_factor\n",
    "from sklearn.metrics import mean_absolute_error\n",
    "\n",
    "from sklearn.base import BaseEstimator, RegressorMixin\n",
    "from sklearn.model_selection import cross_val_score\n",
    "import sklearn.model_selection as ms"
   ]
  },
  {
   "cell_type": "markdown",
   "metadata": {},
   "source": [
    "## Load TSR and attributes data from DB"
   ]
  },
  {
   "cell_type": "code",
   "execution_count": 2,
   "metadata": {},
   "outputs": [
    {
     "name": "stdout",
     "output_type": "stream",
     "text": [
      "(15310, 22)\n",
      "(13503, 22)\n"
     ]
    }
   ],
   "source": [
    "localhost = {'user': 'postgres', 'password': 'postgres', 'host': 'localhost', 'port': 5432, 'db': 'fiadb'}\n",
    "params = 'postgresql://{0}:{1}@{2}:{3}/{4}'\n",
    "engine = create_engine(params.format(localhost['user'], localhost['password'], localhost['host'], localhost['port'], localhost['db']))\n",
    "# geom_sql = \"\"\"select distinct grid_id, grid_geom from fs_fiadb.pergrid\"\"\"\n",
    "pergrid_base = \"\"\"select distinct * from predictor.pergrid_base\"\"\"\n",
    "pergrid_base_df = pd.read_sql(pergrid_base, engine)\n",
    "print(pergrid_base_df.shape)\n",
    "pergrid_base_df_na_remove = pergrid_base_df.dropna()\n",
    "print(pergrid_base_df_na_remove.shape)"
   ]
  },
  {
   "cell_type": "markdown",
   "metadata": {},
   "source": [
    "## Process TSR predictor and outcome varaibles"
   ]
  },
  {
   "cell_type": "code",
   "execution_count": 3,
   "metadata": {},
   "outputs": [],
   "source": [
    "pergrid_base_encoded=pd.get_dummies(pergrid_base_df_na_remove, columns=[\"hydrogroup\"])"
   ]
  },
  {
   "cell_type": "code",
   "execution_count": 4,
   "metadata": {
    "scrolled": true
   },
   "outputs": [
    {
     "name": "stdout",
     "output_type": "stream",
     "text": [
      "Index(['grid_id', 'aet', 'ai', 'art', 'ewd', 'fa', 'map', 'mat', 'mpdq',\n",
      "       'mtcq', 'pet', 'psn', 'ra', 'rmap', 'rmat', 'tsn', 'mfdf', 'alt',\n",
      "       'mtwq', 'wkb_geometry', 'tsr', 'hydrogroup_A', 'hydrogroup_A/D',\n",
      "       'hydrogroup_B', 'hydrogroup_B/D', 'hydrogroup_C', 'hydrogroup_C/D',\n",
      "       'hydrogroup_D'],\n",
      "      dtype='object')\n"
     ]
    }
   ],
   "source": [
    "print(pergrid_base_encoded.columns)"
   ]
  },
  {
   "cell_type": "code",
   "execution_count": 5,
   "metadata": {},
   "outputs": [],
   "source": [
    "lasso_var= [\"mpdq\", \"fa\", \"tsn\", \"pet\", \"alt\", \"ra\", \"map\", \"aet\", \"ewd\"]\n",
    "X = pergrid_base_encoded[lasso_var]"
   ]
  },
  {
   "cell_type": "code",
   "execution_count": 6,
   "metadata": {},
   "outputs": [],
   "source": [
    "# standarize predictors\n",
    "ss = StandardScaler(with_mean=False, with_std=False)\n",
    "X_std = ss.fit_transform(X.values)\n",
    "\n",
    "Xstd=pd.DataFrame(data=X_std[0:,0:],\n",
    "                index=X.index,\n",
    "                columns=lasso_var)"
   ]
  },
  {
   "cell_type": "code",
   "execution_count": 7,
   "metadata": {},
   "outputs": [],
   "source": [
    "y_true = pergrid_base_encoded['tsr']"
   ]
  },
  {
   "cell_type": "code",
   "execution_count": 8,
   "metadata": {},
   "outputs": [],
   "source": [
    "# X_train, X_test, y_train, y_test = train_test_split(Xstd, y_true, test_size=0.2, random_state=0)\n",
    "X_train, X_test, y_train, y_test = train_test_split(Xstd, y_true, test_size=0.2, random_state=0)"
   ]
  },
  {
   "cell_type": "markdown",
   "metadata": {},
   "source": [
    "## Calculate VIF"
   ]
  },
  {
   "cell_type": "code",
   "execution_count": 10,
   "metadata": {},
   "outputs": [
    {
     "data": {
      "text/plain": [
       "mpdq    13.259813\n",
       "fa       5.230895\n",
       "tsn      8.439359\n",
       "pet     59.975969\n",
       "alt      7.237232\n",
       "ra       5.591052\n",
       "map     23.217014\n",
       "aet      1.662599\n",
       "ewd     20.953972\n",
       "dtype: float64"
      ]
     },
     "execution_count": 10,
     "metadata": {},
     "output_type": "execute_result"
    }
   ],
   "source": [
    "# if the VIF is between 5-10, multicolinearity is likely present and you should consider dropping the variable.\n",
    "pd.Series([variance_inflation_factor(Xstd.values, i) \n",
    "               for i in range(Xstd.shape[1])], \n",
    "              index=Xstd.columns)"
   ]
  },
  {
   "cell_type": "markdown",
   "metadata": {},
   "source": [
    "## Build GLM Model"
   ]
  },
  {
   "cell_type": "code",
   "execution_count": 11,
   "metadata": {},
   "outputs": [],
   "source": [
    "poisson_model = sm.GLM(y_train, X_train, family=sm.families.Poisson())"
   ]
  },
  {
   "cell_type": "code",
   "execution_count": 12,
   "metadata": {},
   "outputs": [],
   "source": [
    "poisson_results = poisson_model.fit()"
   ]
  },
  {
   "cell_type": "code",
   "execution_count": 13,
   "metadata": {},
   "outputs": [
    {
     "name": "stdout",
     "output_type": "stream",
     "text": [
      "                 Generalized Linear Model Regression Results                  \n",
      "==============================================================================\n",
      "Dep. Variable:                    tsr   No. Observations:                10802\n",
      "Model:                            GLM   Df Residuals:                    10793\n",
      "Model Family:                 Poisson   Df Model:                            8\n",
      "Link Function:                    log   Scale:                          1.0000\n",
      "Method:                          IRLS   Log-Likelihood:                -36245.\n",
      "Date:                Wed, 08 Apr 2020   Deviance:                       26619.\n",
      "Time:                        19:45:31   Pearson chi2:                 2.56e+04\n",
      "No. Iterations:                     5                                         \n",
      "Covariance Type:            nonrobust                                         \n",
      "==============================================================================\n",
      "                 coef    std err          z      P>|z|      [0.025      0.975]\n",
      "------------------------------------------------------------------------------\n",
      "mpdq           0.0033   5.13e-05     64.457      0.000       0.003       0.003\n",
      "fa             0.0032   3.12e-05    101.702      0.000       0.003       0.003\n",
      "tsn            0.0016   1.08e-05    147.946      0.000       0.002       0.002\n",
      "pet            0.0010   1.36e-05     70.127      0.000       0.001       0.001\n",
      "alt           -0.0005   1.02e-05    -47.233      0.000      -0.000      -0.000\n",
      "ra         -5.628e-06   1.33e-05     -0.422      0.673   -3.18e-05    2.05e-05\n",
      "map            0.0002   1.21e-05     20.355      0.000       0.000       0.000\n",
      "aet         7.071e-07   2.67e-07      2.646      0.008    1.83e-07    1.23e-06\n",
      "ewd         5.055e-07   7.47e-09     67.634      0.000    4.91e-07     5.2e-07\n",
      "==============================================================================\n"
     ]
    }
   ],
   "source": [
    "print(poisson_results.summary())"
   ]
  },
  {
   "cell_type": "markdown",
   "metadata": {},
   "source": [
    "## Build Cross-validation GLM Model"
   ]
  },
  {
   "cell_type": "code",
   "execution_count": 14,
   "metadata": {},
   "outputs": [],
   "source": [
    "class SMWrapper(BaseEstimator, RegressorMixin):\n",
    "    \"\"\" A universal sklearn-style wrapper for statsmodels GLM w/ Possion \"\"\"\n",
    "    def __init__(self, model_class, fit_intercept=True):\n",
    "        self.model_class = model_class\n",
    "        self.fit_intercept = fit_intercept\n",
    "    def fit(self, X, y):\n",
    "        if self.fit_intercept:\n",
    "            X = sm.add_constant(X)\n",
    "        self.model_ = self.model_class(y, X, sm.families.Poisson())\n",
    "        self.results_ = self.model_.fit()\n",
    "    def predict(self, X):\n",
    "        if self.fit_intercept:\n",
    "            X = sm.add_constant(X)\n",
    "        return self.results_.predict(X)"
   ]
  },
  {
   "cell_type": "code",
   "execution_count": 15,
   "metadata": {},
   "outputs": [],
   "source": [
    "wrapped_possion_glm = SMWrapper(sm.GLM)"
   ]
  },
  {
   "cell_type": "code",
   "execution_count": 16,
   "metadata": {},
   "outputs": [
    {
     "name": "stderr",
     "output_type": "stream",
     "text": [
      "/Users/lianfeng/Document/species_richness_sdm/venv/lib/python3.6/site-packages/numpy/core/fromnumeric.py:2542: FutureWarning: Method .ptp is deprecated and will be removed in a future version. Use numpy.ptp instead.\n",
      "  return ptp(axis=axis, out=out, **kwargs)\n"
     ]
    }
   ],
   "source": [
    "wrapped_possion_glm.fit(Xstd,y_true)"
   ]
  },
  {
   "cell_type": "markdown",
   "metadata": {},
   "source": [
    "## Model Evaluation"
   ]
  },
  {
   "cell_type": "code",
   "execution_count": 17,
   "metadata": {},
   "outputs": [
    {
     "name": "stdout",
     "output_type": "stream",
     "text": [
      "[0.75484457 0.76394775 0.75918327 0.75580873 0.75762677]\n"
     ]
    },
    {
     "name": "stderr",
     "output_type": "stream",
     "text": [
      "/Users/lianfeng/Document/species_richness_sdm/venv/lib/python3.6/site-packages/sklearn/model_selection/_split.py:667: UserWarning: The least populated class in y has only 1 members, which is less than n_splits=5.\n",
      "  % (min_groups, self.n_splits)), UserWarning)\n",
      "/Users/lianfeng/Document/species_richness_sdm/venv/lib/python3.6/site-packages/numpy/core/fromnumeric.py:2542: FutureWarning: Method .ptp is deprecated and will be removed in a future version. Use numpy.ptp instead.\n",
      "  return ptp(axis=axis, out=out, **kwargs)\n",
      "/Users/lianfeng/Document/species_richness_sdm/venv/lib/python3.6/site-packages/numpy/core/fromnumeric.py:2542: FutureWarning: Method .ptp is deprecated and will be removed in a future version. Use numpy.ptp instead.\n",
      "  return ptp(axis=axis, out=out, **kwargs)\n",
      "/Users/lianfeng/Document/species_richness_sdm/venv/lib/python3.6/site-packages/numpy/core/fromnumeric.py:2542: FutureWarning: Method .ptp is deprecated and will be removed in a future version. Use numpy.ptp instead.\n",
      "  return ptp(axis=axis, out=out, **kwargs)\n",
      "/Users/lianfeng/Document/species_richness_sdm/venv/lib/python3.6/site-packages/numpy/core/fromnumeric.py:2542: FutureWarning: Method .ptp is deprecated and will be removed in a future version. Use numpy.ptp instead.\n",
      "  return ptp(axis=axis, out=out, **kwargs)\n",
      "/Users/lianfeng/Document/species_richness_sdm/venv/lib/python3.6/site-packages/numpy/core/fromnumeric.py:2542: FutureWarning: Method .ptp is deprecated and will be removed in a future version. Use numpy.ptp instead.\n",
      "  return ptp(axis=axis, out=out, **kwargs)\n"
     ]
    }
   ],
   "source": [
    "print(cross_val_score(wrapped_possion_glm, Xstd, y_true, scoring='r2', cv = ms.StratifiedKFold(shuffle = True)))"
   ]
  },
  {
   "cell_type": "code",
   "execution_count": 18,
   "metadata": {},
   "outputs": [
    {
     "name": "stdout",
     "output_type": "stream",
     "text": [
      "Cross-validated R2: \n"
     ]
    },
    {
     "data": {
      "text/plain": [
       "0.758060412"
      ]
     },
     "execution_count": 18,
     "metadata": {},
     "output_type": "execute_result"
    }
   ],
   "source": [
    "print(\"Cross-validated R2: \",)\n",
    "sum([0.76476378,0.75316275,0.75810444,0.7704703,0.74380079])/5"
   ]
  },
  {
   "cell_type": "code",
   "execution_count": 19,
   "metadata": {},
   "outputs": [
    {
     "name": "stdout",
     "output_type": "stream",
     "text": [
      "[-4.95497311 -4.76473108 -4.80091369 -4.85612298 -4.90726798]\n"
     ]
    },
    {
     "name": "stderr",
     "output_type": "stream",
     "text": [
      "/Users/lianfeng/Document/species_richness_sdm/venv/lib/python3.6/site-packages/sklearn/model_selection/_split.py:667: UserWarning: The least populated class in y has only 1 members, which is less than n_splits=5.\n",
      "  % (min_groups, self.n_splits)), UserWarning)\n",
      "/Users/lianfeng/Document/species_richness_sdm/venv/lib/python3.6/site-packages/numpy/core/fromnumeric.py:2542: FutureWarning: Method .ptp is deprecated and will be removed in a future version. Use numpy.ptp instead.\n",
      "  return ptp(axis=axis, out=out, **kwargs)\n",
      "/Users/lianfeng/Document/species_richness_sdm/venv/lib/python3.6/site-packages/numpy/core/fromnumeric.py:2542: FutureWarning: Method .ptp is deprecated and will be removed in a future version. Use numpy.ptp instead.\n",
      "  return ptp(axis=axis, out=out, **kwargs)\n",
      "/Users/lianfeng/Document/species_richness_sdm/venv/lib/python3.6/site-packages/numpy/core/fromnumeric.py:2542: FutureWarning: Method .ptp is deprecated and will be removed in a future version. Use numpy.ptp instead.\n",
      "  return ptp(axis=axis, out=out, **kwargs)\n",
      "/Users/lianfeng/Document/species_richness_sdm/venv/lib/python3.6/site-packages/numpy/core/fromnumeric.py:2542: FutureWarning: Method .ptp is deprecated and will be removed in a future version. Use numpy.ptp instead.\n",
      "  return ptp(axis=axis, out=out, **kwargs)\n",
      "/Users/lianfeng/Document/species_richness_sdm/venv/lib/python3.6/site-packages/numpy/core/fromnumeric.py:2542: FutureWarning: Method .ptp is deprecated and will be removed in a future version. Use numpy.ptp instead.\n",
      "  return ptp(axis=axis, out=out, **kwargs)\n"
     ]
    }
   ],
   "source": [
    "print(cross_val_score(wrapped_possion_glm, Xstd, y_true, scoring='neg_mean_absolute_error', cv = ms.StratifiedKFold(shuffle = True)))"
   ]
  },
  {
   "cell_type": "code",
   "execution_count": 20,
   "metadata": {},
   "outputs": [
    {
     "name": "stdout",
     "output_type": "stream",
     "text": [
      "Cross-validated MAE: \n"
     ]
    },
    {
     "data": {
      "text/plain": [
       "4.85703466"
      ]
     },
     "execution_count": 20,
     "metadata": {},
     "output_type": "execute_result"
    }
   ],
   "source": [
    "print(\"Cross-validated MAE: \",)\n",
    "abs(sum([-4.81841455, -5.03859822, -4.85686593, -4.7553791,-4.8159155])/5)"
   ]
  },
  {
   "cell_type": "code",
   "execution_count": 21,
   "metadata": {},
   "outputs": [
    {
     "name": "stdout",
     "output_type": "stream",
     "text": [
      "P values of predictors: \n",
      "mpdq    0.000000e+00\n",
      "fa      0.000000e+00\n",
      "tsn     0.000000e+00\n",
      "pet     0.000000e+00\n",
      "alt     0.000000e+00\n",
      "ewd     0.000000e+00\n",
      "map     4.175534e-92\n",
      "aet     8.142814e-03\n",
      "ra      6.728446e-01\n",
      "dtype: float64\n"
     ]
    }
   ],
   "source": [
    "# null hypothesis: predictors have no effect; A low p-value (< 0.05) indicates that the null hypothesis can be rejected\n",
    "print(\"P values of predictors: \")\n",
    "print(poisson_results.pvalues.sort_values(ascending=True))"
   ]
  },
  {
   "cell_type": "code",
   "execution_count": 22,
   "metadata": {},
   "outputs": [
    {
     "name": "stdout",
     "output_type": "stream",
     "text": [
      "Predictors which are not statistically significant:\n",
      "ra    0.672845\n",
      "dtype: float64\n"
     ]
    }
   ],
   "source": [
    "print(\"Predictors which are not statistically significant:\")\n",
    "print(poisson_results.pvalues[poisson_results.pvalues > 0.05])"
   ]
  },
  {
   "cell_type": "markdown",
   "metadata": {},
   "source": [
    "## Model Prediction"
   ]
  },
  {
   "cell_type": "code",
   "execution_count": 23,
   "metadata": {},
   "outputs": [
    {
     "name": "stderr",
     "output_type": "stream",
     "text": [
      "/Users/lianfeng/Document/species_richness_sdm/venv/lib/python3.6/site-packages/numpy/core/fromnumeric.py:2542: FutureWarning: Method .ptp is deprecated and will be removed in a future version. Use numpy.ptp instead.\n",
      "  return ptp(axis=axis, out=out, **kwargs)\n"
     ]
    }
   ],
   "source": [
    "Y_pred = wrapped_possion_glm.predict(Xstd)"
   ]
  },
  {
   "cell_type": "code",
   "execution_count": 24,
   "metadata": {},
   "outputs": [],
   "source": [
    "pergrid_all_predicted = pd.DataFrame(\n",
    "    {'grid_id': pergrid_base_encoded['grid_id'].to_list(),\n",
    "     'tsr': pergrid_base_encoded['tsr'].to_list(),\n",
    "     'tsr_predicted': Y_pred.tolist()})"
   ]
  },
  {
   "cell_type": "code",
   "execution_count": 25,
   "metadata": {},
   "outputs": [
    {
     "data": {
      "text/html": [
       "<div>\n",
       "<style scoped>\n",
       "    .dataframe tbody tr th:only-of-type {\n",
       "        vertical-align: middle;\n",
       "    }\n",
       "\n",
       "    .dataframe tbody tr th {\n",
       "        vertical-align: top;\n",
       "    }\n",
       "\n",
       "    .dataframe thead th {\n",
       "        text-align: right;\n",
       "    }\n",
       "</style>\n",
       "<table border=\"1\" class=\"dataframe\">\n",
       "  <thead>\n",
       "    <tr style=\"text-align: right;\">\n",
       "      <th></th>\n",
       "      <th>grid_id</th>\n",
       "      <th>tsr</th>\n",
       "      <th>tsr_predicted</th>\n",
       "    </tr>\n",
       "  </thead>\n",
       "  <tbody>\n",
       "    <tr>\n",
       "      <th>0</th>\n",
       "      <td>111</td>\n",
       "      <td>2.0</td>\n",
       "      <td>5.717853</td>\n",
       "    </tr>\n",
       "    <tr>\n",
       "      <th>1</th>\n",
       "      <td>338</td>\n",
       "      <td>1.0</td>\n",
       "      <td>4.879671</td>\n",
       "    </tr>\n",
       "    <tr>\n",
       "      <th>2</th>\n",
       "      <td>339</td>\n",
       "      <td>2.0</td>\n",
       "      <td>5.139307</td>\n",
       "    </tr>\n",
       "    <tr>\n",
       "      <th>3</th>\n",
       "      <td>340</td>\n",
       "      <td>2.0</td>\n",
       "      <td>5.477383</td>\n",
       "    </tr>\n",
       "    <tr>\n",
       "      <th>4</th>\n",
       "      <td>342</td>\n",
       "      <td>2.0</td>\n",
       "      <td>5.591175</td>\n",
       "    </tr>\n",
       "  </tbody>\n",
       "</table>\n",
       "</div>"
      ],
      "text/plain": [
       "   grid_id  tsr  tsr_predicted\n",
       "0      111  2.0       5.717853\n",
       "1      338  1.0       4.879671\n",
       "2      339  2.0       5.139307\n",
       "3      340  2.0       5.477383\n",
       "4      342  2.0       5.591175"
      ]
     },
     "execution_count": 25,
     "metadata": {},
     "output_type": "execute_result"
    }
   ],
   "source": [
    "pergrid_all_predicted.head()"
   ]
  },
  {
   "cell_type": "code",
   "execution_count": 26,
   "metadata": {},
   "outputs": [
    {
     "name": "stderr",
     "output_type": "stream",
     "text": [
      "/Users/lianfeng/Document/species_richness_sdm/venv/lib/python3.6/site-packages/sqlalchemy/dialects/postgresql/base.py:3010: SAWarning: Did not recognize type 'geometry' of column 'wkb_geometry'\n",
      "  \"Did not recognize type '%s' of column '%s'\" % (attype, name)\n"
     ]
    }
   ],
   "source": [
    "pergrid_all_predicted.to_sql(name='m1_base_lasso_glm', con=engine, schema='predictor', if_exists='replace', index=False)"
   ]
  },
  {
   "cell_type": "code",
   "execution_count": 27,
   "metadata": {},
   "outputs": [],
   "source": [
    "update_geom = \"\"\"\n",
    "alter table predictor.m1_base_lasso_glm add column if not exists wkb_geometry geometry(Polygon,4269);\n",
    "update predictor.m1_base_lasso_glm A SET wkb_geometry = B.wkb_geometry\n",
    "FROM predictor.pergrid_base B\n",
    "WHERE A.grid_id = B.grid_id\n",
    "\"\"\""
   ]
  },
  {
   "cell_type": "code",
   "execution_count": 28,
   "metadata": {},
   "outputs": [
    {
     "data": {
      "text/plain": [
       "<sqlalchemy.engine.result.ResultProxy at 0x130093c88>"
      ]
     },
     "execution_count": 28,
     "metadata": {},
     "output_type": "execute_result"
    }
   ],
   "source": [
    "connection = engine.connect()\n",
    "connection.execute(update_geom)"
   ]
  },
  {
   "cell_type": "code",
   "execution_count": 29,
   "metadata": {},
   "outputs": [],
   "source": [
    "update_residual = \"\"\"\n",
    "alter table predictor.m1_base_lasso_glm add column residual double precision;\n",
    "update predictor.m1_base_lasso_glm set residual = (tsr_predicted-tsr);\n",
    "\"\"\""
   ]
  },
  {
   "cell_type": "code",
   "execution_count": 30,
   "metadata": {},
   "outputs": [
    {
     "data": {
      "text/plain": [
       "<sqlalchemy.engine.result.ResultProxy at 0x130093198>"
      ]
     },
     "execution_count": 30,
     "metadata": {},
     "output_type": "execute_result"
    }
   ],
   "source": [
    "connection = engine.connect()\n",
    "connection.execute(update_residual)"
   ]
  },
  {
   "cell_type": "code",
   "execution_count": null,
   "metadata": {},
   "outputs": [],
   "source": []
  },
  {
   "cell_type": "code",
   "execution_count": null,
   "metadata": {},
   "outputs": [],
   "source": []
  }
 ],
 "metadata": {
  "kernelspec": {
   "display_name": "Python 3",
   "language": "python",
   "name": "python3"
  },
  "language_info": {
   "codemirror_mode": {
    "name": "ipython",
    "version": 3
   },
   "file_extension": ".py",
   "mimetype": "text/x-python",
   "name": "python",
   "nbconvert_exporter": "python",
   "pygments_lexer": "ipython3",
   "version": "3.7.6"
  }
 },
 "nbformat": 4,
 "nbformat_minor": 2
}
